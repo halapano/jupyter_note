{
 "cells": [
  {
   "cell_type": "markdown",
   "metadata": {},
   "source": [
    "> 重新开始学习 另外一本书  Hands-on Machine Learning with Scikit-Learn, Keras, and TensorFlow 2020-5-23 15:00:19，上一本书很多内容没有讲清楚。\n",
    "\n",
    "- 总共有10章，一个周能学一章就不错。"
   ]
  },
  {
   "cell_type": "code",
   "execution_count": 30,
   "metadata": {},
   "outputs": [],
   "source": [
    "import numpy as np\n",
    "import pandas as pd\n",
    "import matplotlib.pyplot as plt\n",
    "import tensorflow as tf\n",
    "from tensorflow import keras"
   ]
  },
  {
   "cell_type": "code",
   "execution_count": 2,
   "metadata": {},
   "outputs": [
    {
     "data": {
      "text/plain": [
       "'2.1.0'"
      ]
     },
     "execution_count": 2,
     "metadata": {},
     "output_type": "execute_result"
    }
   ],
   "source": [
    "tf.__version__"
   ]
  },
  {
   "cell_type": "code",
   "execution_count": 3,
   "metadata": {},
   "outputs": [
    {
     "data": {
      "text/plain": [
       "'2.2.4-tf'"
      ]
     },
     "execution_count": 3,
     "metadata": {},
     "output_type": "execute_result"
    }
   ],
   "source": [
    "keras.__version__"
   ]
  },
  {
   "cell_type": "markdown",
   "metadata": {},
   "source": [
    "# introduction"
   ]
  },
  {
   "cell_type": "markdown",
   "metadata": {},
   "source": [
    "## The perception\n",
    "- TLU: Threshold logic unit / step funcion after a linear regression \n",
    "- A Perceptron is simply composed of a single layer of TLUs\n",
    "- serious weaknesses of Perceptrons—in particular, the fact that they are incapable of solving some trivial problems (e.g., the Exclusive OR (XOR) classification problem;\n",
    "- MLP: Multilayer Perception"
   ]
  },
  {
   "cell_type": "markdown",
   "metadata": {},
   "source": [
    "## The Multilayer Perceptron and Backpropagation\n",
    "\n",
    "- For many years researchers struggled to find a way to train MLPs,\n",
    "- backpropagation algorithm is able to compute the gradient of the network’s error with regard to every single model parameter.\n",
    "- It is important to initialize all the hidden layers’ connection weights randomly\n",
    "- activation function:\n",
    "    - tanh: hyperbolic tangent/ which often helps speed up convergence/ (-1,1) \n",
    "    - RelU: rectified linear unit, defaults/ fast  "
   ]
  },
  {
   "cell_type": "markdown",
   "metadata": {},
   "source": [
    "## Regression MLPs\n",
    "- multivariate regression"
   ]
  },
  {
   "cell_type": "markdown",
   "metadata": {},
   "source": [
    "## Classification MLPs\n",
    "- cross-entropy loss (also called the log loss, see Chapter 4) is generally a good choice"
   ]
  },
  {
   "cell_type": "markdown",
   "metadata": {},
   "source": [
    "### Activation Function\n",
    "\n",
    "- The softmax function (introduced in Chapter 4) will ensure that all the estimated probabilities are between 0 and 1 and that they add up to 1 (which is required if the classes are exclusive)."
   ]
  },
  {
   "cell_type": "markdown",
   "metadata": {},
   "source": [
    "## Implementing MLPs with Keras\n",
    "- create\n",
    "- compile\n",
    "- fit\n",
    "- evaluate\n",
    "- predict\n"
   ]
  },
  {
   "cell_type": "code",
   "execution_count": 4,
   "metadata": {},
   "outputs": [],
   "source": [
    "fashion_mnist = keras.datasets.fashion_mnist"
   ]
  },
  {
   "cell_type": "code",
   "execution_count": 5,
   "metadata": {},
   "outputs": [],
   "source": [
    "(X_train_full, y_train_full), (X_test, y_test) = fashion_mnist.load_data()"
   ]
  },
  {
   "cell_type": "code",
   "execution_count": 6,
   "metadata": {},
   "outputs": [
    {
     "data": {
      "text/plain": [
       "dtype('uint8')"
      ]
     },
     "execution_count": 6,
     "metadata": {},
     "output_type": "execute_result"
    }
   ],
   "source": [
    "X_train_full.dtype"
   ]
  },
  {
   "cell_type": "code",
   "execution_count": 7,
   "metadata": {},
   "outputs": [
    {
     "data": {
      "text/plain": [
       "numpy.ndarray"
      ]
     },
     "execution_count": 7,
     "metadata": {},
     "output_type": "execute_result"
    }
   ],
   "source": [
    "type(X_train_full)"
   ]
  },
  {
   "cell_type": "code",
   "execution_count": 8,
   "metadata": {},
   "outputs": [],
   "source": [
    "X_valid, X_train = X_train_full[:5000] / 255.0, X_train_full[5000:] / 255.0\n",
    "y_valid, y_train = y_train_full[:5000], y_train_full[5000:]"
   ]
  },
  {
   "cell_type": "code",
   "execution_count": 9,
   "metadata": {},
   "outputs": [],
   "source": [
    "# Wrong, can't save 3D array\n",
    "# np.savetxt(r'./keras_datasets/fm_X_train_full.csv',X_train_full)"
   ]
  },
  {
   "cell_type": "code",
   "execution_count": 10,
   "metadata": {},
   "outputs": [],
   "source": [
    "class_names = [\"T-shirt/top\", \"Trouser\", \"Pullover\", \"Dress\", \"Coat\",\n",
    "\"Sandal\", \"Shirt\", \"Sneaker\", \"Bag\", \"Ankle boot\"]"
   ]
  },
  {
   "cell_type": "code",
   "execution_count": 11,
   "metadata": {},
   "outputs": [
    {
     "data": {
      "text/plain": [
       "'Coat'"
      ]
     },
     "execution_count": 11,
     "metadata": {},
     "output_type": "execute_result"
    }
   ],
   "source": [
    "class_names[y_train[0]]"
   ]
  },
  {
   "cell_type": "code",
   "execution_count": 12,
   "metadata": {},
   "outputs": [
    {
     "name": "stdout",
     "output_type": "stream",
     "text": [
      "(60000, 28, 28) (60000,)\n"
     ]
    }
   ],
   "source": [
    "print(X_train_full.shape, y_train_full.shape)"
   ]
  },
  {
   "cell_type": "code",
   "execution_count": 13,
   "metadata": {},
   "outputs": [
    {
     "name": "stdout",
     "output_type": "stream",
     "text": [
      "[4 0 7 9 9 9 4 4 3 4]\n"
     ]
    }
   ],
   "source": [
    "print(y_train[:10])"
   ]
  },
  {
   "cell_type": "markdown",
   "metadata": {},
   "source": [
    "### Creating the model using the Sequential API \n",
    "\n",
    "- Sequential Model: a single stack of layers\n",
    "- model.summary\n",
    "- model.layers\n",
    "- layers.get_weights"
   ]
  },
  {
   "cell_type": "code",
   "execution_count": 18,
   "metadata": {},
   "outputs": [],
   "source": [
    "model = keras.models.Sequential()\n",
    "\n",
    "# Flatten layer: preprocessing, the shape of instance rather than batch\n",
    "# it reshape the input inot x.reshape(-1,1)\n",
    "model.add(keras.layers.Flatten(input_shape=[28, 28]))\n",
    "\n",
    "\n",
    "# Dense Layer: Notice that the Dense layer initialized the connection weights randomly (which is\n",
    "# needed to break symmetry, as we discussed earlier),\n",
    "model.add(keras.layers.Dense(300, activation=\"relu\"))\n",
    "model.add(keras.layers.Dense(100, activation=\"relu\"))\n",
    "\n",
    "# output layer\n",
    "# For multiclass use softmax, \n",
    "# For binary cldassification ,use sigmoid and binary_crossentropy\n",
    "model.add(keras.layers.Dense(10, activation=\"softmax\"))\n",
    "\n",
    "\n",
    "\n",
    "# Another Organization\n",
    "# ```\n",
    "# model = keras.models.Sequential([\n",
    "# keras.layers.Flatten(input_shape=[28, 28]),\n",
    "# keras.layers.Dense(300, activation=\"relu\"),\n",
    "# keras.layers.Dense(100, activation=\"relu\"),\n",
    "# keras.layers.Dense(10, activation=\"softmax\")\n",
    "# ])\n",
    "\n",
    "# ```"
   ]
  },
  {
   "cell_type": "code",
   "execution_count": 16,
   "metadata": {},
   "outputs": [
    {
     "name": "stdout",
     "output_type": "stream",
     "text": [
      "Model: \"sequential\"\n",
      "_________________________________________________________________\n",
      "Layer (type)                 Output Shape              Param #   \n",
      "=================================================================\n",
      "flatten (Flatten)            (None, 784)               0         \n",
      "_________________________________________________________________\n",
      "dense (Dense)                (None, 300)               235500    \n",
      "_________________________________________________________________\n",
      "dense_1 (Dense)              (None, 100)               30100     \n",
      "_________________________________________________________________\n",
      "dense_2 (Dense)              (None, 10)                1010      \n",
      "=================================================================\n",
      "Total params: 266,610\n",
      "Trainable params: 266,610\n",
      "Non-trainable params: 0\n",
      "_________________________________________________________________\n"
     ]
    }
   ],
   "source": [
    "model.summary()"
   ]
  },
  {
   "cell_type": "code",
   "execution_count": 20,
   "metadata": {},
   "outputs": [
    {
     "data": {
      "text/plain": [
       "[<tensorflow.python.keras.layers.core.Flatten at 0x18adf854f88>,\n",
       " <tensorflow.python.keras.layers.core.Dense at 0x18adf84e388>,\n",
       " <tensorflow.python.keras.layers.core.Dense at 0x18aba5be208>,\n",
       " <tensorflow.python.keras.layers.core.Dense at 0x18adf86f808>]"
      ]
     },
     "execution_count": 20,
     "metadata": {},
     "output_type": "execute_result"
    }
   ],
   "source": [
    "model.layers"
   ]
  },
  {
   "cell_type": "code",
   "execution_count": 21,
   "metadata": {},
   "outputs": [],
   "source": [
    "hid1 = model.layers[1]"
   ]
  },
  {
   "cell_type": "code",
   "execution_count": 22,
   "metadata": {},
   "outputs": [
    {
     "data": {
      "text/plain": [
       "'dense_3'"
      ]
     },
     "execution_count": 22,
     "metadata": {},
     "output_type": "execute_result"
    }
   ],
   "source": [
    "hid1.name"
   ]
  },
  {
   "cell_type": "code",
   "execution_count": 23,
   "metadata": {},
   "outputs": [],
   "source": [
    "# After a model is created, you must call its compile() method to specify the loss function\n",
    "# and the optimizer to use.\n",
    "\n",
    "# kwpara:\n",
    "# loss_wight: can define different loss_weight to different output.\n",
    "model.compile(loss=\"sparse_categorical_crossentropy\",\n",
    "optimizer=\"sgd\",\n",
    "metrics=[\"accuracy\"])"
   ]
  },
  {
   "cell_type": "code",
   "execution_count": 27,
   "metadata": {},
   "outputs": [
    {
     "name": "stdout",
     "output_type": "stream",
     "text": [
      "Train on 55000 samples, validate on 5000 samples\n",
      "Epoch 1/30\n",
      "55000/55000 [==============================] - 5s 94us/sample - loss: 0.7348 - accuracy: 0.7589 - val_loss: 0.5124 - val_accuracy: 0.8330\n",
      "Epoch 2/30\n",
      "55000/55000 [==============================] - 3s 60us/sample - loss: 0.4924 - accuracy: 0.8308 - val_loss: 0.4597 - val_accuracy: 0.8488\n",
      "Epoch 3/30\n",
      "55000/55000 [==============================] - 3s 59us/sample - loss: 0.4449 - accuracy: 0.8443 - val_loss: 0.4085 - val_accuracy: 0.8612\n",
      "Epoch 4/30\n",
      "55000/55000 [==============================] - 3s 59us/sample - loss: 0.4146 - accuracy: 0.8560 - val_loss: 0.4055 - val_accuracy: 0.8636\n",
      "Epoch 5/30\n",
      "55000/55000 [==============================] - 3s 59us/sample - loss: 0.3951 - accuracy: 0.8624 - val_loss: 0.3904 - val_accuracy: 0.8678\n",
      "Epoch 6/30\n",
      "55000/55000 [==============================] - 4s 79us/sample - loss: 0.3772 - accuracy: 0.8661 - val_loss: 0.3676 - val_accuracy: 0.8716\n",
      "Epoch 7/30\n",
      "55000/55000 [==============================] - 3s 58us/sample - loss: 0.3644 - accuracy: 0.8719 - val_loss: 0.3858 - val_accuracy: 0.8652\n",
      "Epoch 8/30\n",
      "55000/55000 [==============================] - 3s 58us/sample - loss: 0.3527 - accuracy: 0.8749 - val_loss: 0.3520 - val_accuracy: 0.8740\n",
      "Epoch 9/30\n",
      "55000/55000 [==============================] - 3s 57us/sample - loss: 0.3420 - accuracy: 0.8781 - val_loss: 0.3534 - val_accuracy: 0.8760\n",
      "Epoch 10/30\n",
      "55000/55000 [==============================] - 3s 59us/sample - loss: 0.3316 - accuracy: 0.8824 - val_loss: 0.3364 - val_accuracy: 0.8824\n",
      "Epoch 11/30\n",
      "55000/55000 [==============================] - 3s 61us/sample - loss: 0.3249 - accuracy: 0.8836 - val_loss: 0.3338 - val_accuracy: 0.8792\n",
      "Epoch 12/30\n",
      "55000/55000 [==============================] - 3s 60us/sample - loss: 0.3163 - accuracy: 0.8870 - val_loss: 0.3532 - val_accuracy: 0.8730\n",
      "Epoch 13/30\n",
      "55000/55000 [==============================] - 3s 59us/sample - loss: 0.3089 - accuracy: 0.8887 - val_loss: 0.3306 - val_accuracy: 0.8808\n",
      "Epoch 14/30\n",
      "55000/55000 [==============================] - 3s 59us/sample - loss: 0.3017 - accuracy: 0.8922 - val_loss: 0.3294 - val_accuracy: 0.8878\n",
      "Epoch 15/30\n",
      "55000/55000 [==============================] - 3s 59us/sample - loss: 0.2957 - accuracy: 0.8944 - val_loss: 0.3380 - val_accuracy: 0.8762\n",
      "Epoch 16/30\n",
      "55000/55000 [==============================] - 3s 60us/sample - loss: 0.2888 - accuracy: 0.8961 - val_loss: 0.3216 - val_accuracy: 0.8862\n",
      "Epoch 17/30\n",
      "55000/55000 [==============================] - 3s 62us/sample - loss: 0.2824 - accuracy: 0.8986 - val_loss: 0.3065 - val_accuracy: 0.8900\n",
      "Epoch 18/30\n",
      "55000/55000 [==============================] - 3s 63us/sample - loss: 0.2769 - accuracy: 0.9003 - val_loss: 0.3033 - val_accuracy: 0.8930\n",
      "Epoch 19/30\n",
      "55000/55000 [==============================] - 3s 63us/sample - loss: 0.2721 - accuracy: 0.9007 - val_loss: 0.3189 - val_accuracy: 0.8834\n",
      "Epoch 20/30\n",
      "55000/55000 [==============================] - 3s 61us/sample - loss: 0.2666 - accuracy: 0.9030 - val_loss: 0.3021 - val_accuracy: 0.8936\n",
      "Epoch 21/30\n",
      "55000/55000 [==============================] - 3s 63us/sample - loss: 0.2615 - accuracy: 0.9066 - val_loss: 0.3331 - val_accuracy: 0.8804\n",
      "Epoch 22/30\n",
      "55000/55000 [==============================] - 3s 63us/sample - loss: 0.2576 - accuracy: 0.9064 - val_loss: 0.3215 - val_accuracy: 0.8868\n",
      "Epoch 23/30\n",
      "55000/55000 [==============================] - 3s 62us/sample - loss: 0.2532 - accuracy: 0.9085 - val_loss: 0.2997 - val_accuracy: 0.8890\n",
      "Epoch 24/30\n",
      "55000/55000 [==============================] - 3s 62us/sample - loss: 0.2485 - accuracy: 0.9095 - val_loss: 0.3060 - val_accuracy: 0.8904\n",
      "Epoch 25/30\n",
      "55000/55000 [==============================] - 3s 61us/sample - loss: 0.2439 - accuracy: 0.9122 - val_loss: 0.2952 - val_accuracy: 0.8948\n",
      "Epoch 26/30\n",
      "55000/55000 [==============================] - 3s 62us/sample - loss: 0.2405 - accuracy: 0.9139 - val_loss: 0.3020 - val_accuracy: 0.8896\n",
      "Epoch 27/30\n",
      "55000/55000 [==============================] - 3s 63us/sample - loss: 0.2354 - accuracy: 0.9161 - val_loss: 0.3442 - val_accuracy: 0.8780\n",
      "Epoch 28/30\n",
      "55000/55000 [==============================] - 3s 62us/sample - loss: 0.2318 - accuracy: 0.9181 - val_loss: 0.2904 - val_accuracy: 0.8926\n",
      "Epoch 29/30\n",
      "55000/55000 [==============================] - 3s 62us/sample - loss: 0.2288 - accuracy: 0.9179 - val_loss: 0.2988 - val_accuracy: 0.8942\n",
      "Epoch 30/30\n",
      "55000/55000 [==============================] - 4s 64us/sample - loss: 0.2249 - accuracy: 0.9191 - val_loss: 0.2972 - val_accuracy: 0.8880\n"
     ]
    }
   ],
   "source": [
    "# kwpara of fit:\n",
    "# class_weight: if the train dataset is skewed\n",
    "# sample_weight: if some sample is labeled by expert\n",
    "\n",
    "history = model.fit(X_train, y_train, epochs=30, validation_data=(X_valid, y_valid))"
   ]
  },
  {
   "cell_type": "code",
   "execution_count": 33,
   "metadata": {},
   "outputs": [
    {
     "data": {
      "image/png": "[encoded data removed]",
      "text/plain": [
       "<Figure size 576x360 with 1 Axes>"
      ]
     },
     "metadata": {
      "needs_background": "light"
     },
     "output_type": "display_data"
    }
   ],
   "source": [
    "pd.DataFrame(history.history).plot(figsize=(8, 5))\n",
    "plt.grid(True)\n",
    "plt.gca().set_ylim(0, 1) # set the vertical range to [0-1]\n",
    "plt.show()"
   ]
  },
  {
   "cell_type": "code",
   "execution_count": 34,
   "metadata": {},
   "outputs": [
    {
     "data": {
      "text/html": [
       "<div>\n",
       "<style scoped>\n",
       "    .dataframe tbody tr th:only-of-type {\n",
       "        vertical-align: middle;\n",
       "    }\n",
       "\n",
       "    .dataframe tbody tr th {\n",
       "        vertical-align: top;\n",
       "    }\n",
       "\n",
       "    .dataframe thead th {\n",
       "        text-align: right;\n",
       "    }\n",
       "</style>\n",
       "<table border=\"1\" class=\"dataframe\">\n",
       "  <thead>\n",
       "    <tr style=\"text-align: right;\">\n",
       "      <th></th>\n",
       "      <th>loss</th>\n",
       "      <th>accuracy</th>\n",
       "      <th>val_loss</th>\n",
       "      <th>val_accuracy</th>\n",
       "    </tr>\n",
       "  </thead>\n",
       "  <tbody>\n",
       "    <tr>\n",
       "      <th>0</th>\n",
       "      <td>0.734849</td>\n",
       "      <td>0.758927</td>\n",
       "      <td>0.512355</td>\n",
       "      <td>0.8330</td>\n",
       "    </tr>\n",
       "    <tr>\n",
       "      <th>1</th>\n",
       "      <td>0.492381</td>\n",
       "      <td>0.830836</td>\n",
       "      <td>0.459708</td>\n",
       "      <td>0.8488</td>\n",
       "    </tr>\n",
       "    <tr>\n",
       "      <th>2</th>\n",
       "      <td>0.444856</td>\n",
       "      <td>0.844255</td>\n",
       "      <td>0.408535</td>\n",
       "      <td>0.8612</td>\n",
       "    </tr>\n",
       "    <tr>\n",
       "      <th>3</th>\n",
       "      <td>0.414552</td>\n",
       "      <td>0.855982</td>\n",
       "      <td>0.405529</td>\n",
       "      <td>0.8636</td>\n",
       "    </tr>\n",
       "    <tr>\n",
       "      <th>4</th>\n",
       "      <td>0.395134</td>\n",
       "      <td>0.862418</td>\n",
       "      <td>0.390376</td>\n",
       "      <td>0.8678</td>\n",
       "    </tr>\n",
       "  </tbody>\n",
       "</table>\n",
       "</div>"
      ],
      "text/plain": [
       "       loss  accuracy  val_loss  val_accuracy\n",
       "0  0.734849  0.758927  0.512355        0.8330\n",
       "1  0.492381  0.830836  0.459708        0.8488\n",
       "2  0.444856  0.844255  0.408535        0.8612\n",
       "3  0.414552  0.855982  0.405529        0.8636\n",
       "4  0.395134  0.862418  0.390376        0.8678"
      ]
     },
     "execution_count": 34,
     "metadata": {},
     "output_type": "execute_result"
    }
   ],
   "source": [
    "history_df = pd.DataFrame(history.history)\n",
    "history_df.head()"
   ]
  },
  {
   "cell_type": "code",
   "execution_count": 35,
   "metadata": {},
   "outputs": [
    {
     "data": {
      "text/plain": [
       "(30, 4)"
      ]
     },
     "execution_count": 35,
     "metadata": {},
     "output_type": "execute_result"
    }
   ],
   "source": [
    "history_df.shape"
   ]
  },
  {
   "cell_type": "code",
   "execution_count": 36,
   "metadata": {},
   "outputs": [
    {
     "name": "stdout",
     "output_type": "stream",
     "text": [
      "10000/10000 [==============================] - 0s 42us/sample - loss: 60.4346 - accuracy: 0.8520\n"
     ]
    },
    {
     "data": {
      "text/plain": [
       "[60.43462267608643, 0.852]"
      ]
     },
     "execution_count": 36,
     "metadata": {},
     "output_type": "execute_result"
    }
   ],
   "source": [
    "model.evaluate(X_test, y_test)"
   ]
  },
  {
   "cell_type": "markdown",
   "metadata": {},
   "source": [
    "### Building a Regression MLP Using the Sequential API \n",
    "\n",
    "- The main differences are the fact that the output layer has a single neuron (since we only want to predict a single value) and uses no activation function"
   ]
  },
  {
   "cell_type": "code",
   "execution_count": 38,
   "metadata": {},
   "outputs": [],
   "source": [
    "from sklearn.datasets import fetch_california_housing\n",
    "from sklearn.model_selection import train_test_split\n",
    "from sklearn.preprocessing import StandardScaler"
   ]
  },
  {
   "cell_type": "markdown",
   "metadata": {},
   "source": [
    "### Building Complex Models Using the Functional API\n",
    "- One example of a nonsequential neural network is a Wide & Deep neural network.\n",
    "- call the Dense as a function\n",
    "```\n",
    "input_ = keras.layers.Input(shape=X_train.shape[1:])\n",
    "hidden1 = keras.layers.Dense(30, activation=\"relu\")(input_)  #here like a function\n",
    "hidden2 = keras.layers.Dense(30, activation=\"relu\")(hidden1)\n",
    "concat = keras.layers.Concatenate()([input_, hidden2])\n",
    "output = keras.layers.Dense(1)(concat)\n",
    "model = keras.Model(inputs=[input_], outputs=[output])\n",
    "```"
   ]
  },
  {
   "cell_type": "markdown",
   "metadata": {},
   "source": [
    "### Using the Subclassing API to Build Dynamic Models\n",
    "- unless you really need\n",
    "that extra flexibility, you should probably stick to the Sequential API or the Functional\n",
    "API."
   ]
  },
  {
   "cell_type": "markdown",
   "metadata": {},
   "source": [
    "### Saving and Restoring a Model\n",
    "\n",
    "```\n",
    "model = keras.models.Sequential([...]) # or keras.Model([...])\n",
    "model.compile([...])\n",
    "model.fit([...])\n",
    "model.save(\"my_keras_model.h5\")\n",
    "model = keras.models.load_model(\"my_keras_model.h5\")\n",
    "\n",
    "```"
   ]
  },
  {
   "cell_type": "markdown",
   "metadata": {},
   "source": [
    "### Using Callbacks\n",
    "\n",
    "```\n",
    "checkpoint_cb = keras.callbacks.ModelCheckpoint(\"my_keras_model.h5\")\n",
    "history = model.fit(X_train, y_train, epochs=10, callbacks=[checkpoint_cb])\n",
    "\n",
    "```"
   ]
  },
  {
   "cell_type": "markdown",
   "metadata": {},
   "source": [
    "### Using TensorBoard for Visualization\n",
    "\n",
    "- you must modify your program so that it outputs the data you want to visualize to special binary log files called event file"
   ]
  },
  {
   "cell_type": "code",
   "execution_count": 39,
   "metadata": {},
   "outputs": [],
   "source": [
    "import os\n",
    "root_logdir = os.path.join(os.curdir, \"my_logs\")\n",
    "\n",
    "def get_run_logdir():\n",
    "    import time\n",
    "    run_id = time.strftime(\"run_%Y_%m_%d-%H_%M_%S\")\n",
    "    return os.path.join(root_logdir, run_id)\n",
    "\n",
    "run_logdir = get_run_logdir() # e.g., './my_logs/run_2019_06_07-15_15_22'"
   ]
  },
  {
   "cell_type": "code",
   "execution_count": 40,
   "metadata": {},
   "outputs": [
    {
     "name": "stdout",
     "output_type": "stream",
     "text": [
      "Train on 55000 samples, validate on 5000 samples\n",
      "Epoch 1/30\n",
      "   32/55000 [..............................] - ETA: 1:53 - loss: 0.1740 - accuracy: 0.9375WARNING:tensorflow:Method (on_train_batch_end) is slow compared to the batch update (0.179594). Check your callbacks.\n",
      "55000/55000 [==============================] - 4s 81us/sample - loss: 0.2203 - accuracy: 0.9212 - val_loss: 0.2939 - val_accuracy: 0.8976\n",
      "Epoch 2/30\n",
      "55000/55000 [==============================] - 4s 71us/sample - loss: 0.2168 - accuracy: 0.9228 - val_loss: 0.3048 - val_accuracy: 0.8874\n",
      "Epoch 3/30\n",
      "55000/55000 [==============================] - 4s 70us/sample - loss: 0.2136 - accuracy: 0.9241 - val_loss: 0.2859 - val_accuracy: 0.8992\n",
      "Epoch 4/30\n",
      "55000/55000 [==============================] - 4s 72us/sample - loss: 0.2098 - accuracy: 0.9245 - val_loss: 0.2876 - val_accuracy: 0.8946\n",
      "Epoch 5/30\n",
      "55000/55000 [==============================] - 4s 69us/sample - loss: 0.2070 - accuracy: 0.9261 - val_loss: 0.2974 - val_accuracy: 0.8930\n",
      "Epoch 6/30\n",
      "55000/55000 [==============================] - 4s 74us/sample - loss: 0.2026 - accuracy: 0.9269 - val_loss: 0.3034 - val_accuracy: 0.8936\n",
      "Epoch 7/30\n",
      "55000/55000 [==============================] - 4s 68us/sample - loss: 0.1999 - accuracy: 0.9283 - val_loss: 0.2919 - val_accuracy: 0.8974\n",
      "Epoch 8/30\n",
      "55000/55000 [==============================] - 4s 68us/sample - loss: 0.1973 - accuracy: 0.9298 - val_loss: 0.2889 - val_accuracy: 0.8966\n",
      "Epoch 9/30\n",
      "55000/55000 [==============================] - 4s 70us/sample - loss: 0.1941 - accuracy: 0.9314 - val_loss: 0.2943 - val_accuracy: 0.8928\n",
      "Epoch 10/30\n",
      "55000/55000 [==============================] - 4s 70us/sample - loss: 0.1913 - accuracy: 0.9309 - val_loss: 0.2952 - val_accuracy: 0.8938\n",
      "Epoch 11/30\n",
      "55000/55000 [==============================] - 4s 68us/sample - loss: 0.1869 - accuracy: 0.9330 - val_loss: 0.2899 - val_accuracy: 0.8982\n",
      "Epoch 12/30\n",
      "55000/55000 [==============================] - 4s 69us/sample - loss: 0.1860 - accuracy: 0.9339 - val_loss: 0.3203 - val_accuracy: 0.8820\n",
      "Epoch 13/30\n",
      "55000/55000 [==============================] - 4s 74us/sample - loss: 0.1820 - accuracy: 0.9345 - val_loss: 0.2936 - val_accuracy: 0.8976\n",
      "Epoch 14/30\n",
      "55000/55000 [==============================] - 5s 85us/sample - loss: 0.1792 - accuracy: 0.9375 - val_loss: 0.3112 - val_accuracy: 0.8860\n",
      "Epoch 15/30\n",
      "55000/55000 [==============================] - 4s 77us/sample - loss: 0.1767 - accuracy: 0.9363 - val_loss: 0.2995 - val_accuracy: 0.8938\n",
      "Epoch 16/30\n",
      "55000/55000 [==============================] - 4s 76us/sample - loss: 0.1727 - accuracy: 0.9398 - val_loss: 0.3216 - val_accuracy: 0.8834\n",
      "Epoch 17/30\n",
      "55000/55000 [==============================] - 4s 74us/sample - loss: 0.1707 - accuracy: 0.9388 - val_loss: 0.2980 - val_accuracy: 0.8962\n",
      "Epoch 18/30\n",
      "55000/55000 [==============================] - 4s 81us/sample - loss: 0.1690 - accuracy: 0.9397 - val_loss: 0.2974 - val_accuracy: 0.8938\n",
      "Epoch 19/30\n",
      "55000/55000 [==============================] - 5s 84us/sample - loss: 0.1655 - accuracy: 0.9402 - val_loss: 0.3061 - val_accuracy: 0.8934\n",
      "Epoch 20/30\n",
      "55000/55000 [==============================] - 4s 71us/sample - loss: 0.1622 - accuracy: 0.9430 - val_loss: 0.2871 - val_accuracy: 0.8990\n",
      "Epoch 21/30\n",
      "55000/55000 [==============================] - 4s 69us/sample - loss: 0.1595 - accuracy: 0.9434 - val_loss: 0.2957 - val_accuracy: 0.8956\n",
      "Epoch 22/30\n",
      "55000/55000 [==============================] - 4s 71us/sample - loss: 0.1577 - accuracy: 0.9441 - val_loss: 0.3035 - val_accuracy: 0.8974\n",
      "Epoch 23/30\n",
      "55000/55000 [==============================] - 4s 68us/sample - loss: 0.1547 - accuracy: 0.9454 - val_loss: 0.2980 - val_accuracy: 0.8956\n",
      "Epoch 24/30\n",
      "55000/55000 [==============================] - 4s 71us/sample - loss: 0.1522 - accuracy: 0.9458 - val_loss: 0.2917 - val_accuracy: 0.8992\n",
      "Epoch 25/30\n",
      "55000/55000 [==============================] - 4s 74us/sample - loss: 0.1510 - accuracy: 0.9465 - val_loss: 0.3036 - val_accuracy: 0.8992\n",
      "Epoch 26/30\n",
      "55000/55000 [==============================] - 4s 76us/sample - loss: 0.1474 - accuracy: 0.9478 - val_loss: 0.3180 - val_accuracy: 0.8926\n",
      "Epoch 27/30\n",
      "55000/55000 [==============================] - 4s 72us/sample - loss: 0.1453 - accuracy: 0.9494 - val_loss: 0.3144 - val_accuracy: 0.8932\n",
      "Epoch 28/30\n",
      "55000/55000 [==============================] - 4s 72us/sample - loss: 0.1438 - accuracy: 0.9492 - val_loss: 0.3077 - val_accuracy: 0.8956\n",
      "Epoch 29/30\n",
      "55000/55000 [==============================] - 4s 73us/sample - loss: 0.1402 - accuracy: 0.9499 - val_loss: 0.3036 - val_accuracy: 0.8950\n",
      "Epoch 30/30\n",
      "55000/55000 [==============================] - 4s 72us/sample - loss: 0.1386 - accuracy: 0.9517 - val_loss: 0.3412 - val_accuracy: 0.8866\n"
     ]
    }
   ],
   "source": [
    "tensorboard_cb = keras.callbacks.TensorBoard(run_logdir)\n",
    "history = model.fit(X_train, y_train, epochs=30,\n",
    "                    validation_data=(X_valid, y_valid),\n",
    "                    callbacks=[tensorboard_cb])"
   ]
  },
  {
   "cell_type": "code",
   "execution_count": 41,
   "metadata": {},
   "outputs": [
    {
     "data": {
      "text/plain": [
       "Reusing TensorBoard on port 6006 (pid 22400), started 0:02:26 ago. (Use '!kill 22400' to kill it.)"
      ]
     },
     "metadata": {},
     "output_type": "display_data"
    },
    {
     "data": {
      "text/html": [
       "\n",
       "      <iframe id=\"tensorboard-frame-3f1cc261fb890766\" width=\"100%\" height=\"800\" frameborder=\"0\">\n",
       "      </iframe>\n",
       "      <script>\n",
       "        (function() {\n",
       "          const frame = document.getElementById(\"tensorboard-frame-3f1cc261fb890766\");\n",
       "          const url = new URL(\"/\", window.location);\n",
       "          url.port = 6006;\n",
       "          frame.src = url;\n",
       "        })();\n",
       "      </script>\n",
       "  "
      ],
      "text/plain": [
       "<IPython.core.display.HTML object>"
      ]
     },
     "metadata": {},
     "output_type": "display_data"
    }
   ],
   "source": [
    "%load_ext tensorboard\n",
    "%tensorboard --logdir=./my_logs --port=6006"
   ]
  },
  {
   "cell_type": "markdown",
   "metadata": {},
   "source": [
    "### Fine-Tuning Neural Network Hyperparameters"
   ]
  },
  {
   "cell_type": "markdown",
   "metadata": {},
   "source": [
    "#### Number of Neurons per Hidden Layer\n",
    "- it used to be common to size them to form a pyramid, with fewer and fewer neurons at each layer"
   ]
  },
  {
   "cell_type": "code",
   "execution_count": null,
   "metadata": {},
   "outputs": [],
   "source": []
  }
 ],
 "metadata": {
  "kernelspec": {
   "display_name": "mytf",
   "language": "python",
   "name": "other-env"
  },
  "language_info": {
   "codemirror_mode": {
    "name": "ipython",
    "version": 3
   },
   "file_extension": ".py",
   "mimetype": "text/x-python",
   "name": "python",
   "nbconvert_exporter": "python",
   "pygments_lexer": "ipython3",
   "version": "3.7.7"
  },
  "toc": {
   "base_numbering": 1,
   "nav_menu": {},
   "number_sections": true,
   "sideBar": true,
   "skip_h1_title": false,
   "title_cell": "Table of Contents",
   "title_sidebar": "Contents",
   "toc_cell": false,
   "toc_position": {
    "height": "calc(100% - 180px)",
    "left": "10px",
    "top": "150px",
    "width": "256px"
   },
   "toc_section_display": true,
   "toc_window_display": true
  }
 },
 "nbformat": 4,
 "nbformat_minor": 4
}
