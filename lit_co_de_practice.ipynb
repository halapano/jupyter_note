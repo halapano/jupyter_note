{
 "cells": [
  {
   "cell_type": "markdown",
   "metadata": {},
   "source": [
    "> use this file for leetcode\n",
    "\n",
    "> 2019-2-16 11:58:51， time limit, change to \n",
    "https://www.hackerrank.com/challenges/30-data-types/problem"
   ]
  },
  {
   "cell_type": "markdown",
   "metadata": {},
   "source": [
    "# Reference\n",
    "\n",
    "- http://www.cnblogs.com/TenosDoIt/ leetcode解题索引\n",
    "\n",
    "- http://blog.csdn.net/bg2bkk/article/details/37572499 leetcode调试\n",
    "\n",
    "- 分类题解 http://www.acmerblog.com/leetcode-solutions-6422.html\n",
    "\n",
    "- 2019-1-20 19:17:32 刷 leetcode 需要哪些基础？ - Edward Shi的回答 - 知乎 https://www.zhihu.com/question/30737325/answer/524120016\n",
    " \n",
    "- 2019-1-22 11:46:36 部分题精讲 http://windliang.cc/2018/08/15/leetCode系列转到gitbook/\n",
    "\n",
    "- 2019-1-22 19:41:00 一个github 解题库 https://github.com/apachecn/awesome-algorithm/tree/master/docs/Leetcode_Solutions/Python\n",
    "\n",
    "- 2019-1-24 11:44:51 分类顺序 file:///E:/StudyOnGoing/Python/Leetcode%20%E5%88%86%E7%B1%BB%E9%A1%BA%E5%BA%8F%E7%AC%AC%E4%BA%8C%E7%89%88.html#10301"
   ]
  },
  {
   "cell_type": "markdown",
   "metadata": {},
   "source": [
    "# TODO:\n",
    "\n",
    "## Premium\n",
    "- 243,244,245,186,293,294, 249,161\n",
    "\n",
    "## Hard to understand\n",
    "- 220, bucket algorithm\n",
    "- Hwarm_Jumping on the Clouds\n",
    "\n",
    "## IDEA\n",
    "- How to transfom nums into maps which even the nums have duplicates?\n",
    "- The Regular Expression\n",
    "\n",
    "## Last \n",
    "- 290"
   ]
  },
  {
   "cell_type": "markdown",
   "metadata": {},
   "source": [
    "# Tips:\n",
    "\n",
    "- 1. Review as many times as you can, since every time, there come out some new idea about the question.\n",
    "- 2. Please review bottom-top, because you write like a stack.\n",
    "- 3. Operation on complex datatype such as Counter.\n",
    "- 4. Recusive.\n",
    "- 5. think start from which kind of data type then algorithm.\n",
    "- 6. think start from the features of languate rather than the brute forth algorithm.\n",
    "- 7. Think start from for loop.\n",
    "- 8. recursion / for loop / a list for store result of each step \n",
    "- 9. consider what's the answer of step1, step2.\n",
    "- 10. Classify the problem by data structure and recursion/loop type\n",
    "    - depend on min and max to step forward 746,\n",
    "- 11. consider add 1 to the head and end for multiple problem\n",
    "   add 0 to the head and end for add problem\n",
    " - 12. for questions like need make choice after each step, just list out the answer of fisrt four of five steps.\n",
    "     - Q: Davis'Staircase"
   ]
  },
  {
   "cell_type": "markdown",
   "metadata": {},
   "source": [
    "# Array"
   ]
  },
  {
   "cell_type": "markdown",
   "metadata": {},
   "source": [
    "## EASY"
   ]
  },
  {
   "cell_type": "markdown",
   "metadata": {},
   "source": [
    "### H1_w1 Sock Merchant\n",
    "\n",
    "- there are 7 socks with colors[1,2,1,2,1,3,2] . There is one pair of color  and one of color . There are three odd socks left, one of each color. The number of pairs is ."
   ]
  },
  {
   "cell_type": "code",
   "execution_count": 1,
   "metadata": {},
   "outputs": [],
   "source": [
    "# import math\n",
    "# import os\n",
    "# import random\n",
    "# import re\n",
    "# import sys\n",
    "from collections import Counter\n",
    "# Complete the sockMerchant function below.\n",
    "def sockMerchant(n, ar):\n",
    "\n",
    "    if n < 2:\n",
    "        return 0\n",
    "    \n",
    "    cnt = Counter(ar)\n",
    "    cnt_val = list(cnt.values())\n",
    "    ans = 0\n",
    "    for val in cnt_val:\n",
    "        quotient_remainder = divmod(val,2)\n",
    "        ans += quotient_remainder[0]\n",
    "        #print(quotient_remainder)\n",
    "    return ans\n",
    "    \n",
    "# if __name__ == '__main__':\n",
    "#     fptr = open(os.environ['OUTPUT_PATH'], 'w')\n",
    "\n",
    "#     n = int(input())\n",
    "\n",
    "#     ar = list(map(int, input().rstrip().split()))\n",
    "\n",
    "#     result = sockMerchant(n, ar)\n",
    "\n",
    "#     fptr.write(str(result) + '\\n')\n",
    "\n",
    "#     fptr.close()"
   ]
  },
  {
   "cell_type": "code",
   "execution_count": 2,
   "metadata": {},
   "outputs": [
    {
     "data": {
      "text/plain": [
       "2"
      ]
     },
     "execution_count": 2,
     "metadata": {},
     "output_type": "execute_result"
    }
   ],
   "source": [
    "ans = sockMerchant(7,[1,2,1,2,1,3,2] )\n",
    "ans"
   ]
  },
  {
   "cell_type": "markdown",
   "metadata": {},
   "source": [
    "### H_ARRAY_2D Array - DS\n"
   ]
  },
  {
   "cell_type": "code",
   "execution_count": 45,
   "metadata": {},
   "outputs": [],
   "source": [
    "# tmpsum > maxsum: maxsum = tmpsum\n",
    "def hourglassSum(arr):\n",
    "    maxsum= -100\n",
    "    lenth = len(arr)\n",
    "    for i in range(1,lenth-1):\n",
    "        for j in range(1,lenth-1):\n",
    "            tmpsum = 0\n",
    "#             tmpsum = (arr[i-1][j-1]+arr[i-1][j]+arr[i-1][j+1]+arr[i][j]+\n",
    "#                          arr[i+1][j-1]+arr[i+1][j]+arr[i+1][j+1])\n",
    "            tmpsum = (sum(arr[i-1][j-1:j+2]) + arr[i][j] + sum(arr[i+1][j-1:j+2]))\n",
    "#             if tmpsum > maxsum:\n",
    "#                 maxsum = tmpsum\n",
    "            maxsum = max(tmpsum,maxsum)\n",
    "    return maxsum"
   ]
  },
  {
   "cell_type": "code",
   "execution_count": 46,
   "metadata": {},
   "outputs": [
    {
     "data": {
      "text/plain": [
       "19"
      ]
     },
     "execution_count": 46,
     "metadata": {},
     "output_type": "execute_result"
    }
   ],
   "source": [
    "arra = [[1, 1, 1, 0, 0, 0], [0, 1, 0, 0, 0, 0], [1, 1, 1, 0, 0, 0], [0, 0, 2, 4, 4, 0], [0, 0, 0, 2, 0, 0], [0, 0, 1, 2, 4, 0]]\n",
    "ans = hourglassSum(arra)\n",
    "ans"
   ]
  },
  {
   "cell_type": "markdown",
   "metadata": {},
   "source": [
    "### H_array_Arrays: Left Rotation"
   ]
  },
  {
   "cell_type": "code",
   "execution_count": 61,
   "metadata": {},
   "outputs": [],
   "source": [
    "def rotLeft(a, d):\n",
    "    for i in range(d):\n",
    "        a.append(a.pop(0))\n",
    "    return a"
   ]
  },
  {
   "cell_type": "code",
   "execution_count": 39,
   "metadata": {},
   "outputs": [],
   "source": [
    "def rotLeft2(a,d):\n",
    "    \n",
    "    n = len(a)\n",
    "    d %= n\n",
    "    \n",
    "    ans = a[d:] + a[:d]\n",
    "    return ans\n",
    "    "
   ]
  },
  {
   "cell_type": "code",
   "execution_count": 40,
   "metadata": {},
   "outputs": [
    {
     "data": {
      "text/plain": [
       "[4, 5, 1, 2, 3]"
      ]
     },
     "execution_count": 40,
     "metadata": {},
     "output_type": "execute_result"
    }
   ],
   "source": [
    "nums = [1,2,3,4,5]\n",
    "ans = rotLeft2(nums,3)\n",
    "ans"
   ]
  },
  {
   "cell_type": "code",
   "execution_count": 60,
   "metadata": {},
   "outputs": [
    {
     "data": {
      "text/plain": [
       "1"
      ]
     },
     "execution_count": 60,
     "metadata": {},
     "output_type": "execute_result"
    }
   ],
   "source": [
    "nums.pop(0)"
   ]
  },
  {
   "cell_type": "markdown",
   "metadata": {},
   "source": [
    "### 1. Two Sum\n",
    "> array, dict,enumerate\n",
    "\n",
    "> get the index of an item in list from by its value.  \n",
    "\n",
    "Given an array of integers, return indices of the two numbers such that they add up to a specific target.\n",
    "\n",
    "You may assume that each input would have exactly one solution, and you may not use the same element twice.\n",
    "\n",
    "Example:\n",
    "\n",
    "Given nums = [2, 7, 11, 15], target = 9,\n",
    "\n",
    "Because nums[0] + nums[1] = 2 + 7 = 9,\n",
    "return [0, 1]."
   ]
  },
  {
   "cell_type": "code",
   "execution_count": 1,
   "metadata": {},
   "outputs": [
    {
     "name": "stdout",
     "output_type": "stream",
     "text": [
      "[4, 5]\n"
     ]
    }
   ],
   "source": [
    "# create a dict for store value(index) and key\n",
    "class Solution:\n",
    "    def twoSum(self, nums, target):\n",
    "        \"\"\"\n",
    "        :type nums: List[int]\n",
    "        :type target: int\n",
    "        :rtype: List[int]\n",
    "        \"\"\"\n",
    "#         ans = []\n",
    "#         nums_array = np.array(nums)\n",
    "#         for index, value in nums_array.index(),nums_array.value():\n",
    "#             remain = target-value\n",
    "#             if remain in nums.value():\n",
    "#                 ans.append(index)\n",
    "#                 ans.append\n",
    "# can't directly get an index from its value\n",
    "\n",
    "        index_dict = dict()\n",
    "        for index, value in enumerate(nums):\n",
    "            if target-value in index_dict:\n",
    "                return[index_dict[target-value],index]\n",
    "            \n",
    "            # key step, use dict to map value and index\n",
    "            index_dict[value] = index\n",
    "\n",
    "nums = [3,4,5,6,7,8,9,10]\n",
    "tar = 15\n",
    "tmpIns = Solution()\n",
    "ans = tmpIns.twoSum(nums,tar)\n",
    "print(ans)               "
   ]
  },
  {
   "cell_type": "markdown",
   "metadata": {},
   "source": [
    "### 53. Maximum Subarray\n",
    "\n",
    "> array, easy, DyP\n",
    "\n",
    "Given an integer array nums, find the contiguous subarray (containing at least one number) which has the largest sum and return its sum.\n",
    "\n",
    "Example:\n",
    "\n",
    "Input: [-2,1,-3,4,-1,2,1,-5,4],\n",
    "Output: 6\n",
    "Explanation: [4,-1,2,1] has the largest sum = 6.\n",
    "Follow up:\n",
    "\n",
    "If you have figured out the O(n) solution, try coding another solution using the divide and conquer approach, which is more subtle."
   ]
  },
  {
   "cell_type": "code",
   "execution_count": 6,
   "metadata": {},
   "outputs": [
    {
     "data": {
      "text/plain": [
       "6"
      ]
     },
     "execution_count": 6,
     "metadata": {},
     "output_type": "execute_result"
    }
   ],
   "source": [
    "# O(n) solution\n",
    "def maxSubarray(nums):\n",
    "    \n",
    "    if max(nums) < 0:\n",
    "        return max(nums)\n",
    "\n",
    "    thissum = maxsum = 0\n",
    "    for value in nums:\n",
    "        thissum += value\n",
    "        if thissum > maxsum:\n",
    "            maxsum = thissum\n",
    "        # key step: \n",
    "        elif thissum < 0: \n",
    "            thissum = 0\n",
    "    return maxsum\n",
    "\n",
    "# def maxSubarray2(nums):\n",
    "    \n",
    "\n",
    "nums = [-2,1,-3,4,-1,2,1,-5,4]\n",
    "ans = maxSubarray(nums)\n",
    "ans"
   ]
  },
  {
   "cell_type": "markdown",
   "metadata": {},
   "source": [
    "### 88. Merge Sorted Array\n",
    ">\n",
    "\n",
    "Given two sorted integer arrays nums1 and nums2, merge nums2 into nums1 as one sorted array.\n",
    "\n",
    "Note:\n",
    "\n",
    "The number of elements initialized in nums1 and nums2 are m and n respectively.\n",
    "You may assume that nums1 has enough space (size that is greater or equal to m + n) to hold additional elements from nums2.\n",
    "Example:\n",
    "\n",
    "Input:\n",
    "nums1 = [1,2,3,0,0,0], m = 3\n",
    "nums2 = [2,5,6],       n = 3\n",
    "\n",
    "Output: [1,2,2,3,5,6]"
   ]
  },
  {
   "cell_type": "code",
   "execution_count": null,
   "metadata": {},
   "outputs": [],
   "source": [
    "def mergeSortedArray(nums1,m, nums2,n):\n",
    "    \n",
    "    \"\"\"\n",
    "    :type nums1: List[int]\n",
    "    :type m: int\n",
    "    :type nums2: List[int]\n",
    "    :type n: int\n",
    "    :rtype: void Do not return anything, modify nums1 in-place instead.\n",
    "    \"\"\"\n",
    "    # list.extend and sort are all return None, since they all inplace method. not return self.\n",
    "    #merge = nums1[:m].extend(nums2[:n])\n",
    "    \n",
    "    s1 = nums1[:m]\n",
    "    s1.extend(nums2[:n])\n",
    "    s1.sort()\n",
    "    nums1[:] = s1\n",
    "\n",
    "\n",
    "nums1 = [1,2,3,0,0,0]\n",
    "m =3\n",
    "nums2 = [2,5,6]\n",
    "n=3\n",
    "mergeSortedArray(nums1,m, nums2,n)\n",
    "nums1"
   ]
  },
  {
   "cell_type": "markdown",
   "metadata": {},
   "source": [
    "### 189. Rotate Array\n",
    "\n",
    "> \n",
    "\n",
    "Given an array, rotate the array to the right by k steps, where k is non-negative.\n",
    "\n",
    "Example 1:\n",
    "\n",
    "Input: [1,2,3,4,5,6,7] and k = 3\n",
    "Output: [5,6,7,1,2,3,4]\n",
    "Explanation:\n",
    "rotate 1 steps to the right: [7,1,2,3,4,5,6]\n",
    "rotate 2 steps to the right: [6,7,1,2,3,4,5]\n",
    "rotate 3 steps to the right: [5,6,7,1,2,3,4]\n",
    "Example 2:\n",
    "\n",
    "Input: [-1,-100,3,99] and k = 2\n",
    "Output: [3,99,-1,-100]\n",
    "Explanation: \n",
    "rotate 1 steps to the right: [99,-1,-100,3]\n",
    "rotate 2 steps to the right: [3,99,-1,-100]\n",
    "Note:\n",
    "\n",
    "Try to come up as many solutions as you can, there are at least 3 different ways to solve this problem.\n",
    "Could you do it in-place with O(1) extra space?"
   ]
  },
  {
   "cell_type": "code",
   "execution_count": 3,
   "metadata": {},
   "outputs": [],
   "source": [
    "# O(1) extra space\n",
    "\n",
    "# M1: Runtime: 224 ms, faster than 7.34% \n",
    "# def rotate_array(nums, k):\n",
    "#     for i in range(k):\n",
    "#         nums.insert(0,nums.pop())\n",
    "#     return nums\n",
    "\n",
    "# M2: Runtime: 76 ms, faster than 43.77%\n",
    "# def rotate_array(nums, k):\n",
    "#     ans = list(range(len(nums)))\n",
    "#     for index,val in enumerate(nums):\n",
    "#         ans[(index+k) % len(nums)] = val\n",
    "    \n",
    "#     # hard copy\n",
    "#     for i in range(len(nums)):\n",
    "#         nums[i] = ans[i]\n",
    "#     return nums\n",
    "\n",
    "# M3: Reverse1 Runtime: 48 ms, faster than 99.39%\n",
    "def rotate_array(nums, k):\n",
    "    def reverse(nums,start,end):\n",
    "        while start < end:\n",
    "            nums[start], nums[end] = nums[end], nums[start]\n",
    "            start += 1\n",
    "            end -= 1\n",
    "    \n",
    "    lenth = len(nums)\n",
    "    k %= lenth\n",
    "    \n",
    "    # Reverse all\n",
    "    reverse(nums,0,lenth-1)\n",
    "    \n",
    "    # Reverse (0,k)\n",
    "    reverse(nums,0,k-1)\n",
    "    reverse(nums,k,lenth-1)\n",
    "\n",
    "# M4: use the built-in reverse\n",
    "# cannot work since \n",
    "# def rotate_array(nums, k):\n",
    "#     lenth = len(nums)\n",
    "#     k %= lenth\n",
    "    \n",
    "#     nums.reverse()\n",
    "#     nums[0:k].reverse()\n",
    "#     nums[k:lenth].reverse()\n",
    "    "
   ]
  },
  {
   "cell_type": "code",
   "execution_count": 4,
   "metadata": {},
   "outputs": [
    {
     "data": {
      "text/plain": [
       "[5, 6, 7, 1, 2, 3, 4]"
      ]
     },
     "execution_count": 4,
     "metadata": {},
     "output_type": "execute_result"
    }
   ],
   "source": [
    "nums = [1,2,3,4,5,6,7]\n",
    "k = 3\n",
    "rotate_array(nums,k)\n",
    "nums"
   ]
  },
  {
   "cell_type": "markdown",
   "metadata": {},
   "source": [
    "### 26. Remove Duplicates from Sorted Array (Miss Answer)\n",
    "\n",
    "> array, easy\n",
    "\n",
    "Given a sorted array nums, remove the duplicates in-place such that each element appear only once and return the new length.\n",
    "\n",
    "Do not allocate extra space for another array, you must do this by modifying the input array in-place with O(1) extra memory.\n",
    "\n",
    "Example 1:\n",
    "\n",
    "Given nums = [1,1,2],\n",
    "\n",
    "Your function should return length = 2, with the first two elements of nums being 1 and 2 respectively.\n",
    "\n",
    "It doesn't matter what you leave beyond the returned length.\n",
    "Example 2:\n",
    "\n",
    "Given nums = [0,0,1,1,1,2,2,3,3,4],\n",
    "\n",
    "Your function should return length = 5, with the first five elements of nums being modified to 0, 1, 2, 3, and 4 respectively.\n",
    "\n",
    "It doesn't matter what values are set beyond the returned length."
   ]
  },
  {
   "cell_type": "code",
   "execution_count": null,
   "metadata": {},
   "outputs": [],
   "source": [
    "# in place without extra space\n",
    "def remove_element(nums, val):\n",
    "    # test if a list is null\n",
    "    if not nums:\n",
    "        return 0 \n",
    "\n",
    "    start, end = 0, len(nums) - 1\n",
    "    # notice that here is lessequal not less.\n",
    "    while start <= end:\n",
    "        if nums[start] == val:\n",
    "            nums[start], nums[end] = nums[end], nums[start]\n",
    "            end -= 1\n",
    "        else:\n",
    "            start +=1\n",
    "    return start"
   ]
  },
  {
   "cell_type": "code",
   "execution_count": null,
   "metadata": {},
   "outputs": [],
   "source": [
    "nums = [0,1,2,2,3,0,4,2]\n",
    "val = 2\n",
    "ans = remove_element(nums,val)\n",
    "ans"
   ]
  },
  {
   "cell_type": "markdown",
   "metadata": {},
   "source": [
    "### 27. Remove Element\n",
    "\n",
    "> array, easy\n",
    "\n",
    "Given an array nums and a value val, remove all instances of that value in-place and return the new length.\n",
    "\n",
    "Do not allocate extra space for another array, you must do this by modifying the input array in-place with O(1) extra memory.\n",
    "\n",
    "The order of elements can be changed. It doesn't matter what you leave beyond the new length.\n",
    "\n",
    "Example 1:\n",
    "\n",
    "Given nums = [3,2,2,3], val = 3,\n",
    "\n",
    "Your function should return length = 2, with the first two elements of nums being 2.\n",
    "\n",
    "It doesn't matter what you leave beyond the returned length.\n",
    "Example 2:\n",
    "\n",
    "Given nums = [0,1,2,2,3,0,4,2], val = 2,\n",
    "\n",
    "Your function should return length = 5, with the first five elements of nums containing 0, 1, 3, 0, and 4.\n",
    "\n",
    "Note that the order of those five elements can be arbitrary.\n",
    "\n",
    "It doesn't matter what values are set beyond the returned length."
   ]
  },
  {
   "cell_type": "code",
   "execution_count": 7,
   "metadata": {},
   "outputs": [],
   "source": [
    "# in place without extra space\n",
    "def remove_element(nums, val):\n",
    "    # test if a list is null\n",
    "    if not nums:\n",
    "        return 0 \n",
    "\n",
    "    start, end = 0, len(nums) - 1\n",
    "    # notice that here is lessequal not less.\n",
    "    while start <= end:\n",
    "        if nums[start] == val:\n",
    "            nums[start], nums[end] = nums[end], nums[start]\n",
    "            end -= 1\n",
    "        else:\n",
    "            start +=1\n",
    "    return start,nums"
   ]
  },
  {
   "cell_type": "code",
   "execution_count": 9,
   "metadata": {},
   "outputs": [
    {
     "name": "stdout",
     "output_type": "stream",
     "text": [
      "5 [0, 1, 4, 0, 3, 2, 2, 2]\n"
     ]
    }
   ],
   "source": [
    "nums = [0,1,2,2,3,0,4,2]\n",
    "val = 2\n",
    "ans,num = remove_element(nums,val)\n",
    "print(ans,num)"
   ]
  },
  {
   "cell_type": "markdown",
   "metadata": {},
   "source": [
    "### 35. Search Insert Position\n",
    "> array, easy\n",
    "\n",
    "Given a sorted array and a target value, return the index if the target is found. If not, return the index where it would be if it were inserted in order.\n",
    "\n",
    "You may assume no duplicates in the array.\n",
    "\n",
    "Example 1:\n",
    "\n",
    "Input: [1,3,5,6], 5\n",
    "Output: 2\n",
    "\n",
    "Example 2:\n",
    "Input: [1,3,5,6], 2\n",
    "Output: 1\n",
    "\n",
    "Example 3:\n",
    "Input: [1,3,5,6], 7\n",
    "Output: 4\n",
    "\n",
    "Example 4:\n",
    "Input: [1,3,5,6], 0\n",
    "Output: 0"
   ]
  },
  {
   "cell_type": "code",
   "execution_count": 4,
   "metadata": {},
   "outputs": [
    {
     "name": "stdout",
     "output_type": "stream",
     "text": [
      "0 1 5\n"
     ]
    }
   ],
   "source": [
    "def searchInsert(nums, target):\n",
    "    for index, value in enumerate(nums):\n",
    "        if target <= value:\n",
    "            return index\n",
    "    return index +1\n",
    "            \n",
    "\n",
    "nums=[1,2,3,4,5]\n",
    "t1 = searchInsert(nums,1)\n",
    "t2 = searchInsert(nums,2)\n",
    "t3 = searchInsert(nums,6)\n",
    "print(t1,t2,t3)"
   ]
  },
  {
   "cell_type": "markdown",
   "metadata": {},
   "source": [
    "### 118. Pascal's Triangle\n",
    "> array, easy\n",
    "\n",
    "Given a non-negative integer numRows, generate the first numRows of Pascal's triangle.\n",
    "\n",
    "In Pascal's triangle, each number is the sum of the two numbers directly above it.\n",
    "\n",
    "Example:\n",
    "\n",
    "Input: 5\n",
    "Output:\n",
    "[\n",
    "     [1],\n",
    "    [1,1],\n",
    "   [1,2,1],\n",
    "  [1,3,3,1],\n",
    " [1,4,6,4,1]\n",
    "]"
   ]
  },
  {
   "cell_type": "code",
   "execution_count": 3,
   "metadata": {},
   "outputs": [],
   "source": [
    "def pascalTriangle(numRows):\n",
    "    out = []\n",
    "    if numRows >= 1:\n",
    "        row1 = [1]\n",
    "    else:\n",
    "        return [0]\n",
    "    \n",
    "    for row in range(numRows):\n",
    "        head = [0]\n",
    "        tail = [0]\n",
    "        tmp =[]\n",
    "        if row == 0:\n",
    "            item = [1]\n",
    "        else:\n",
    "\n",
    "# extend return None.\n",
    "#tmp = head.extend(item)+item.extend(tail)\n",
    "    \n",
    "        #need use item+[0],can't use item.append or extend [0], since list + list return a new list.\n",
    "            item = [x+y for x,y in zip(item+[0],[0]+item )]\n",
    "            \n",
    "            #item = [x+y for x,y in zip(item.extend([0]),[0].extend(item))]\n",
    "        out.append(item)    \n",
    "    print(out)"
   ]
  },
  {
   "cell_type": "code",
   "execution_count": 4,
   "metadata": {},
   "outputs": [
    {
     "name": "stdout",
     "output_type": "stream",
     "text": [
      "[[1], [1, 1], [1, 2, 1], [1, 3, 3, 1], [1, 4, 6, 4, 1]]\n"
     ]
    }
   ],
   "source": [
    "numRows = 5\n",
    "pascalTriangle(numRows)"
   ]
  },
  {
   "cell_type": "markdown",
   "metadata": {},
   "source": [
    "### 746. Min Cost Climbing Stairs\n",
    "\n",
    "> array, DP, easy\n",
    "\n",
    "On a staircase, the i-th step has some non-negative cost cost[i] assigned (0 indexed).\n",
    "\n",
    "Once you pay the cost, you can either climb one or two steps. You need to find minimum cost to reach the top of the floor, and you can either start from the step with index 0, or the step with index 1.\n",
    "\n",
    "Example 1:\n",
    "Input: cost = [10, 15, 20]\n",
    "Output: 15\n",
    "Explanation: Cheapest is start on cost[1], pay that cost and go to the top.\n",
    "\n",
    "Example 2:\n",
    "Input: cost = [1, 100, 1, 1, 1, 100, 1, 1, 100, 1]\n",
    "Output: 6\n",
    "Explanation: Cheapest is start on cost[0], and only step on 1s, skipping cost[3].\n",
    "\n",
    "Note:\n",
    "cost will have a length in the range [2, 1000].\n",
    "Every cost[i] will be an integer in the range [0, 999]."
   ]
  },
  {
   "cell_type": "code",
   "execution_count": 6,
   "metadata": {},
   "outputs": [],
   "source": [
    "def minCostClimbingStairs(cost):\n",
    "    \"\"\"\n",
    "    :type cost: List[int]\n",
    "    :rtype: int\n",
    "    \"\"\"\n",
    "    \n",
    "    # cost f[i] = cost[i] + min(f[i+1]+f[i+2])\n",
    "    # when decide which is the next step, we have two choices, each choice represent different way,\n",
    "    # imagine there is a binary tree, you would have 2^N choices. \n",
    "    \n",
    "    # this algorithm use reversed order, \n",
    "    # so we would have known the f1 and f2 before making choice.\n",
    "    # this is a key step.\n",
    "       \n",
    "    # initial add tail [0,0] to the end of the list\n",
    "    # f1 represent the min cost of the next point, f2 repre\n",
    "    f1 = f2 = 0\n",
    "    for x in reversed(cost):\n",
    "        f1, f2 = x + min(f1, f2), f1\n",
    "        print('f1={}\\nf2={}'.format(f1,f2))\n",
    "    return min(f1, f2)"
   ]
  },
  {
   "cell_type": "code",
   "execution_count": 7,
   "metadata": {},
   "outputs": [
    {
     "name": "stdout",
     "output_type": "stream",
     "text": [
      "f1=1\n",
      "f2=0\n",
      "f1=100\n",
      "f2=1\n",
      "f1=2\n",
      "f2=100\n",
      "f1=3\n",
      "f2=2\n",
      "f1=102\n",
      "f2=3\n",
      "f1=4\n",
      "f2=102\n",
      "f1=5\n",
      "f2=4\n",
      "f1=5\n",
      "f2=5\n",
      "f1=105\n",
      "f2=5\n",
      "f1=6\n",
      "f2=105\n"
     ]
    },
    {
     "data": {
      "text/plain": [
       "6"
      ]
     },
     "execution_count": 7,
     "metadata": {},
     "output_type": "execute_result"
    }
   ],
   "source": [
    "cost = [1, 100, 1, 1, 1, 100, 1, 1, 100, 1]\n",
    "ans = minCostClimbingStairs(cost)\n",
    "ans"
   ]
  },
  {
   "cell_type": "markdown",
   "metadata": {},
   "source": [
    "### 119. Pascal's Triangle II\n",
    "\n",
    "Given a non-negative index k where k ≤ 33, return the kth index row of the Pascal's triangle.\n",
    "\n",
    "Note that the row index starts from 0.\n",
    "\n",
    "\n",
    "In Pascal's triangle, each number is the sum of the two numbers directly above it.\n",
    "\n",
    "Example:\n",
    "\n",
    "Input: 3\n",
    "Output: [1,3,3,1]\n",
    "Follow up:\n",
    "\n",
    "Could you optimize your algorithm to use only O(k) extra space?"
   ]
  },
  {
   "cell_type": "code",
   "execution_count": 7,
   "metadata": {},
   "outputs": [],
   "source": [
    "# Runtime: 32 ms, faster than 100.00%\n",
    "def pascal_row(row):       \n",
    "    tmp = [1]\n",
    "    for i in range(row):\n",
    "        tmp = [x+y for x,y in zip([0]+tmp, tmp+[0])]\n",
    "    return tmp"
   ]
  },
  {
   "cell_type": "code",
   "execution_count": 10,
   "metadata": {},
   "outputs": [
    {
     "data": {
      "text/plain": [
       "[1]"
      ]
     },
     "execution_count": 10,
     "metadata": {},
     "output_type": "execute_result"
    }
   ],
   "source": [
    "ans = pascal_row(0)\n",
    "ans"
   ]
  },
  {
   "cell_type": "markdown",
   "metadata": {},
   "source": [
    "### 169. Majority Element\n",
    "Given an array of size n, find the majority element. The majority element is the element that appears more than ⌊ n/2 ⌋ times.\n",
    "\n",
    "You may assume that the array is non-empty and the majority element always exist in the array.\n",
    "\n",
    "Example 1:\n",
    "\n",
    "Input: [3,2,3]\n",
    "Output: 3\n",
    "Example 2:\n",
    "\n",
    "Input: [2,2,1,1,1,2,2]\n",
    "Output: 2"
   ]
  },
  {
   "cell_type": "code",
   "execution_count": 11,
   "metadata": {},
   "outputs": [],
   "source": [
    "\n",
    "\n",
    "from collections import Counter\n",
    "\n",
    "def majorityElement(nums):\n",
    "    \"\"\"\n",
    "    :type nums: List[int]\n",
    "    :rtype: int\n",
    "    \"\"\"\n",
    "#     M1 Runtime: 44 ms, faster than 99.95% \n",
    "#    return Counter(nums).most_common(1)[0][0]\n",
    "\n",
    "#     M2 Runtime: 88 ms, faster than 22.32%\n",
    "#     dic = {}\n",
    "#     for num in nums:\n",
    "#         dic[num] = dic.get(num,0) + 1\n",
    "#     print(dic)\n",
    "#     for num in nums:\n",
    "#         if dic[num] > len(nums) // 2:\n",
    "#             return num\n",
    "\n",
    "\n",
    "# M3: Boyer-Moore algorithm \n",
    "# Runtime: 68 ms, faster than 45.09% \n",
    "    count, candi = 0, 0\n",
    "    for value in nums:\n",
    "        if count == 0:\n",
    "            candi = value\n",
    "        if candi == value:\n",
    "            count += 1\n",
    "        else:\n",
    "            count -= 1\n",
    "    return candi"
   ]
  },
  {
   "cell_type": "code",
   "execution_count": 12,
   "metadata": {},
   "outputs": [
    {
     "data": {
      "text/plain": [
       "[(2, 6)]"
      ]
     },
     "execution_count": 12,
     "metadata": {},
     "output_type": "execute_result"
    }
   ],
   "source": [
    "nums = [2,2,1,2,1,2,2,3,2,5,5]\n",
    "Counter(nums).most_common(1)\n",
    "# ans = majorityElement(nums)\n",
    "# ans"
   ]
  },
  {
   "cell_type": "markdown",
   "metadata": {},
   "source": [
    "### 217. Contains Duplicate\n",
    "\n",
    "Given an array of integers, find if the array contains any duplicates.\n",
    "\n",
    "Your function should return true if any value appears at least twice in the array, and it should return false if every element is distinct.\n",
    "\n",
    "Example 1:\n",
    "\n",
    "Input: [1,2,3,1]\n",
    "Output: true\n",
    "Example 2:\n",
    "\n",
    "Input: [1,2,3,4]\n",
    "Output: false\n",
    "Example 3:\n",
    "\n",
    "Input: [1,1,1,3,3,4,3,2,4,2]\n",
    "Output: true"
   ]
  },
  {
   "cell_type": "code",
   "execution_count": 22,
   "metadata": {},
   "outputs": [],
   "source": [
    "from collections import Counter\n",
    "def containsDuplicate(nums):\n",
    "    \"\"\"\n",
    "    :type nums: List[int]\n",
    "    :rtype: bool\n",
    "    \"\"\"\n",
    "#     M1: dict Runtime: 52 ms, faster than 61.83%\n",
    "#     dic = {}\n",
    "#     for value in nums:\n",
    "#         dic[value] = dic.get(value,0) + 1\n",
    "#         if dic[value] >= 2:\n",
    "#             return True\n",
    "#     return False\n",
    "\n",
    "\n",
    "    # M2, Counter\n",
    "#     cnt = Counter(nums)\n",
    "#     if cnt.most_common(1)[0][1] >= 2:\n",
    "#         return True\n",
    "#     else:\n",
    "#         return False\n",
    " \n",
    "        # anoter Counter\n",
    "#     if not nums:\n",
    "#         return False\n",
    "#     else:\n",
    "#         return True if Counter(nums).most_common(1)[0][1] >= 2 else False\n",
    "\n",
    "    # M3 Set, O(1)?\n",
    "    # since we only need the duplicate information not the exactly duplicate values.\n",
    "    return len(nums) != len(set(nums))"
   ]
  },
  {
   "cell_type": "code",
   "execution_count": 24,
   "metadata": {},
   "outputs": [
    {
     "data": {
      "text/plain": [
       "False"
      ]
     },
     "execution_count": 24,
     "metadata": {},
     "output_type": "execute_result"
    }
   ],
   "source": [
    "nums = [1,1,1,3,3,4,3,2,4,2]\n",
    "nums1= [1,2,3,4]\n",
    "ans = containsDuplicate(nums1)\n",
    "ans"
   ]
  },
  {
   "cell_type": "markdown",
   "metadata": {},
   "source": [
    "### 219. Contains Duplicate II\n",
    "\n",
    "Given an array of integers and an integer k, find out whether there are two distinct indices i and j in the array such that nums[i] = nums[j] and the absolute difference between i and j is at most k.\n",
    "\n",
    "Example 1:\n",
    "\n",
    "Input: nums = [1,2,3,1], k = 3\n",
    "Output: true\n",
    "Example 2:\n",
    "\n",
    "Input: nums = [1,0,1,1], k = 1\n",
    "Output: true\n",
    "Example 3:\n",
    "\n",
    "Input: nums = [1,2,3,1,2,3], k = 2\n",
    "Output: false"
   ]
  },
  {
   "cell_type": "code",
   "execution_count": 44,
   "metadata": {},
   "outputs": [],
   "source": [
    "def containsNearbyDuplicate(nums, k):\n",
    "    \"\"\"\n",
    "    :type nums: List[int]\n",
    "    :type k: int\n",
    "    :rtype: bool\n",
    "    \"\"\"\n",
    "    \n",
    "    #Runtime: 44 ms, faster than 97.62%\n",
    "    dic = {}\n",
    "    for index, value in enumerate(nums):\n",
    "        if value not in dic:\n",
    "            # key step, use dic to store value and index.\n",
    "            dic[value] = index\n",
    "        else:\n",
    "            if index - dic[value] <= k:\n",
    "                return True\n",
    "            else:\n",
    "                dic[value] = index\n",
    "    return False"
   ]
  },
  {
   "cell_type": "code",
   "execution_count": 45,
   "metadata": {},
   "outputs": [
    {
     "data": {
      "text/plain": [
       "False"
      ]
     },
     "execution_count": 45,
     "metadata": {},
     "output_type": "execute_result"
    }
   ],
   "source": [
    "nums = [1,2,3,1,2,3]\n",
    "#nums = [1,0,1,1]\n",
    "k = 2\n",
    "ans = containsNearbyDuplicate(nums,k)\n",
    "ans"
   ]
  },
  {
   "cell_type": "markdown",
   "metadata": {},
   "source": [
    "## MEDIUM"
   ]
  },
  {
   "cell_type": "markdown",
   "metadata": {},
   "source": [
    "### H_Climbing the Leaderboard"
   ]
  },
  {
   "cell_type": "code",
   "execution_count": null,
   "metadata": {},
   "outputs": [],
   "source": [
    "def climbingLeaderboard(scores, alice):\n",
    "    \n",
    "    res = []\n",
    "    i = 0\n",
    "    for ali in alice:\n",
    "        \n",
    "\n",
    "if __name__ == '__main__':"
   ]
  },
  {
   "cell_type": "markdown",
   "metadata": {},
   "source": [
    "### H_Forming a Magic Square\n",
    "- distinct positive integers\n",
    "- sum to same number"
   ]
  },
  {
   "cell_type": "code",
   "execution_count": 8,
   "metadata": {},
   "outputs": [
    {
     "name": "stdout",
     "output_type": "stream",
     "text": [
      "[31, 39, 1, 17, 27, 37, 11, 29]\n",
      "1\n"
     ]
    }
   ],
   "source": [
    "#!/bin/python3\n",
    "\n",
    "import math\n",
    "import os\n",
    "import random\n",
    "import re\n",
    "import sys\n",
    "\n",
    "# Complete the formingMagicSquare function below.\n",
    "def formingMagicSquare(s):\n",
    "\n",
    "    pre = [\n",
    "            [[8, 1, 6], [3, 5, 7], [4, 9, 2]],\n",
    "            [[6, 1, 8], [7, 5, 3], [2, 9, 4]],\n",
    "            [[4, 9, 2], [3, 5, 7], [8, 1, 6]],\n",
    "            [[2, 9, 4], [7, 5, 3], [6, 1, 8]], \n",
    "            [[8, 3, 4], [1, 5, 9], [6, 7, 2]],\n",
    "            [[4, 3, 8], [9, 5, 1], [2, 7, 6]], \n",
    "            [[6, 7, 2], [1, 5, 9], [8, 3, 4]], \n",
    "            [[2, 7, 6], [9, 5, 1], [4, 3, 8]],\n",
    "            ]\n",
    "    \n",
    "    \n",
    "    \n",
    "    totals = []\n",
    "    for p in pre:        \n",
    "        total = 0\n",
    "        for p_row, s_row in zip(p,s):\n",
    "            for i,j in zip(p_row,s_row):\n",
    "                if i != j :\n",
    "                    total += abs(i-j)\n",
    "        totals.append(total)    \n",
    "    print(totals)\n",
    "    return min(totals)\n",
    "                \n",
    "      \n",
    "if __name__ == '__main__':\n",
    "\n",
    "\n",
    "    s = [[4,9,2], [3,5,7],[8,1,5]]\n",
    "    ans = formingMagicSquare(s)\n",
    "    print(ans)\n"
   ]
  },
  {
   "cell_type": "markdown",
   "metadata": {},
   "source": [
    "### H1_W2 Counting Valleys\n",
    "- Given Gary's sequence of up and down steps during his last hike, find and print the number of valleys he walked through."
   ]
  },
  {
   "cell_type": "code",
   "execution_count": 63,
   "metadata": {},
   "outputs": [],
   "source": [
    "def countingValleys(n, s):\n",
    "    \n",
    "   \n",
    "    li_s = list(s)\n",
    "    ans, sea_level = 0 ,0\n",
    "    for i in range(0,len(li_s)):\n",
    "        if li_s[i] == 'U':\n",
    "            sea_level += 1\n",
    "        elif li_s[i] == 'D':\n",
    "            sea_level -= 1\n",
    "        \n",
    "        #print(sea_level)\n",
    "        if sea_level == 0 and li_s[i] == 'U':\n",
    "            print('ans:',i)\n",
    "            ans += 1\n",
    "    return ans"
   ]
  },
  {
   "cell_type": "code",
   "execution_count": 64,
   "metadata": {},
   "outputs": [
    {
     "name": "stdout",
     "output_type": "stream",
     "text": [
      "ans: 7\n"
     ]
    },
    {
     "data": {
      "text/plain": [
       "1"
      ]
     },
     "execution_count": 64,
     "metadata": {},
     "output_type": "execute_result"
    }
   ],
   "source": [
    "s = list('UDDDUDUU')\n",
    "n = len(s)\n",
    "ans = countingValleys(n,s)\n",
    "ans"
   ]
  },
  {
   "cell_type": "code",
   "execution_count": 33,
   "metadata": {},
   "outputs": [
    {
     "data": {
      "text/plain": [
       "[1, 2, 3]"
      ]
     },
     "execution_count": 33,
     "metadata": {},
     "output_type": "execute_result"
    }
   ],
   "source": [
    "list(range(1,4))"
   ]
  },
  {
   "cell_type": "markdown",
   "metadata": {},
   "source": [
    "### Hwarm_Jumping on the Clouds\n",
    "> greedy\n",
    "- avoid the thunderheads(1), and jumup on the cumulus(0), the step range[1,2]\n"
   ]
  },
  {
   "cell_type": "code",
   "execution_count": 65,
   "metadata": {},
   "outputs": [],
   "source": [
    "def jumpingOnClouds(c):\n",
    "    lenth = len(c)\n",
    "    i,ans = 0,0\n",
    "    while i< lenth-1:\n",
    "        if c[i] == 0:\n",
    "            if i< lenth-2 and c[i+2] == 0:\n",
    "                i+=2\n",
    "            else:\n",
    "                i+=1\n",
    "        elif c[i] == 1:\n",
    "            i+= 1            \n",
    "        ans += 1\n",
    "    return ans"
   ]
  },
  {
   "cell_type": "code",
   "execution_count": 66,
   "metadata": {},
   "outputs": [
    {
     "data": {
      "text/plain": [
       "4"
      ]
     },
     "execution_count": 66,
     "metadata": {},
     "output_type": "execute_result"
    }
   ],
   "source": [
    "c = [0,0,1,0,0,1,0]\n",
    "c1 = [1,0,0,1,0,1]\n",
    "c2 = [0,0,1,0,0,1,0,0]\n",
    "c3 = [0,0,0,1,0,0]\n",
    "ans  = jumpingOnClouds(c1)\n",
    "ans"
   ]
  },
  {
   "cell_type": "markdown",
   "metadata": {},
   "source": [
    "### H_Array_New Year Chaos"
   ]
  },
  {
   "cell_type": "code",
   "execution_count": 28,
   "metadata": {},
   "outputs": [],
   "source": [
    "def minimumBribes(q):\n",
    "#     #lenth = len(q)\n",
    "#     ans = 0\n",
    "\n",
    "    # start from the end, so we can caluculate\n",
    "#     for i in range(len(q)-1): \n",
    "        # the initial correct position is i+1 \n",
    "        # Don't need abs, since a small number maybe move to behind.\n",
    "#         if abs(q[i]-(i+1)) > 2:\n",
    "#             print('Too chaotic')\n",
    "#             return\n",
    "#     for i in range(len(q)-1,-1,-1):\n",
    "#         if (q[i] - (i+1)) >2:\n",
    "#             print('Too chaotic',q[i])\n",
    "#             return\n",
    "        \n",
    "#         # j is truncated the negative number to 0, why q[i]-2\n",
    "#         j = max(0,q[i] - 2)\n",
    "\n",
    "#         while j < i:\n",
    "#             if q[j] > q[i]:\n",
    "#                 print(i,j)\n",
    "#                 ans += 1\n",
    "#             j +=1\n",
    "#             print(\"ans\",ans,\"j\",j,\"i\",i)\n",
    "\n",
    "#     print(ans)\n",
    "#     return\n",
    "\n",
    "\n",
    "    n = int(input())\n",
    "    a = list(map(int, input().split()))\n",
    "\n",
    "    if n <= 1:\n",
    "        return 0\n",
    "    if n == 2:\n",
    "        return int(a[-2] > a[-1])\n",
    "\n",
    "    answer = 0\n",
    "\n",
    "    for i in range(n):\n",
    "        if a[i] - (i + 1) > 2:\n",
    "            return \"Too chaotic\"\n",
    "        for j in range(max(0, a[i] - 2), i):\n",
    "            answer += a[j] > a[i]\n",
    "\n",
    "    return answer"
   ]
  },
  {
   "cell_type": "code",
   "execution_count": 30,
   "metadata": {},
   "outputs": [
    {
     "name": "stdout",
     "output_type": "stream",
     "text": [
      "5\n",
      "2 1 5 3 4\n"
     ]
    },
    {
     "data": {
      "text/plain": [
       "3"
      ]
     },
     "execution_count": 30,
     "metadata": {},
     "output_type": "execute_result"
    }
   ],
   "source": [
    "nums1 = [2,1,5,3,4]\n",
    "nums2 = [2,5,1,3,4]\n",
    "nums3 = [1,2,5,3,7,8,6,4]\n",
    "nums4 = [5,1,2,3,7,8,6,4]\n",
    "ans = minimumBribes(nums4)\n",
    "ans"
   ]
  },
  {
   "cell_type": "code",
   "execution_count": 27,
   "metadata": {},
   "outputs": [
    {
     "data": {
      "text/plain": [
       "[]"
      ]
     },
     "execution_count": 27,
     "metadata": {},
     "output_type": "execute_result"
    }
   ],
   "source": [
    "list(range(6,2))"
   ]
  },
  {
   "cell_type": "markdown",
   "metadata": {},
   "source": [
    "### H_ARRAY_Minimum Swaps 2\n",
    "> https://codereview.stackexchange.com/questions/172060/finding-the-minimum-number-of-swaps-to-sort-a-list"
   ]
  },
  {
   "cell_type": "code",
   "execution_count": 116,
   "metadata": {},
   "outputs": [
    {
     "name": "stdout",
     "output_type": "stream",
     "text": [
      "2 31 1 38 29 5 44 6 12 18 39 9 48 49 13 11 7 27 14 33 50 21 46 23 15 26 8 47 40 3 32 22 34 42 16 41 24 10 4 28 36 30 37 35 20 17 45 43 25 19\n"
     ]
    }
   ],
   "source": [
    "arr = list(map(int, input().rstrip().split()))"
   ]
  },
  {
   "cell_type": "code",
   "execution_count": null,
   "metadata": {},
   "outputs": [],
   "source": [
    "2 31 1 38 29 5 44 6 12 18 39 9 48 49 13 11 7 27 14 33 50 21 46 23 15 26 8 47 40 3 32 22 34 42 16 41 24 10 4 28 36 30 37 35 20 17 45 43 25 19"
   ]
  },
  {
   "cell_type": "code",
   "execution_count": 123,
   "metadata": {},
   "outputs": [],
   "source": [
    "def minimumSwaps1(arr):\n",
    "    ref_arr = sorted(arr)\n",
    "    index_dict = {v: i for i,v in enumerate(arr)}\n",
    "    swaps = 0\n",
    "    \n",
    "    for i,v in enumerate(arr):\n",
    "        correct_value = ref_arr[i]\n",
    "        if v != correct_value:\n",
    "            to_swap_ix = index_dict[correct_value]\n",
    "            arr[to_swap_ix],arr[i] = arr[i], arr[to_swap_ix]\n",
    "            index_dict[v] = to_swap_ix\n",
    "            index_dict[correct_value] = i\n",
    "            swaps += 1\n",
    "        print('swap1:',arr,'ans:',swaps)  \n",
    "    #print('swap1:',arr,'ans:',ans)      \n",
    "    return swaps"
   ]
  },
  {
   "cell_type": "code",
   "execution_count": 126,
   "metadata": {},
   "outputs": [
    {
     "name": "stdout",
     "output_type": "stream",
     "text": [
      "swap1: [3, 6, 6, 6, 6, 4, 4] ans: 1\n",
      "swap1: [3, 4, 6, 6, 6, 4, 6] ans: 2\n",
      "swap1: [3, 6, 4, 6, 6, 4, 6] ans: 3\n",
      "swap1: [3, 6, 4, 6, 6, 4, 6] ans: 3\n",
      "swap1: [3, 6, 4, 6, 6, 4, 6] ans: 3\n",
      "swap1: [3, 4, 4, 6, 6, 6, 6] ans: 4\n",
      "swap1: [3, 4, 4, 6, 6, 6, 6] ans: 4\n"
     ]
    }
   ],
   "source": [
    "ans1 = minimumSwaps1(nums1)"
   ]
  },
  {
   "cell_type": "code",
   "execution_count": 13,
   "metadata": {},
   "outputs": [],
   "source": [
    "# can't understand 2019-9-15 20:16:50\n",
    "# review at 2019-10-17 15:00:48\n",
    "    # assume arr start from 1.\n",
    "def minimumSwaps(arr):\n",
    "    ans = -1\n",
    "    for i in range(len(arr)):\n",
    "        print('i=',i)\n",
    "        if arr[i] == i+1:\n",
    "            continue\n",
    "        print(arr[i])\n",
    "        # indicat that arr[i] is the wrong number and should be placed in arr[i]-1,so \n",
    "        # not just exchange arr[i] and arr[arr[i]-1]\n",
    "        arr[i], arr[arr[i]-1] = arr[arr[i]-1], arr[i] \n",
    "        ans+=1\n",
    "        #i-=1 # this not work\n",
    "        print('swap:',arr,'ans:',ans,'i:',i)\n",
    "    #print('swap:',arr,'ans:',ans)\n",
    "    return ans"
   ]
  },
  {
   "cell_type": "code",
   "execution_count": 14,
   "metadata": {},
   "outputs": [
    {
     "name": "stdout",
     "output_type": "stream",
     "text": [
      "i= 0\n",
      "7\n",
      "swap: [6, 1, 3, 2, 4, 7, 6] ans: 0 i: 0\n",
      "i= 1\n",
      "1\n",
      "swap: [6, 6, 3, 2, 4, 1, 6] ans: 1 i: 1\n",
      "i= 2\n",
      "i= 3\n",
      "2\n",
      "swap: [6, 6, 3, 6, 4, 2, 6] ans: 2 i: 3\n",
      "i= 4\n",
      "4\n",
      "swap: [6, 6, 3, 6, 6, 4, 6] ans: 3 i: 4\n",
      "i= 5\n",
      "4\n",
      "swap: [6, 6, 3, 6, 6, 4, 6] ans: 4 i: 5\n",
      "i= 6\n",
      "6\n",
      "swap: [6, 6, 3, 6, 6, 4, 4] ans: 5 i: 6\n"
     ]
    }
   ],
   "source": [
    "nums1 = [7, 1, 3, 2, 4, 5, 6]\n",
    "nums2 = [4,3,2,1]\n",
    "ans = minimumSwaps(nums1)\n",
    "#ans1 = minimumSwaps1(nums1)"
   ]
  },
  {
   "cell_type": "markdown",
   "metadata": {},
   "source": [
    "### 80. Remove Duplicates from Sorted Array II\n",
    "\n",
    "Given a sorted array nums, remove the duplicates in-place such that duplicates appeared at most twice and return the new length.\n",
    "\n",
    "Do not allocate extra space for another array, you must do this by modifying the input array in-place with O(1) extra memory.\n",
    "\n",
    "Example 1:\n",
    "\n",
    "Given nums = [1,1,1,2,2,3],\n",
    "\n",
    "Your function should return length = 5, with the first five elements of nums being 1, 1, 2, 2 and 3 respectively.\n",
    "\n",
    "It doesn't matter what you leave beyond the returned length.\n",
    "Example 2:\n",
    "\n",
    "Given nums = [0,0,1,1,1,1,2,3,3],\n",
    "\n",
    "Your function should return length = 7, with the first seven elements of nums being modified to 0, 0, 1, 1, 2, 3 and 3 respectively.\n",
    "\n",
    "It doesn't matter what values are set beyond the returned length."
   ]
  },
  {
   "cell_type": "code",
   "execution_count": 79,
   "metadata": {},
   "outputs": [],
   "source": [
    "# sorted array\n",
    "# in-place\n",
    "\n",
    "def remove_duplicate(nums):\n",
    "    i = 0\n",
    "    # c1: i = 0, nums[0] = 0,i=1\n",
    "    # c2: i=1: nums[1] = 0, i=2\n",
    "    # c3: i=2: nums[2] = 1, i=3\n",
    "    # c4: i = 3: num[3] = 1,i=4\n",
    "    # c5: i= 4, value=1,nums[2] = 1,pass\n",
    "    # c6: i = 4, value = 1,\n",
    "    for value in nums:\n",
    "        \n",
    "        # because value appeared at most twice, so i-2\n",
    "        # a little not meet with the demand of the question. \n",
    "        if i < 2 or value > nums[i-2]:\n",
    "            nums[i] = value\n",
    "            i +=  1\n",
    "    return i"
   ]
  },
  {
   "cell_type": "code",
   "execution_count": 80,
   "metadata": {},
   "outputs": [
    {
     "data": {
      "text/plain": [
       "7"
      ]
     },
     "execution_count": 80,
     "metadata": {},
     "output_type": "execute_result"
    }
   ],
   "source": [
    "nums = [0,0,1,1,1,1,2,3,3]\n",
    "ans = remove_duplicate(nums)\n",
    "ans"
   ]
  },
  {
   "cell_type": "markdown",
   "metadata": {},
   "source": [
    "### 277. Find the Celebrity\n",
    "\n",
    "> array, medi\n",
    "\n",
    "> TODO\n",
    "\n",
    "Suppose you are at a party with n people (labeled from 0 to n - 1) and among them, there may exist one celebrity. The definition of a celebrity is that all the other n - 1 people know him/her but he/she does not know any of them.\n",
    "\n",
    "Now you want to find out who the celebrity is or verify that there is not one. The only thing you are allowed to do is to ask questions like: \"Hi, A. Do you know B?\" to get information of whether A knows B. You need to find out the celebrity (or verify there is not one) by asking as few questions as possible (in the asymptotic sense).\n",
    "\n",
    "You are given a helper function bool knows(a, b) which tells you whether A knows B. Implement a function int findCelebrity(n), your function should minimize the number of calls to knows.\n",
    "\n",
    "Note: There will be exactly one celebrity if he/she is in the party. Return the celebrity's label if there is a celebrity in the party. If there is no celebrity, return -1."
   ]
  },
  {
   "cell_type": "markdown",
   "metadata": {},
   "source": [
    "### 442. Find All Duplicates in an Array\n",
    "\n",
    "> array, medium\n",
    "\n",
    "> interesting problem\n",
    "\n",
    "Given an array of integers, 1 ≤ a[i] ≤ n (n = size of array), some elements appear twice and others appear once.\n",
    "\n",
    "Find all the elements that appear twice in this array.\n",
    "\n",
    "Could you do it without extra space and in O(n) runtime?\n",
    "\n",
    "Example:\n",
    "Input:\n",
    "[4,3,2,7,8,2,3,1]\n",
    "\n",
    "Output:\n",
    "[2,3]"
   ]
  },
  {
   "cell_type": "code",
   "execution_count": 13,
   "metadata": {},
   "outputs": [],
   "source": [
    "def find_duplicate(nums):\n",
    "    out = []\n",
    "    \n",
    "    # if the value of an item == the order of item (1=<a[i]<= n), then this value contain 2 aspect information:\n",
    "    # value & order\n",
    "    # in this problem, store the duplicate information to the symbol of the item which \n",
    "    # its order is equal to value of item current in loop.\n",
    "    \n",
    "    for value in nums:\n",
    "        if nums[abs(value) - 1] < 0:\n",
    "                out.append(value)\n",
    "        else:\n",
    "            nums[abs(value)- 1] *= -1\n",
    "    return out"
   ]
  },
  {
   "cell_type": "code",
   "execution_count": 14,
   "metadata": {},
   "outputs": [
    {
     "data": {
      "text/plain": [
       "[1, 2, 4]"
      ]
     },
     "execution_count": 14,
     "metadata": {},
     "output_type": "execute_result"
    }
   ],
   "source": [
    "nums = [1,2,1,2,3,4,5,4]\n",
    "ans = find_duplicate(nums)\n",
    "ans"
   ]
  },
  {
   "cell_type": "markdown",
   "metadata": {},
   "source": [
    "### 238. Product of Array Except Self\n",
    "\n",
    "> 2019-1-3 10:12:03\n",
    "\n",
    "> medi, array, left and right.\n",
    "\n",
    "\n",
    "Given an array nums of n integers where n > 1,  return an array output such that output[i] is equal to the product of all the elements of nums except nums[i].\n",
    "\n",
    "Example:\n",
    "\n",
    "Input:  [1,2,3,4]\n",
    "Output: [24,12,8,6]\n",
    "Note: Please solve it without division and in O(n).\n",
    "\n",
    "Follow up:\n",
    "Could you solve it with constant space complexity? (The output array does not count as extra space for the purpose of space complexity analysis.)"
   ]
  },
  {
   "cell_type": "code",
   "execution_count": 11,
   "metadata": {},
   "outputs": [],
   "source": [
    "def productExceptSelf(nums):\n",
    "    \"\"\"\n",
    "    :type nums: List[int]\n",
    "    :rtype: List[int]\n",
    "    \"\"\"\n",
    "    length = len(nums)\n",
    "    left = 1\n",
    "    ans = [1]*length\n",
    "    \n",
    "    # assume there is a [1] item on the left and right sides. not influte the result.\n",
    "    # S1: create a same lenth list wiht all item is one[1,1,1,...]\n",
    "    # S2: compute the left multiply\n",
    "    # S3: compute the right multipy\n",
    "    for i in range(length):\n",
    "        ans[i] = ans[i]*left\n",
    "        left = left*nums[i]\n",
    "    \n",
    "    right = 1\n",
    "    for i in range(length-1,-1,-1):\n",
    "        ans[i] = ans[i]*right\n",
    "        right = right*nums[i]\n",
    "    \n",
    "    return ans"
   ]
  },
  {
   "cell_type": "code",
   "execution_count": 12,
   "metadata": {},
   "outputs": [
    {
     "data": {
      "text/plain": [
       "[24, 12, 8, 6]"
      ]
     },
     "execution_count": 12,
     "metadata": {},
     "output_type": "execute_result"
    }
   ],
   "source": [
    "nums = [1,2,3,4]\n",
    "ans = productExceptSelf(nums)\n",
    "ans"
   ]
  },
  {
   "cell_type": "markdown",
   "metadata": {},
   "source": [
    "### 495. Teemo Attacking\n",
    "> 2019-1-3 11:42:40\n",
    " \n",
    "> medi, array, \n",
    "\n",
    "\n",
    "In LOL world, there is a hero called Teemo and his attacking can make his enemy Ashe be in poisoned condition. Now, given the Teemo's attacking ascending time series towards Ashe and the poisoning time duration per Teemo's attacking, you need to output the total time that Ashe is in poisoned condition.\n",
    "\n",
    "You may assume that Teemo attacks at the very beginning of a specific time point, and makes Ashe be in poisoned condition immediately.\n",
    "\n",
    "Example 1:\n",
    "Input: [1,4], 2\n",
    "Output: 4\n",
    "Explanation: At time point 1, Teemo starts attacking Ashe and makes Ashe be poisoned immediately. \n",
    "This poisoned status will last 2 seconds until the end of time point 2. \n",
    "And at time point 4, Teemo attacks Ashe again, and causes Ashe to be in poisoned status for another 2 seconds. \n",
    "So you finally need to output 4.\n",
    "Example 2:\n",
    "Input: [1,2], 2\n",
    "Output: 3\n",
    "Explanation: At time point 1, Teemo starts attacking Ashe and makes Ashe be poisoned. \n",
    "This poisoned status will last 2 seconds until the end of time point 2. \n",
    "However, at the beginning of time point 2, Teemo attacks Ashe again who is already in poisoned status. \n",
    "Since the poisoned status won't add up together, though the second poisoning attack will still work at time point 2, it will stop at the end of time point 3. \n",
    "So you finally need to output 3.\n",
    "Note:\n",
    "You may assume the length of given time series array won't exceed 10000.\n",
    "You may assume the numbers in the Teemo's attacking time series and his poisoning time duration per attacking are non-negative integers, which won't exceed 10,000,000."
   ]
  },
  {
   "cell_type": "code",
   "execution_count": 15,
   "metadata": {},
   "outputs": [],
   "source": [
    "def findPoisonedDuration(timeSeries, duration):\n",
    "\n",
    "    \"\"\"\n",
    "    :type timeSeries: List[int]\n",
    "    :type duration: int\n",
    "    :rtype: int\n",
    "    \"\"\"\n",
    "    # M1 for the diff between two time point, so add an inf item.\n",
    "#     poisoned = 0\n",
    "#     timeSeries.append(float('inf'))\n",
    "#     for i in range(len(timeSeries)-1):\n",
    "#         if timeSeries[i] + duration <= timeSeries[i+1]:\n",
    "#             poisoned += duration\n",
    "#         else:\n",
    "#             poisoned += timeSeries[i+1] - timeSeries[i]\n",
    "    \n",
    "#     return poisoned\n",
    "    \n",
    "    # M2 start for the index 1 item.\n",
    "    poisoned = 0\n",
    "    for i in range(1,len(timeSeries)):\n",
    "        diff = timeSeries[i] - timeSeries[i-1]\n",
    "        if duration <= diff:\n",
    "            poisoned +=duration\n",
    "        else:\n",
    "            poisoned += diff\n",
    "    \n",
    "    poisoned += duration\n",
    "    return poisoned"
   ]
  },
  {
   "cell_type": "code",
   "execution_count": 16,
   "metadata": {},
   "outputs": [
    {
     "data": {
      "text/plain": [
       "7"
      ]
     },
     "execution_count": 16,
     "metadata": {},
     "output_type": "execute_result"
    }
   ],
   "source": [
    "timeSeries = [1,3,5,6]\n",
    "duration = 2\n",
    "poisoned = findPoisonedDuration(timeSeries,duration)\n",
    "poisoned"
   ]
  },
  {
   "cell_type": "markdown",
   "metadata": {},
   "source": [
    "### 565. Array Nesting\n",
    "> 2019-1-4 11:57:49\n",
    "\n",
    "> array,middle, while loop and two variable by turns for iterator\n",
    "\n",
    "> extra same length list for indicator\n",
    "\n",
    "A zero-indexed array A of length N contains all integers from 0 to N-1. Find and return the longest length of set S, where S[i] = {A[i], A[A[i]], A[A[A[i]]], ... } subjected to the rule below.\n",
    "\n",
    "Suppose the first element in S starts with the selection of element A[i] of index = i, the next element in S should be A[A[i]], and then A[A[A[i]]]… By that analogy, we stop adding right before a duplicate element occurs in S.\n",
    "\n",
    " \n",
    "\n",
    "Example 1:\n",
    "\n",
    "Input: A = [5,4,0,3,1,6,2]\n",
    "Output: 4\n",
    "Explanation: \n",
    "A[0] = 5, A[1] = 4, A[2] = 0, A[3] = 3, A[4] = 1, A[5] = 6, A[6] = 2.\n",
    "\n",
    "One of the longest S[K]:\n",
    "S[0] = {A[0], A[5], A[6], A[2]} = {5, 6, 2, 0}\n",
    " \n",
    "\n",
    "Note:\n",
    "\n",
    "N is an integer within the range [1, 20,000].\n",
    "The elements of A are all distinct.\n",
    "Each element of A is an integer within the range [0, N-1]"
   ]
  },
  {
   "cell_type": "code",
   "execution_count": 17,
   "metadata": {},
   "outputs": [],
   "source": [
    "def arrayNesting(nums):\n",
    "    \"\"\"\n",
    "    :type nums: List[int]\n",
    "    :rtype: int\n",
    "    \"\"\"\n",
    "    \n",
    "    seen = [0]*len(nums)\n",
    "    res = 0\n",
    "    for i in range(len(nums)):\n",
    "        # S maybe start from everypoint, but can not use same item, so one item was checked, just ignored.\n",
    "        if seen[i] != -1:\n",
    "            j = i\n",
    "            count = 0\n",
    "            \n",
    "            while seen[j] != -1:                \n",
    "                # since the integers are from 0 to N-1, is equal the index range,\n",
    "                # so be sure that every index is in the nums\n",
    "                #  \n",
    "                count += 1\n",
    "                seen[j] = -1\n",
    "                j = nums[j]\n",
    "            res = max(res, count)\n",
    "    \n",
    "    return res                \n"
   ]
  },
  {
   "cell_type": "code",
   "execution_count": 18,
   "metadata": {},
   "outputs": [
    {
     "data": {
      "text/plain": [
       "4"
      ]
     },
     "execution_count": 18,
     "metadata": {},
     "output_type": "execute_result"
    }
   ],
   "source": [
    "nums = [5,4,0,3,1,6,2]\n",
    "ans = arrayNesting(nums)\n",
    "ans"
   ]
  },
  {
   "cell_type": "markdown",
   "metadata": {},
   "source": [
    "### 667. Beautiful Arrangement II\n",
    "\n",
    "> 2019-1-4 09:12:44\n",
    "\n",
    "> array, middle, conditional expression.\n",
    "\n",
    "> where is \"arrangement I\"?\n",
    "\n",
    "Given two integers n and k, you need to construct a list which contains n different positive integers ranging from 1 to n and obeys the following requirement: \n",
    "Suppose this list is [a1, a2, a3, ... , an], then the list [|a1 - a2|, |a2 - a3|, |a3 - a4|, ... , |an-1 - an|] has exactly k distinct integers.\n",
    "\n",
    "If there are multiple answers, print any of them.\n",
    "\n",
    "Example 1:\n",
    "Input: n = 3, k = 1\n",
    "Output: [1, 2, 3]\n",
    "Explanation: The [1, 2, 3] has three different positive integers ranging from 1 to 3, and the [1, 1] has exactly 1 distinct integer: 1.\n",
    "Example 2:\n",
    "Input: n = 3, k = 2\n",
    "Output: [1, 3, 2]\n",
    "Explanation: The [1, 3, 2] has three different positive integers ranging from 1 to 3, and the [2, 1] has exactly 2 distinct integers: 1 and 2.\n",
    "Note:\n",
    "The n and k are in the range 1 <= k < n <= 10^4.\n"
   ]
  },
  {
   "cell_type": "code",
   "execution_count": 20,
   "metadata": {},
   "outputs": [],
   "source": [
    "def constructArray(n, k):\n",
    "    \"\"\"\n",
    "    :type n: int\n",
    "    :type k: int\n",
    "    :rtype: List[int]\n",
    "    \"\"\"\n",
    "\n",
    "    if n <= k:\n",
    "        return []\n",
    "\n",
    "    res = []\n",
    "    head, tail = 1, n\n",
    "\n",
    "\n",
    "    for i in range(n):\n",
    "        if i < k-1:\n",
    "            if i % 2 == 0:\n",
    "                res.append(head)\n",
    "                head +=1\n",
    "            else:\n",
    "                res.append(tail)\n",
    "                tail -=1           \n",
    "        else:                \n",
    "            res.extend(list(range(head,tail+1) if k % 2 == 1 else range(tail,head-1,-1)))\n",
    "\n",
    "            return res\n",
    "    \n",
    "    \n",
    "\n",
    "# M2 : \n",
    "#     for i in range(n):\n",
    "#         if i < k-1:\n",
    "#             if i % 2 == 0:\n",
    "#                 res.append(head)\n",
    "#                 head +=1\n",
    "#             else:\n",
    "#                 res.append(tail)\n",
    "#                 tail -=1           \n",
    "#         else:\n",
    "#             if k % 2 == 1:\n",
    "#                 res.extend(list(range(head,tail+1)))\n",
    "#             else:\n",
    "#                 res.extend(list(range(tail,head-1,-1)))\n",
    "            \n",
    "#             return res\n",
    "\n",
    "                           \n",
    "#  M1: \n",
    "#     for i in range(n):\n",
    "#         # first k-1 integers need generated, the remain just in order according k is odd or even.\n",
    "#         if k % 2 == 1:  \n",
    "#             if i < k:\n",
    "#                 if i % 2 == 0:\n",
    "#                     res.append(head)\n",
    "#                     head +=1\n",
    "#                 else:\n",
    "#                     res.append(tail)\n",
    "#                     tail -=1\n",
    "#             else:\n",
    "#                 res.append(head)\n",
    "#                 head += 1\n",
    "        \n",
    "#         else:\n",
    "#             if i < k:\n",
    "#                 if i % 2 == 0:\n",
    "#                     res.append(head)\n",
    "#                     head +=1\n",
    "#                 else:\n",
    "#                     res.append(tail)\n",
    "#                     tail -=1\n",
    "#             else:\n",
    "#                 res.append(tail)\n",
    "#                 tail -= 1\n",
    "        \n",
    "#     return res\n",
    "    "
   ]
  },
  {
   "cell_type": "code",
   "execution_count": 21,
   "metadata": {},
   "outputs": [
    {
     "data": {
      "text/plain": [
       "[1, 9, 2, 8, 7, 6, 5, 4, 3]"
      ]
     },
     "execution_count": 21,
     "metadata": {},
     "output_type": "execute_result"
    }
   ],
   "source": [
    "n=9\n",
    "k=4\n",
    "res = constructArray(n,k)\n",
    "res"
   ]
  },
  {
   "cell_type": "markdown",
   "metadata": {},
   "source": [
    "### 695. Max Area of Island\n",
    "> 2019-1-2 10:16:55\n",
    "\n",
    "\n",
    "> mid, array, FloodFill \n",
    "\n",
    "Given a non-empty 2D array grid of 0's and 1's, an island is a group of 1's (representing land) connected 4-directionally (horizontal or vertical.) You may assume all four edges of the grid are surrounded by water.\n",
    "\n",
    "Find the maximum area of an island in the given 2D array. (If there is no island, the maximum area is 0.)\n",
    "\n",
    "Example 1:\n",
    "\n",
    "[[0,0,1,0,0,0,0,1,0,0,0,0,0],\n",
    " [0,0,0,0,0,0,0,1,1,1,0,0,0],\n",
    " [0,1,1,0,1,0,0,0,0,0,0,0,0],\n",
    " [0,1,0,0,1,1,0,0,1,0,1,0,0],\n",
    " [0,1,0,0,1,1,0,0,1,1,1,0,0],\n",
    " [0,0,0,0,0,0,0,0,0,0,1,0,0],\n",
    " [0,0,0,0,0,0,0,1,1,1,0,0,0],\n",
    " [0,0,0,0,0,0,0,1,1,0,0,0,0]]\n",
    "Given the above grid, return 6. Note the answer is not 11, because the island must be connected 4-directionally.\n",
    "Example 2:\n",
    "\n",
    "[[0,0,0,0,0,0,0,0]]\n",
    "Given the above grid, return 0.\n",
    "Note: The length of each dimension in the given grid does not exceed 50."
   ]
  },
  {
   "cell_type": "code",
   "execution_count": 23,
   "metadata": {},
   "outputs": [],
   "source": [
    "from collections import deque\n",
    "\n",
    "def get_area(grid,x,y):\n",
    "    \"\"\"\n",
    "    x for row, first index of array\n",
    "    y for column, second index of array\n",
    "    \"\"\"\n",
    "    \n",
    "    \n",
    "    dx_option = [0,1,0,-1]\n",
    "    dy_option = [-1,0,1,0]\n",
    "    \n",
    "    # attention: after initial the queue, don't forget submerge the first item.\n",
    "    # here can be optimize\n",
    "    \n",
    "    if grid[x][y]:\n",
    "        queue = [(x,y)]    \n",
    "        grid[x][y]=0\n",
    "    else:\n",
    "        queue = []\n",
    "    \n",
    "    area = 0\n",
    "    while queue:\n",
    "        area +=1\n",
    "        x,y = queue.pop(0)\n",
    "        for dx, dy in zip(dx_option,dy_option):\n",
    "            if (0 <= x+dx <= len(grid)-1) and (0 <= y+dy <= len(grid[0])-1):\n",
    "                if grid[x+dx][y+dy]:\n",
    "                    queue.append((x+dx,y+dy))\n",
    "                    grid[x+dx][y+dy] = 0\n",
    "    return area\n",
    "\n",
    "def max_area_island(grid):\n",
    "\n",
    "    max_area = 0\n",
    "    for i in range(len(grid)):\n",
    "        for j in range(len(grid[0])):\n",
    "            max_area = max(max_area,get_area(grid,i,j))\n",
    "    return max_area\n",
    "    \n",
    "    "
   ]
  },
  {
   "cell_type": "code",
   "execution_count": 24,
   "metadata": {},
   "outputs": [],
   "source": [
    "# M2 recursion\n",
    "def maxAreaOfIsland(grid):\n",
    "    \"\"\"\n",
    "    :type grid: List[List[int]]\n",
    "    :rtype: int\n",
    "    https://leetcode.com/problems/max-area-of-island/discuss/108541/easy-python\n",
    "\n",
    "    \"\"\"\n",
    "    m, n = len(grid), len(grid[0])\n",
    "\n",
    "    def dfs(i, j):\n",
    "        if 0 <= i < m and 0 <= j < n and grid[i][j]:\n",
    "            grid[i][j] = 0\n",
    "            return 1 + dfs(i - 1, j) + dfs(i, j + 1) + dfs(i + 1, j) + dfs(i, j - 1)\n",
    "        return 0\n",
    "\n",
    "    areas = [dfs(i, j) for i in range(m) for j in range(n) if grid[i][j]]\n",
    "    return max(areas) if areas else 0\n",
    "        "
   ]
  },
  {
   "cell_type": "code",
   "execution_count": 25,
   "metadata": {},
   "outputs": [
    {
     "name": "stdout",
     "output_type": "stream",
     "text": [
      "6 6 2 2\n"
     ]
    }
   ],
   "source": [
    "tmp1=[[0,0,1,0,0,0,0,1,0,0,0,0,0],\n",
    " [0,0,0,0,0,0,0,1,1,1,0,0,0],\n",
    " [0,1,1,0,1,0,0,0,0,0,0,0,0],\n",
    " [0,1,0,0,1,1,0,0,1,0,1,0,0],\n",
    " [0,1,0,0,1,1,0,0,1,1,1,0,0],\n",
    " [0,0,0,0,0,0,0,0,0,0,1,0,0],\n",
    " [0,0,0,0,0,0,0,1,1,1,0,0,0],\n",
    " [0,0,0,0,0,0,0,1,1,0,0,0,0]]\n",
    "\n",
    "tmp3=[[0,0,1,0,0,0,0,1,0,0,0,0,0],\n",
    " [0,0,0,0,0,0,0,1,1,1,0,0,0],\n",
    " [0,1,1,0,1,0,0,0,0,0,0,0,0],\n",
    " [0,1,0,0,1,1,0,0,1,0,1,0,0],\n",
    " [0,1,0,0,1,1,0,0,1,1,1,0,0],\n",
    " [0,0,0,0,0,0,0,0,0,0,1,0,0],\n",
    " [0,0,0,0,0,0,0,1,1,1,0,0,0],\n",
    " [0,0,0,0,0,0,0,1,1,0,0,0,0]]\n",
    "\n",
    "tmp2 = [[0,0,1],\n",
    "       [0,0,1]]\n",
    "\n",
    "tmp4 = [[0,0,1],\n",
    "       [0,0,1]]\n",
    "\n",
    "ans1 = max_area_island(tmp1)\n",
    "ans3 = maxAreaOfIsland(tmp3)\n",
    "ans2 = max_area_island(tmp2)\n",
    "ans4 = maxAreaOfIsland(tmp4)\n",
    "\n",
    "print(ans1,ans3,ans2,ans4)"
   ]
  },
  {
   "cell_type": "markdown",
   "metadata": {},
   "source": [
    "### 950. Reveal Cards In Increasing Order\n",
    "> 2019-1-1 16:00:36\n",
    "\n",
    "> deque, middle.\n",
    "\n",
    "In a deck of cards, every card has a unique integer.  You can order the deck in any order you want.\n",
    "\n",
    "Initially, all the cards start face down (unrevealed) in one deck.\n",
    "\n",
    "Now, you do the following steps repeatedly, until all cards are revealed:\n",
    "\n",
    "Take the top card of the deck, reveal it, and take it out of the deck.\n",
    "If there are still cards in the deck, put the next top card of the deck at the bottom of the deck.\n",
    "If there are still unrevealed cards, go back to step 1.  Otherwise, stop.\n",
    "Return an ordering of the deck that would reveal the cards in increasing order.\n",
    "\n",
    "The first entry in the answer is considered to be the top of the deck.\n",
    "\n",
    "Example 1:\n",
    "\n",
    "Input: [17,13,11,2,3,5,7]\n",
    "Output: [2,13,3,11,5,17,7]\n",
    "Explanation: \n",
    "We get the deck in the order [17,13,11,2,3,5,7] (this order doesn't matter), and reorder it.\n",
    "After reordering, the deck starts as [2,13,3,11,5,17,7], where 2 is the top of the deck.\n",
    "We reveal 2, and move 13 to the bottom.  The deck is now [3,11,5,17,7,13].\n",
    "We reveal 3, and move 11 to the bottom.  The deck is now [5,17,7,13,11].\n",
    "We reveal 5, and move 17 to the bottom.  The deck is now [7,13,11,17].\n",
    "We reveal 7, and move 13 to the bottom.  The deck is now [11,17,13].\n",
    "We reveal 11, and move 17 to the bottom.  The deck is now [13,17].\n",
    "We reveal 13, and move 17 to the bottom.  The deck is now [17].\n",
    "We reveal 17.\n",
    "Since all the cards revealed are in increasing order, the answer is correct.\n",
    " \n",
    "\n",
    "Note:\n",
    "\n",
    "1 <= A.length <= 1000\n",
    "1 <= A[i] <= 10^6\n",
    "A[i] != A[j] for all i != j"
   ]
  },
  {
   "cell_type": "code",
   "execution_count": 44,
   "metadata": {},
   "outputs": [],
   "source": [
    "from collections import deque\n",
    "\n",
    "def cards_increase_order(deck):\n",
    "    \n",
    "# M1 simulate the reveal process, record the index, get corresponding value of the ordered index.\n",
    "\n",
    "    length = len(deck)\n",
    "\n",
    "    if length == 1:\n",
    "        return deck\n",
    "    \n",
    "    # list for store index of every card\n",
    "    rank = deque([i for i in range(length)])\n",
    "    res = []\n",
    "    while rank:\n",
    "        res.append(rank.popleft())\n",
    "        if rank:\n",
    "            rank.append(rank.popleft())\n",
    "\n",
    "    sorted_deck = sorted(deck)\n",
    "    return [ele[0] for ele in sorted(list(zip(sorted_deck, res)), key=lambda x:x[1])]\n",
    "    \n",
    "\n",
    "# M2, this method can't work since the empty deque.\n",
    "\n",
    "#     res = [None]*length\n",
    "#     for i in range(length):\n",
    "#         print(i)\n",
    "#         res[rank.popleft()] = sorted_nums[i] \n",
    "#         rank.append(rank.popleft())\n",
    "#     return res\n"
   ]
  },
  {
   "cell_type": "code",
   "execution_count": 45,
   "metadata": {},
   "outputs": [
    {
     "data": {
      "text/plain": [
       "[2, 13, 3, 11, 5, 17, 7]"
      ]
     },
     "execution_count": 45,
     "metadata": {},
     "output_type": "execute_result"
    }
   ],
   "source": [
    "nums = [2,3,5,7,11,13,17]\n",
    "result = cards_increase_order(nums)\n",
    "result"
   ]
  },
  {
   "cell_type": "markdown",
   "metadata": {},
   "source": [
    "### 134. Gas Station\n",
    "There are N gas stations along a circular route, where the amount of gas at station i is gas[i].\n",
    "\n",
    "You have a car with an unlimited gas tank and it costs cost[i] of gas to travel from station i to its next station (i+1). You begin the journey with an empty tank at one of the gas stations.\n",
    "\n",
    "Return the starting gas station's index if you can travel around the circuit once in the clockwise direction, otherwise return -1.\n",
    "\n",
    "Note:\n",
    "\n",
    "If there exists a solution, it is guaranteed to be unique.\n",
    "Both input arrays are non-empty and have the same length.\n",
    "Each element in the input arrays is a non-negative integer.\n",
    "\n",
    "Example 1:\n",
    "\n",
    "Input: \n",
    "gas  = [1,2,3,4,5]\n",
    "cost = [3,4,5,1,2]\n",
    "\n",
    "Output: 3\n",
    "\n",
    "Explanation:\n",
    "Start at station 3 (index 3) and fill up with 4 unit of gas. Your tank = 0 + 4 = 4\n",
    "Travel to station 4. Your tank = 4 - 1 + 5 = 8\n",
    "Travel to station 0. Your tank = 8 - 2 + 1 = 7\n",
    "Travel to station 1. Your tank = 7 - 3 + 2 = 6\n",
    "Travel to station 2. Your tank = 6 - 4 + 3 = 5\n",
    "Travel to station 3. The cost is 5. Your gas is just enough to travel back to station 3.\n",
    "Therefore, return 3 as the starting index.\n",
    "\n",
    "Example 2:\n",
    "\n",
    "Input: \n",
    "gas  = [2,3,4]\n",
    "cost = [3,4,3]\n",
    "\n",
    "Output: -1\n",
    "\n",
    "Explanation:\n",
    "You can't start at station 0 or 1, as there is not enough gas to travel to the next station.\n",
    "Let's start at station 2 and fill up with 4 unit of gas. Your tank = 0 + 4 = 4\n",
    "Travel to station 0. Your tank = 4 - 3 + 2 = 3\n",
    "Travel to station 1. Your tank = 3 - 3 + 3 = 3\n",
    "You cannot travel back to station 2, as it requires 4 unit of gas but you only have 3.\n",
    "Therefore, you can't travel around the circuit once no matter where you start."
   ]
  },
  {
   "cell_type": "code",
   "execution_count": 1,
   "metadata": {},
   "outputs": [],
   "source": [
    "def canCompleteCircuit(gas, cost):\n",
    "    \"\"\"\n",
    "    :type gas: List[int]\n",
    "    :type cost: List[int]\n",
    "    :rtype: int\n",
    "    \"\"\"\n",
    "    \n",
    "    # Runtime: 36 ms, faster than 99.88%\n",
    "    \n",
    "    # depend on a principle that \n",
    "    # 1. If car starts at A and can not reach B. Any station between A and B can not reach B.(B is the first station that A can not reach.)\n",
    "    # 2. If the total number of gas is bigger than the total number of cost. There must be a solution.\n",
    "    tank, start = 0, 0\n",
    "    for i in range(len(gas)):\n",
    "        tank += gas[i] - cost[i]\n",
    "        if tank < 0:\n",
    "            tank, start = 0, i + 1\n",
    "    return -1 if sum(gas) < sum(cost) else start\n",
    "    "
   ]
  },
  {
   "cell_type": "code",
   "execution_count": 2,
   "metadata": {},
   "outputs": [
    {
     "data": {
      "text/plain": [
       "3"
      ]
     },
     "execution_count": 2,
     "metadata": {},
     "output_type": "execute_result"
    }
   ],
   "source": [
    "gas = [1,2,3,4,5]\n",
    "cost = [3,4,5,1,2]\n",
    "ans = canCompleteCircuit(gas,cost)\n",
    "ans"
   ]
  },
  {
   "cell_type": "markdown",
   "metadata": {},
   "source": [
    "### 229. Majority Element II\n",
    "Given an integer array of size n, find all elements that appear more than ⌊ n/3 ⌋ times.\n",
    "\n",
    "Note: The algorithm should run in linear time and in O(1) space.\n",
    "\n",
    "Example 1:\n",
    "\n",
    "Input: [3,2,3]\n",
    "Output: [3]\n",
    "Example 2:\n",
    "\n",
    "Input: [1,1,1,3,3,2,2,2]\n",
    "Output: [1,2]"
   ]
  },
  {
   "cell_type": "code",
   "execution_count": 39,
   "metadata": {},
   "outputs": [],
   "source": [
    "from collections import Counter\n",
    "def majorityElement(nums):\n",
    "    \"\"\"\n",
    "    :type nums: List[int]\n",
    "    :rtype: List[int]\n",
    "    \"\"\"\n",
    "    # M1 Runtime: 44 ms, faster than 100.00%\n",
    "#     cnt_most = Counter(nums).most_common()\n",
    "#     print(cnt_most)\n",
    "#     ans = []\n",
    "#     for key, value in cnt_most:\n",
    "#         if value > len(nums) //3:\n",
    "#             ans.append(key)\n",
    "#     return ans\n",
    "    \n",
    "    # M2 \n",
    "    # a fact: the total number of the ans is less equal 2\n",
    "#     count1, count2, cand1, cand2 = 0, 0, 0, 1\n",
    "#     for val in nums:\n",
    "        \n",
    "    "
   ]
  },
  {
   "cell_type": "code",
   "execution_count": 40,
   "metadata": {},
   "outputs": [
    {
     "name": "stdout",
     "output_type": "stream",
     "text": [
      "[(1, 3), (2, 3), (3, 2)]\n"
     ]
    },
    {
     "data": {
      "text/plain": [
       "[1, 2]"
      ]
     },
     "execution_count": 40,
     "metadata": {},
     "output_type": "execute_result"
    }
   ],
   "source": [
    "nums = [1,1,1,3,3,2,2,2]\n",
    "ans = majorityElement(nums)\n",
    "ans"
   ]
  },
  {
   "cell_type": "markdown",
   "metadata": {},
   "source": [
    "### 274. H-Index\n",
    "Given an array of citations (each citation is a non-negative integer) of a researcher, write a function to compute the researcher's h-index.\n",
    "\n",
    "According to the definition of h-index on Wikipedia: \"A scientist has index h if h of his/her N papers have at least h citations each, and the other N − h papers have no more than h citations each.\"\n",
    "\n",
    "Example:\n",
    "\n",
    "Input: citations = [3,0,6,1,5]\n",
    "Output: 3 \n",
    "Explanation: [3,0,6,1,5] means the researcher has 5 papers in total and each of them had \n",
    "             received 3, 0, 6, 1, 5 citations respectively. \n",
    "             Since the researcher has 3 papers with at least 3 citations each and the remaining \n",
    "             two with no more than 3 citations each, her h-index is 3.\n",
    "Note: If there are several possible values for h, the maximum one is taken as the h-index."
   ]
  },
  {
   "cell_type": "code",
   "execution_count": 51,
   "metadata": {},
   "outputs": [],
   "source": [
    "def hIndex(citations):\n",
    "    \"\"\"\n",
    "    :type citations: List[int]\n",
    "    :rtype: int\n",
    "    \"\"\"\n",
    "#     M1: Wrong\n",
    "#     lenth = len(citations)\n",
    "#     cit_sort = sorted(citations, reverse=True)   \n",
    "#     for i, value in enumerate(cit_sort):\n",
    "#         if value <= lenth and value >= i+1 and cit_sort[i+1] < i+1:\n",
    "#             return i+1\n",
    "#     for i in range(lenth-1):\n",
    "#         if cit_sort[i] <= lenth and cit_sort[i] >=i+1 and cit_sort[i+1] < i+1:\n",
    "#             return i+1\n",
    "#     return citations[0]\n",
    "\n",
    "# M2: Runtime: 36 ms, faster than 99.53%\n",
    "#   use the normal order first rather than ther reverse order. \n",
    "    citations.sort()\n",
    "    lenth = len(citations)\n",
    "    for i in range(lenth):\n",
    "        if citations[i] >= lenth-i:\n",
    "            return lenth - i\n",
    "    return 0\n",
    "    "
   ]
  },
  {
   "cell_type": "code",
   "execution_count": 52,
   "metadata": {},
   "outputs": [],
   "source": [
    "citations = [4,0,6,1,5]\n",
    "ans = hIndex(citations)\n",
    "ans"
   ]
  },
  {
   "cell_type": "markdown",
   "metadata": {},
   "source": [
    "### 275. H-Index II, T1\n",
    "\n",
    "> binary search\n",
    "\n",
    "Given an array of citations sorted in ascending order (each citation is a non-negative integer) of a researcher, write a function to compute the researcher's h-index.\n",
    "\n",
    "According to the definition of h-index on Wikipedia: \"A scientist has index h if h of his/her N papers have at least h citations each, and the other N − h papers have no more than h citations each.\"\n",
    "\n",
    "Example:\n",
    "\n",
    "Input: citations = [0,1,3,5,6]\n",
    "Output: 3 \n",
    "Explanation: [0,1,3,5,6] means the researcher has 5 papers in total and each of them had \n",
    "             received 0, 1, 3, 5, 6 citations respectively. \n",
    "             Since the researcher has 3 papers with at least 3 citations each and the remaining \n",
    "             two with no more than 3 citations each, her h-index is 3.\n",
    "Note:\n",
    "\n",
    "If there are several possible values for h, the maximum one is taken as the h-index.\n",
    "\n",
    "Follow up:\n",
    "\n",
    "This is a follow up problem to H-Index, where citations is now guaranteed to be sorted in ascending order.\n",
    "Could you solve it in logarithmic time complexity?"
   ]
  },
  {
   "cell_type": "code",
   "execution_count": 7,
   "metadata": {},
   "outputs": [],
   "source": [
    "def hIndex(citations):\n",
    "    \"\"\"\n",
    "    :type citations: List[int]\n",
    "    :rtype: int\n",
    "    \"\"\"\n",
    "# M1, O(N)\n",
    "#     lenth = len(citations)\n",
    "#     for i in range(lenth):\n",
    "#         if citations[i] >= lenth - i:\n",
    "#             return lenth-i\n",
    "#     return 0\n",
    "\n",
    "# M2, 40 ms, faster than 100.00% , O(logN)\n",
    "# find the fist item which the value is >= length -i     \n",
    "    length = len(citations)\n",
    "    start, end = 0, length-1\n",
    "    \n",
    "    # here the stop condition is less equal not just less, so in the last loop, start is bigger than stop \n",
    "    # can indicate the index which we need\n",
    "    while start <= end:\n",
    "        mid_point = (start + end) // 2\n",
    "        # if there luckly we find a value that equal the len-i, then that's answer.\n",
    "        # otherwise the answer is len- index which is the last start.\n",
    "        if citations[mid_point] == length - mid_point:\n",
    "            return length - mid_point\n",
    "        elif citations[mid_point] > length - mid_point:\n",
    "            end = mid_point - 1\n",
    "        else:\n",
    "            start = mid_point + 1\n",
    "    return length - start"
   ]
  },
  {
   "cell_type": "code",
   "execution_count": 11,
   "metadata": {},
   "outputs": [
    {
     "data": {
      "text/plain": [
       "4"
      ]
     },
     "execution_count": 11,
     "metadata": {},
     "output_type": "execute_result"
    }
   ],
   "source": [
    "citations = [0,1,4,5,5,6]\n",
    "ans = hIndex(citations)\n",
    "ans"
   ]
  },
  {
   "cell_type": "markdown",
   "metadata": {},
   "source": [
    "### 220. Contains Duplicate III\n",
    "\n",
    "Given an array of integers, find out whether there are two distinct indices i and j in the array such that the absolute difference between nums[i] and nums[j] is at most t and the absolute difference between i and j is at most k.\n",
    "\n",
    "Example 1:\n",
    "\n",
    "Input: nums = [1,2,3,1], k = 3, t = 0\n",
    "Output: true\n",
    "Example 2:\n",
    "\n",
    "Input: nums = [1,0,1,1], k = 1, t = 2\n",
    "Output: true\n",
    "Example 3:\n",
    "\n",
    "Input: nums = [1,5,9,1,5,9], k = 2, t = 3 \n",
    "Output: false"
   ]
  },
  {
   "cell_type": "code",
   "execution_count": null,
   "metadata": {},
   "outputs": [],
   "source": [
    "def containsNearbyAlmostDuplicate(self, nums, k, t):\n",
    "    \"\"\"\n",
    "    :type nums: List[int]\n",
    "    :type k: int\n",
    "    :type t: int\n",
    "    :rtype: bool\n",
    "    \"\"\"\n",
    "    dic = {}\n",
    "    for index, value in enumerate(nums):\n",
    "        if value not in dic:\n",
    "            dic[value] = index\n",
    "        "
   ]
  },
  {
   "cell_type": "markdown",
   "metadata": {},
   "source": [
    "### 15. 3Sum\n",
    "\n",
    "Given an array nums of n integers, are there elements a, b, c in nums such that a + b + c = 0? Find all unique triplets in the array which gives the sum of zero.\n",
    "\n",
    "Note:\n",
    "\n",
    "The solution set must not contain duplicate triplets.\n",
    "\n",
    "Example:\n",
    "\n",
    "Given array nums = [-1, 0, 1, 2, -1, -4],\n",
    "\n",
    "A solution set is:\n",
    "[\n",
    "  [-1, 0, 1],\n",
    "  [-1, -1, 2]\n",
    "]"
   ]
  },
  {
   "cell_type": "code",
   "execution_count": 82,
   "metadata": {},
   "outputs": [],
   "source": [
    "def threeSum(nums):\n",
    "    \"\"\"\n",
    "    :type nums: List[int]\n",
    "    :rtype: List[List[int]]\n",
    "    \"\"\"\n",
    "    # M1 Runtime: 776 ms, faster than 90.12% \n",
    "    # fix first , two pointer for the second and third\n",
    "    ans = []\n",
    "    nums.sort()\n",
    "    for i in range(len(nums)-2):\n",
    "        if i> 0 and nums[i] == nums[i-1]:\n",
    "            continue\n",
    "        \n",
    "        left, right = i+1, len(nums) - 1\n",
    "        \n",
    "        while left < right:\n",
    "            #print(i,left,right)\n",
    "            total = nums[i] + nums[left] + nums[right]\n",
    "            if total < 0:\n",
    "                left += 1\n",
    "            elif total > 0:\n",
    "                right -= 1\n",
    "            else:\n",
    "                ans.append([nums[i],nums[left],nums[right]])\n",
    "                \n",
    "                while left < right and nums[left] == nums[left+1]:\n",
    "                    left += 1\n",
    "                while left < right and nums[right] == nums[right-1]:\n",
    "                    right -= 1\n",
    "                left += 1\n",
    "                right -= 1\n",
    "    return ans              \n",
    "                "
   ]
  },
  {
   "cell_type": "code",
   "execution_count": 83,
   "metadata": {},
   "outputs": [
    {
     "name": "stdout",
     "output_type": "stream",
     "text": [
      "0 1 5\n",
      "0 2 5\n",
      "0 3 5\n",
      "0 4 5\n",
      "1 2 5\n",
      "1 3 4\n",
      "3 4 5\n"
     ]
    },
    {
     "data": {
      "text/plain": [
       "[[-1, -1, 2], [-1, 0, 1]]"
      ]
     },
     "execution_count": 83,
     "metadata": {},
     "output_type": "execute_result"
    }
   ],
   "source": [
    "nums = [-1, 0, 1, 2, -1, -4]\n",
    "ans = threeSum(nums)\n",
    "ans"
   ]
  },
  {
   "cell_type": "markdown",
   "metadata": {},
   "source": [
    "## HARD"
   ]
  },
  {
   "cell_type": "markdown",
   "metadata": {},
   "source": [
    "### H_Array Manipulation"
   ]
  },
  {
   "cell_type": "code",
   "execution_count": 61,
   "metadata": {},
   "outputs": [],
   "source": [
    "# Complete the arrayManipulation function below.\n",
    "\n",
    "# over time limit\n",
    "# def arrayManipulation(n, queries):\n",
    "    \n",
    "#     arr = [0] * n\n",
    "    \n",
    "#     for query in queries:\n",
    "#         a,b,k = query[0],query[1],query[2]\n",
    "#         for i in range(n+1):\n",
    "#             if i >= a-1 and i < b:\n",
    "#                 arr[i] += k\n",
    "#     return max(arr)    \n",
    "\n",
    "\"\"\"\n",
    "see, you are adding sum to a[p] and adding negative sum at a[q+1]. \n",
    "which make sure that when you add element from a[p] to a[q] sum is added only once \n",
    "and it should be subtracted at a[q+1] as this sum span from p to q only.\n",
    "Rest array element are either 0 or some other input sum. max of addition will be output.\n",
    "refer to above code for p, q, and sum.\n",
    "\"\"\"\n",
    "def arrayManipulation(n, queries):\n",
    "    arr = [0] * (n+2) # the actual arr index from 1.\n",
    "    for query in queries:\n",
    "        a,b,k = query[0],query[1],query[2]\n",
    "        arr[a] +=k\n",
    "        arr[b+1] -=k # this is for make sure \n",
    "        \n",
    "    ans = 0\n",
    "    cut = 0\n",
    "    for x in arr:\n",
    "        cut += x\n",
    "        ans = max(ans,cut)\n",
    "    \n",
    "    return ans"
   ]
  },
  {
   "cell_type": "code",
   "execution_count": 62,
   "metadata": {},
   "outputs": [
    {
     "data": {
      "text/plain": [
       "200"
      ]
     },
     "execution_count": 62,
     "metadata": {},
     "output_type": "execute_result"
    }
   ],
   "source": [
    "n = 5\n",
    "queries = [[1,2,100],[2,5,100],[3,4,100]]\n",
    "result = arrayManipulation(n,queries)\n",
    "result"
   ]
  },
  {
   "cell_type": "code",
   "execution_count": 58,
   "metadata": {},
   "outputs": [
    {
     "data": {
      "text/plain": [
       "array([0, 0, 0, 0, 0])"
      ]
     },
     "execution_count": 58,
     "metadata": {},
     "output_type": "execute_result"
    }
   ],
   "source": [
    "arr = [0] * 5\n",
    "# add(arr[2:6] + 100)\n",
    "ar = np.array(arr)\n",
    "ar"
   ]
  },
  {
   "cell_type": "code",
   "execution_count": 59,
   "metadata": {},
   "outputs": [
    {
     "name": "stdout",
     "output_type": "stream",
     "text": [
      "5 3\n",
      "1 2 100\n",
      "2 5 100\n",
      "3 4 100\n",
      "200\n"
     ]
    }
   ],
   "source": [
    "def main():\n",
    "    n, m = map(int, input().split())\n",
    "    xs = [0] * (n + 2)\n",
    "\n",
    "    for _ in range(m):\n",
    "        a, b, k = map(int, input().split())\n",
    "        xs[a] += k\n",
    "        xs[b + 1] -= k\n",
    "\n",
    "    answer = 0\n",
    "    current = 0\n",
    "\n",
    "    for x in xs:\n",
    "        current += x\n",
    "        answer = max(answer, current)\n",
    "\n",
    "    print(answer)\n",
    "\n",
    "\n",
    "if __name__ == '__main__':\n",
    "    main()"
   ]
  },
  {
   "cell_type": "markdown",
   "metadata": {},
   "source": [
    "### 41. First Missing Positive\n",
    "\n",
    "> Hard\n",
    "\n",
    "Given an unsorted integer array, find the smallest missing positive integer.\n",
    "\n",
    "Example 1:\n",
    "Input: [1,2,0]\n",
    "Output: 3\n",
    "\n",
    "Example 2:\n",
    "Input: [3,4,-1,1]\n",
    "Output: 2\n",
    "\n",
    "Example 3:\n",
    "Input: [7,8,9,11,12]\n",
    "Output: 1\n",
    "\n",
    "Note:\n",
    "\n",
    "Your algorithm should run in O(n) time and uses constant extra space."
   ]
  },
  {
   "cell_type": "code",
   "execution_count": 154,
   "metadata": {},
   "outputs": [],
   "source": [
    "# TC: O(n), SC: O(1)\n",
    "\n",
    "def firstMissingPositive(nums):\n",
    "    \"\"\"\n",
    "    :type nums: List[int]\n",
    "    :rtype: int\n",
    "    \"\"\" \n",
    "    \n",
    "    lenth = len(nums)\n",
    "    \n",
    "    def swap(nums, i, j):\n",
    "        temp = nums[i]\n",
    "        nums[i] = nums[j]\n",
    "        nums[j] = temp\n",
    "    \n",
    "    for i in range(lenth):\n",
    "        while nums[i] > 0 and nums[i] <= lenth and  nums[i] != nums[nums[i]-1]:\n",
    "            # can not use this for exchange item, because here nums is not changed\n",
    "            #nums[i], nums[nums[i] -1] = nums[nums[i] - 1], nums[i]\n",
    "            \n",
    "            swap(nums,i,nums[i] - 1)\n",
    "            \n",
    "    print(nums)\n",
    "    for i in range(lenth):\n",
    "        if nums[i] != i+1:\n",
    "            return i+1\n",
    "    \n",
    "    return lenth+1"
   ]
  },
  {
   "cell_type": "code",
   "execution_count": 156,
   "metadata": {},
   "outputs": [
    {
     "name": "stdout",
     "output_type": "stream",
     "text": [
      "[1, -1, 3, 4]\n"
     ]
    },
    {
     "data": {
      "text/plain": [
       "2"
      ]
     },
     "execution_count": 156,
     "metadata": {},
     "output_type": "execute_result"
    }
   ],
   "source": [
    "#nums = [7,8,9,11,12]\n",
    "nums1= [3,4,-1,1]\n",
    "nums2 = [1,2,0]\n",
    "ans= firstMissingPositive(nums1)\n",
    "ans"
   ]
  },
  {
   "cell_type": "markdown",
   "metadata": {},
   "source": [
    "# String"
   ]
  },
  {
   "cell_type": "markdown",
   "metadata": {},
   "source": [
    "## EASY"
   ]
  },
  {
   "cell_type": "markdown",
   "metadata": {},
   "source": [
    "### H Alternating Characters"
   ]
  },
  {
   "cell_type": "code",
   "execution_count": 4,
   "metadata": {},
   "outputs": [],
   "source": [
    "def alternatingCharacters(s):\n",
    "    \n",
    "    ans = 0\n",
    "    for i in range(1,len(s)):\n",
    "        ans += s[i] == s[i-1]\n",
    "    return ans            \n"
   ]
  },
  {
   "cell_type": "code",
   "execution_count": 5,
   "metadata": {},
   "outputs": [
    {
     "data": {
      "text/plain": [
       "4"
      ]
     },
     "execution_count": 5,
     "metadata": {},
     "output_type": "execute_result"
    }
   ],
   "source": [
    "s = \"AAABBB\"\n",
    "res = alternatingCharacters(s)\n",
    "res"
   ]
  },
  {
   "cell_type": "markdown",
   "metadata": {},
   "source": [
    "### H Strings: Making Anagrams\n",
    "\n"
   ]
  },
  {
   "cell_type": "code",
   "execution_count": 81,
   "metadata": {},
   "outputs": [],
   "source": [
    "from collections import Counter\n",
    "def makeAnagram(a, b):\n",
    "    ac = Counter(a)\n",
    "    bc = Counter(b)\n",
    "    \n",
    "    ans = sum(list((ac-bc).values())) + sum(list((bc-ac).values()))\n",
    "    return ans"
   ]
  },
  {
   "cell_type": "code",
   "execution_count": 82,
   "metadata": {},
   "outputs": [
    {
     "data": {
      "text/plain": [
       "4"
      ]
     },
     "execution_count": 82,
     "metadata": {},
     "output_type": "execute_result"
    }
   ],
   "source": [
    "a = \"cde\"\n",
    "b = \"abc\"\n",
    "ans = makeAnagram(a,b)\n",
    "ans"
   ]
  },
  {
   "cell_type": "code",
   "execution_count": 78,
   "metadata": {},
   "outputs": [
    {
     "data": {
      "text/plain": [
       "2"
      ]
     },
     "execution_count": 78,
     "metadata": {},
     "output_type": "execute_result"
    }
   ],
   "source": [
    "from collections import Counter\n",
    "\n",
    "ac = Counter(a)\n",
    "bc = Counter(b)\n",
    "\n",
    "bc - ac\n",
    "sum(list((ac-bc).values()))"
   ]
  },
  {
   "cell_type": "code",
   "execution_count": 6,
   "metadata": {},
   "outputs": [
    {
     "name": "stdout",
     "output_type": "stream",
     "text": [
      " es \n",
      "dd\n"
     ]
    },
    {
     "ename": "IndexError",
     "evalue": "list index out of range",
     "output_type": "error",
     "traceback": [
      "\u001b[1;31m---------------------------------------------------------------------------\u001b[0m",
      "\u001b[1;31mIndexError\u001b[0m                                Traceback (most recent call last)",
      "\u001b[1;32m<ipython-input-6-d639f806515d>\u001b[0m in \u001b[0;36m<module>\u001b[1;34m\u001b[0m\n\u001b[0;32m     19\u001b[0m \u001b[1;33m\u001b[0m\u001b[0m\n\u001b[0;32m     20\u001b[0m \u001b[1;32mif\u001b[0m \u001b[0m__name__\u001b[0m \u001b[1;33m==\u001b[0m \u001b[1;34m'__main__'\u001b[0m\u001b[1;33m:\u001b[0m\u001b[1;33m\u001b[0m\u001b[1;33m\u001b[0m\u001b[0m\n\u001b[1;32m---> 21\u001b[1;33m     \u001b[0mmain\u001b[0m\u001b[1;33m(\u001b[0m\u001b[1;33m)\u001b[0m\u001b[1;33m\u001b[0m\u001b[1;33m\u001b[0m\u001b[0m\n\u001b[0m",
      "\u001b[1;32m<ipython-input-6-d639f806515d>\u001b[0m in \u001b[0;36mmain\u001b[1;34m()\u001b[0m\n\u001b[0;32m     15\u001b[0m     \u001b[0ma\u001b[0m \u001b[1;33m=\u001b[0m \u001b[0minput\u001b[0m\u001b[1;33m(\u001b[0m\u001b[1;33m)\u001b[0m\u001b[1;33m\u001b[0m\u001b[1;33m\u001b[0m\u001b[0m\n\u001b[0;32m     16\u001b[0m     \u001b[0mb\u001b[0m \u001b[1;33m=\u001b[0m \u001b[0minput\u001b[0m\u001b[1;33m(\u001b[0m\u001b[1;33m)\u001b[0m\u001b[1;33m\u001b[0m\u001b[1;33m\u001b[0m\u001b[0m\n\u001b[1;32m---> 17\u001b[1;33m     \u001b[0mprint\u001b[0m\u001b[1;33m(\u001b[0m\u001b[0mdiff\u001b[0m\u001b[1;33m(\u001b[0m\u001b[0mcount\u001b[0m\u001b[1;33m(\u001b[0m\u001b[0ma\u001b[0m\u001b[1;33m)\u001b[0m\u001b[1;33m,\u001b[0m \u001b[0mcount\u001b[0m\u001b[1;33m(\u001b[0m\u001b[0mb\u001b[0m\u001b[1;33m)\u001b[0m\u001b[1;33m)\u001b[0m\u001b[1;33m)\u001b[0m\u001b[1;33m\u001b[0m\u001b[1;33m\u001b[0m\u001b[0m\n\u001b[0m\u001b[0;32m     18\u001b[0m \u001b[1;33m\u001b[0m\u001b[0m\n\u001b[0;32m     19\u001b[0m \u001b[1;33m\u001b[0m\u001b[0m\n",
      "\u001b[1;32m<ipython-input-6-d639f806515d>\u001b[0m in \u001b[0;36mcount\u001b[1;34m(s)\u001b[0m\n\u001b[0;32m      3\u001b[0m \u001b[1;33m\u001b[0m\u001b[0m\n\u001b[0;32m      4\u001b[0m     \u001b[1;32mfor\u001b[0m \u001b[0mletter\u001b[0m \u001b[1;32min\u001b[0m \u001b[0ms\u001b[0m\u001b[1;33m:\u001b[0m\u001b[1;33m\u001b[0m\u001b[1;33m\u001b[0m\u001b[0m\n\u001b[1;32m----> 5\u001b[1;33m         \u001b[0mcounts\u001b[0m\u001b[1;33m[\u001b[0m\u001b[0mord\u001b[0m\u001b[1;33m(\u001b[0m\u001b[0mletter\u001b[0m\u001b[1;33m)\u001b[0m \u001b[1;33m-\u001b[0m \u001b[0mord\u001b[0m\u001b[1;33m(\u001b[0m\u001b[1;34m'a'\u001b[0m\u001b[1;33m)\u001b[0m\u001b[1;33m]\u001b[0m \u001b[1;33m+=\u001b[0m \u001b[1;36m1\u001b[0m\u001b[1;33m\u001b[0m\u001b[1;33m\u001b[0m\u001b[0m\n\u001b[0m\u001b[0;32m      6\u001b[0m \u001b[1;33m\u001b[0m\u001b[0m\n\u001b[0;32m      7\u001b[0m     \u001b[1;32mreturn\u001b[0m \u001b[0mcounts\u001b[0m\u001b[1;33m\u001b[0m\u001b[1;33m\u001b[0m\u001b[0m\n",
      "\u001b[1;31mIndexError\u001b[0m: list index out of range"
     ]
    }
   ],
   "source": [
    "def count(s):\n",
    "    counts = [0] * 26\n",
    "\n",
    "    for letter in s:\n",
    "        counts[ord(letter) - ord('a')] += 1\n",
    "\n",
    "    return counts\n",
    "\n",
    "\n",
    "def diff(xs, ys):\n",
    "    return sum(abs(x - y) for (x, y) in zip(xs, ys))\n",
    "\n",
    "\n",
    "def main():\n",
    "    a = input()\n",
    "    b = input()\n",
    "    print(diff(count(a), count(b)))\n",
    "\n",
    "\n",
    "if __name__ == '__main__':\n",
    "    main()"
   ]
  },
  {
   "cell_type": "markdown",
   "metadata": {},
   "source": [
    "### H_warm_Repeated String\n"
   ]
  },
  {
   "cell_type": "code",
   "execution_count": 46,
   "metadata": {},
   "outputs": [],
   "source": [
    "from collections import Counter\n",
    "def repeatedString(s, n):\n",
    "    lenth = len(s)\n",
    "    per_num = Counter(s)['a']\n",
    "    s_remain = s[:n%lenth]\n",
    "    ram_num = Counter(s_remain)['a']\n",
    "    return (per_num * (n // lenth) + ram_num)"
   ]
  },
  {
   "cell_type": "code",
   "execution_count": 50,
   "metadata": {},
   "outputs": [
    {
     "data": {
      "text/plain": [
       "5"
      ]
     },
     "execution_count": 50,
     "metadata": {},
     "output_type": "execute_result"
    }
   ],
   "source": [
    "s1 = 'abc'\n",
    "s2 = 'aba'\n",
    "ans  = repeatedString(s2,7)\n",
    "ans"
   ]
  },
  {
   "cell_type": "code",
   "execution_count": 41,
   "metadata": {},
   "outputs": [
    {
     "data": {
      "text/plain": [
       "2"
      ]
     },
     "execution_count": 41,
     "metadata": {},
     "output_type": "execute_result"
    }
   ],
   "source": [
    "cnt = Counter(s2)\n",
    "cnt['a']"
   ]
  },
  {
   "cell_type": "code",
   "execution_count": 45,
   "metadata": {},
   "outputs": [
    {
     "data": {
      "text/plain": [
       "2"
      ]
     },
     "execution_count": 45,
     "metadata": {},
     "output_type": "execute_result"
    }
   ],
   "source": [
    "7 // 3"
   ]
  },
  {
   "cell_type": "markdown",
   "metadata": {},
   "source": [
    "### Hash Tables: Ransom Note\n"
   ]
  },
  {
   "cell_type": "code",
   "execution_count": 57,
   "metadata": {},
   "outputs": [],
   "source": [
    "from collections import Counter\n",
    "def checkMagazine(magazine, note):\n",
    "    if Counter(note) - Counter(magazine) == {}:\n",
    "        print('Yes')\n",
    "        return\n",
    "    else:\n",
    "        print('No')\n",
    "        return"
   ]
  },
  {
   "cell_type": "code",
   "execution_count": 59,
   "metadata": {},
   "outputs": [
    {
     "name": "stdout",
     "output_type": "stream",
     "text": [
      "Yes\n"
     ]
    }
   ],
   "source": [
    "# m1 = 'two times three is not four'.rstrip().split()\n",
    "# n1 = 'two times two is four'.rstrip().split()\n",
    "# n11 = 'two'.rstrip().split()\n",
    "# m2 = 'ive got a lovely bunch of coconuts'.rstrip().split()\n",
    "# n2 = 'ive got some coconuts'.rstrip().split()\n",
    "# m3 = 'give me one grand today night'.rstrip().split()\n",
    "# n3 = 'give one grand today'.rstrip().split()\n",
    "m4 = 'apgo clm w lxkvg mwz elo bg elo lxkvg elo apgo apgo w elo bg'.rstrip().split()\n",
    "n4='elo lxkvg bg mwz clm w '.rstrip().split()\n",
    "checkMagazine(m4,n4)"
   ]
  },
  {
   "cell_type": "code",
   "execution_count": 44,
   "metadata": {},
   "outputs": [
    {
     "name": "stdout",
     "output_type": "stream",
     "text": [
      "dict_items([('apgo', 3), ('clm', 1), ('w', 2), ('lxkvg', 2), ('mwz', 1), ('elo', 4), ('bg', 2)]) \n",
      " dict_items([('elo', 1), ('lxkvg', 1), ('bg', 1), ('mwz', 1), ('clm', 1), ('w', 1)])\n"
     ]
    }
   ],
   "source": [
    "print(Counter(m4).items(),'\\n',Counter(n4).items())"
   ]
  },
  {
   "cell_type": "code",
   "execution_count": 56,
   "metadata": {},
   "outputs": [
    {
     "data": {
      "text/plain": [
       "Counter({'hello': 1})"
      ]
     },
     "execution_count": 56,
     "metadata": {},
     "output_type": "execute_result"
    }
   ],
   "source": [
    "Counter(n4) - Counter(m4)"
   ]
  },
  {
   "cell_type": "code",
   "execution_count": 50,
   "metadata": {},
   "outputs": [
    {
     "data": {
      "text/plain": [
       "{('apgo', 3), ('bg', 2), ('elo', 4), ('lxkvg', 2), ('w', 2)}"
      ]
     },
     "execution_count": 50,
     "metadata": {},
     "output_type": "execute_result"
    }
   ],
   "source": [
    "Counter(m4).items()- Counter(n4).items() "
   ]
  },
  {
   "cell_type": "markdown",
   "metadata": {},
   "source": [
    "### 28. Implement strStr()\n",
    "\n",
    "Implement strStr().\n",
    "\n",
    "Return the index of the first occurrence of needle in haystack, or -1 if needle is not part of haystack.\n",
    "\n",
    "Example 1:\n",
    "\n",
    "Input: haystack = \"hello\", needle = \"ll\"\n",
    "Output: 2\n",
    "Example 2:\n",
    "\n",
    "Input: haystack = \"aaaaa\", needle = \"bba\"\n",
    "Output: -1\n",
    "Clarification:\n",
    "\n",
    "What should we return when needle is an empty string? This is a great question to ask during an interview.\n",
    "\n",
    "For the purpose of this problem, we will return 0 when needle is an empty string. This is consistent to C's strstr() and Java's indexOf()."
   ]
  },
  {
   "cell_type": "code",
   "execution_count": 59,
   "metadata": {},
   "outputs": [],
   "source": [
    "def strStr(haystack, needle):\n",
    "    \"\"\"\n",
    "    :type haystack: str\n",
    "    :type needle: str\n",
    "    :rtype: int\n",
    "    \"\"\"\n",
    "    # M1\n",
    "#     return haystack.find(needle)\n",
    "    \n",
    "#     tmp = needle[0]\n",
    "#     length_needle = len(needle)\n",
    "#     for i in range(len(haystack)-length_needle+1):\n",
    "#         if tmp == cha:\n",
    "#             match = True\n",
    "#             tmp =\n",
    "    \n",
    "    # M2 Runtime: 36 ms, faster than 96.20%\n",
    "    if needle not in haystack:\n",
    "        return -1\n",
    "    \n",
    "    if needle == '':\n",
    "        return 0\n",
    "    \n",
    "    m, n = len(haystack), len(needle)\n",
    "\n",
    "    for i in range(m-n+1):\n",
    "        if all(needle[j] == haystack[i+j] for j in range(n)):\n",
    "            return i\n",
    "    return -1"
   ]
  },
  {
   "cell_type": "code",
   "execution_count": 60,
   "metadata": {},
   "outputs": [
    {
     "data": {
      "text/plain": [
       "2"
      ]
     },
     "execution_count": 60,
     "metadata": {},
     "output_type": "execute_result"
    }
   ],
   "source": [
    "haystack = \"hello\"\n",
    "needle = \"ll\"\n",
    "ans = strStr(haystack,needle)\n",
    "ans"
   ]
  },
  {
   "cell_type": "markdown",
   "metadata": {},
   "source": [
    "### 299. Bulls and Cows\n",
    "\n",
    "\n",
    "You are playing the following Bulls and Cows game with your friend: You write down a number and ask your friend to guess what the number is. Each time your friend makes a guess, you provide a hint that indicates how many digits in said guess match your secret number exactly in both digit and position (called \"bulls\") and how many digits match the secret number but locate in the wrong position (called \"cows\"). Your friend will use successive guesses and hints to eventually derive the secret number.\n",
    "\n",
    "Write a function to return a hint according to the secret number and friend's guess, use A to indicate the bulls and B to indicate the cows. \n",
    "\n",
    "Please note that both secret number and friend's guess may contain duplicate digits.\n",
    "\n",
    "Example 1:\n",
    "\n",
    "Input: secret = \"1807\", guess = \"7810\"\n",
    "\n",
    "Output: \"1A3B\"\n",
    "\n",
    "Explanation: 1 bull and 3 cows. The bull is 8, the cows are 0, 1 and 7.\n",
    "Example 2:\n",
    "\n",
    "Input: secret = \"1123\", guess = \"0111\"\n",
    "\n",
    "Output: \"1A1B\"\n",
    "\n",
    "Explanation: The 1st 1 in friend's guess is a bull, the 2nd or 3rd 1 is a cow.\n",
    "Note: You may assume that the secret number and your friend's guess only contain digits, and their lengths are always equal"
   ]
  },
  {
   "cell_type": "code",
   "execution_count": 199,
   "metadata": {},
   "outputs": [],
   "source": [
    "import operator \n",
    "from collections import Counter\n",
    "\n",
    "def getHint(secret, guess):\n",
    "    \"\"\"\n",
    "    :type secret: str\n",
    "    :type guess: str\n",
    "    :rtype: str\n",
    "    \"\"\"\n",
    "# M1: Runtime: 40 ms, faster than 100.00% \n",
    "#     bulls = sum(map(operator.eq, secret, guess))\n",
    "#     sa = Counter(secret)\n",
    "#     sb = Counter(guess)\n",
    "#     cows = sum((sa & sb).values()) - bulls\n",
    "#     return '{:d}A{:d}B'.format(bulls,cows)\n",
    "\n",
    "# M2: 40 ms, faster than 100.00%\n",
    "    bulls = sum(map(operator.eq, secret,guess))\n",
    "    both = sum(min(secret.count(x),guess.count(x)) for x in '0123456789')\n",
    "    cows = both - bulls\n",
    "    return '{:d}A{:d}B'.format(bulls,cows)"
   ]
  },
  {
   "cell_type": "code",
   "execution_count": 200,
   "metadata": {},
   "outputs": [
    {
     "data": {
      "text/plain": [
       "'1A3B'"
      ]
     },
     "execution_count": 200,
     "metadata": {},
     "output_type": "execute_result"
    }
   ],
   "source": [
    "secret = \"1807\"\n",
    "guess = \"7810\"\n",
    "hint = getHint(secret,guess)\n",
    "hint"
   ]
  },
  {
   "cell_type": "markdown",
   "metadata": {},
   "source": [
    "### 14. Longest Common Prefix\n",
    "- tips: convert string to int, and compare the min and max.\n",
    "\n",
    "Write a function to find the longest common prefix string amongst an array of strings.\n",
    "\n",
    "If there is no common prefix, return an empty string \"\".\n",
    "\n",
    "Example 1:\n",
    "\n",
    "Input: [\"flower\",\"flow\",\"flight\"]\n",
    "Output: \"fl\"\n",
    "Example 2:\n",
    "\n",
    "Input: [\"dog\",\"racecar\",\"car\"]\n",
    "Output: \"\"\n",
    "Explanation: There is no common prefix among the input strings.\n",
    "Note:\n",
    "\n",
    "All given inputs are in lowercase letters a-z."
   ]
  },
  {
   "cell_type": "code",
   "execution_count": 3,
   "metadata": {},
   "outputs": [],
   "source": [
    "from os.path import commonprefix\n",
    "\n",
    "def longestCommonPrefix(strs):\n",
    "    \"\"\"\n",
    "    :type strs: List[str]\n",
    "    :rtype: str\n",
    "    \"\"\"\n",
    "    # M1, os.path.commonprefix(strs)\n",
    "    return commonprefix(strs)\n",
    "    \n",
    "#     # M2\n",
    "    \n",
    "#     if not strs:\n",
    "#         return \"\"\n",
    "    \n",
    "#     s1 = min(strs)\n",
    "#     print(s1)\n",
    "#     s2 = max(strs)\n",
    "#     print(s2)\n",
    "#     for i, c in enumerate(s1):\n",
    "#         print(i,c)\n",
    "#         if c != s2[i]:\n",
    "#             return s1[:i]\n",
    "#     return s1"
   ]
  },
  {
   "cell_type": "code",
   "execution_count": 4,
   "metadata": {},
   "outputs": [
    {
     "data": {
      "text/plain": [
       "'fl'"
      ]
     },
     "execution_count": 4,
     "metadata": {},
     "output_type": "execute_result"
    }
   ],
   "source": [
    "strs = [\"flower\",\"flow\",\"flight\"]\n",
    "ans = longestCommonPrefix(strs)\n",
    "ans"
   ]
  },
  {
   "cell_type": "markdown",
   "metadata": {},
   "source": [
    "### 58. Length of Last Word\n",
    "\n",
    "Given a string s consists of upper/lower-case alphabets and empty space characters ' ', return the length of last word in the string.\n",
    "\n",
    "If the last word does not exist, return 0.\n",
    "\n",
    "Note: A word is defined as a character sequence consists of non-space characters only.\n",
    "\n",
    "Example:\n",
    "\n",
    "Input: \"Hello World\"\n",
    "Output: 5"
   ]
  },
  {
   "cell_type": "code",
   "execution_count": 12,
   "metadata": {},
   "outputs": [],
   "source": [
    "def lengthOfLastWord(s):\n",
    "    \"\"\"\n",
    "    :type s: str\n",
    "    :rtype: int\n",
    "    \"\"\"\n",
    "#    M1: Wrong, cannot use repartition\n",
    "#    repartition takes exactly one argument, and cannot split random long of white space. \n",
    "\n",
    "#     s_list = s.rpartition(\" \")\n",
    "#     print(s_list)\n",
    "#     if not s_list[0]:\n",
    "#         return \"\"\n",
    "#     else:\n",
    "#         if not s_list[-1]:\n",
    "#             return len(s_list[0].rpartition(\" \")[-1])\n",
    "#         else:\n",
    "#             return len(s_list[-1])\n",
    "    # 100%                \n",
    "    s_split = s.rsplit(maxsplit = 1)\n",
    "    print(s_split)\n",
    "    if s_split:\n",
    "        return len(s_split[-1])\n",
    "    else:\n",
    "        return 0  "
   ]
  },
  {
   "cell_type": "code",
   "execution_count": 13,
   "metadata": {},
   "outputs": [
    {
     "name": "stdout",
     "output_type": "stream",
     "text": [
      "['b', 'a']\n"
     ]
    },
    {
     "data": {
      "text/plain": [
       "1"
      ]
     },
     "execution_count": 13,
     "metadata": {},
     "output_type": "execute_result"
    }
   ],
   "source": [
    "str = \"Hello World\"\n",
    "str1=\"b   a   \"\n",
    "str2 = \"    \"\n",
    "ans = lengthOfLastWord(str1)\n",
    "ans"
   ]
  },
  {
   "cell_type": "markdown",
   "metadata": {},
   "source": [
    "### 387. First Unique Character in a String\n",
    "\n",
    "Given a string, find the first non-repeating character in it and return it's index. If it doesn't exist, return -1.\n",
    "\n",
    "Examples:\n",
    "\n",
    "s = \"leetcode\"\n",
    "return 0.\n",
    "\n",
    "s = \"loveleetcode\",\n",
    "return 2."
   ]
  },
  {
   "cell_type": "code",
   "execution_count": 51,
   "metadata": {},
   "outputs": [],
   "source": [
    "from collections import Counter\n",
    "\n",
    "def firstUniqChar(s):\n",
    "    \"\"\"\n",
    "    :type s: str\n",
    "    :rtype: int\n",
    "    \"\"\"\n",
    "#   M1: Runtime: 108 ms, faster than 80.87% \n",
    "#   Counter\n",
    "#     cnt = Counter(s)\n",
    "#     for i,ch in enumerate(s):\n",
    "#         if cnt[ch] == 1:\n",
    "#             return i\n",
    "#     return -1\n",
    "  \n",
    "#    220 ms, faster than 20.37% \n",
    "#     cnt = [0] * 26\n",
    "#     for c in s:\n",
    "#         cnt[ord(c) - ord('a')] += 1\n",
    "        \n",
    "#     for i, ch in enumerate(s):\n",
    "#         if cnt[ord(ch)-ord('a')] == 1:\n",
    "#             return i\n",
    "#     return -1"
   ]
  },
  {
   "cell_type": "code",
   "execution_count": 52,
   "metadata": {},
   "outputs": [
    {
     "data": {
      "text/plain": [
       "2"
      ]
     },
     "execution_count": 52,
     "metadata": {},
     "output_type": "execute_result"
    }
   ],
   "source": [
    "s1 = \"leetcode\"\n",
    "s2 = \"loveleetcode\"\n",
    "ans = firstUniqChar(s2)\n",
    "ans"
   ]
  },
  {
   "cell_type": "markdown",
   "metadata": {},
   "source": [
    "### 383. Ransom Note\n",
    "\n",
    "Given an arbitrary ransom note string and another string containing letters from all the magazines, write a function that will return true if the ransom note can be constructed from the magazines ; otherwise, it will return false.\n",
    "\n",
    "Each letter in the magazine string can only be used once in your ransom note.\n",
    "\n",
    "Note:\n",
    "You may assume that both strings contain only lowercase letters.\n",
    "\n",
    "canConstruct(\"a\", \"b\") -> false\n",
    "canConstruct(\"aa\", \"ab\") -> false\n",
    "canConstruct(\"aa\", \"aab\") -> true\n",
    "\n",
    "Tips: & Operation on Counter"
   ]
  },
  {
   "cell_type": "code",
   "execution_count": 14,
   "metadata": {},
   "outputs": [],
   "source": [
    "from collections import Counter\n",
    "def canConstruct(ransomNote, magazine):\n",
    "    \"\"\"\n",
    "    :type ransomNote: str\n",
    "    :type magazine: str\n",
    "    :rtype: bool\n",
    "    \"\"\"\n",
    "    # M1 Runtime: 52 ms, faster than 90.36%\n",
    "    cnt_note = Counter(ransomNote)\n",
    "    cnt_mag = Counter(magazine)\n",
    "    if (cnt_note & cnt_mag) == cnt_note:\n",
    "        print(cnt_note & cnt_mag)\n",
    "        return True\n",
    "    else:\n",
    "        return False\n",
    "    "
   ]
  },
  {
   "cell_type": "code",
   "execution_count": 16,
   "metadata": {},
   "outputs": [
    {
     "name": "stdout",
     "output_type": "stream",
     "text": [
      "Counter({'a': 2})\n"
     ]
    },
    {
     "data": {
      "text/plain": [
       "True"
      ]
     },
     "execution_count": 16,
     "metadata": {},
     "output_type": "execute_result"
    }
   ],
   "source": [
    "ransomNote = \"aa\"\n",
    "magazine = \"caacab\"\n",
    "canConstruct(ransomNote,magazine)"
   ]
  },
  {
   "cell_type": "code",
   "execution_count": 26,
   "metadata": {},
   "outputs": [
    {
     "name": "stdout",
     "output_type": "stream",
     "text": [
      "Counter({'a': 2}) Counter({'c': 2, 'a': 2, 'b': 1})\n"
     ]
    },
    {
     "data": {
      "text/plain": [
       "True"
      ]
     },
     "execution_count": 26,
     "metadata": {},
     "output_type": "execute_result"
    }
   ],
   "source": [
    "ransomNote = \"aa\"\n",
    "magazine = \"cacab\"\n",
    "cnt_note = Counter(ransomNote)\n",
    "cnt_mag = Counter(magazine) \n",
    "print(cnt_note,cnt_mag)\n",
    "cnt_note & cnt_mag == cnt_note"
   ]
  },
  {
   "cell_type": "code",
   "execution_count": 19,
   "metadata": {},
   "outputs": [
    {
     "data": {
      "text/plain": [
       "4"
      ]
     },
     "execution_count": 19,
     "metadata": {},
     "output_type": "execute_result"
    }
   ],
   "source": [
    "4 & 7"
   ]
  },
  {
   "cell_type": "markdown",
   "metadata": {},
   "source": [
    "### 344. Reverse String\n",
    "\n",
    "Write a function that reverses a string. The input string is given as an array of characters char[].\n",
    "\n",
    "Do not allocate extra space for another array, you must do this by modifying the input array in-place with O(1) extra memory.\n",
    "\n",
    "You may assume all the characters consist of printable ascii characters.\n",
    "\n",
    "Example 1:\n",
    "\n",
    "Input: [\"h\",\"e\",\"l\",\"l\",\"o\"]\n",
    "Output: [\"o\",\"l\",\"l\",\"e\",\"h\"]\n",
    "Example 2:\n",
    "\n",
    "Input: [\"H\",\"a\",\"n\",\"n\",\"a\",\"h\"]\n",
    "Output: [\"h\",\"a\",\"n\",\"n\",\"a\",\"H\"]"
   ]
  },
  {
   "cell_type": "code",
   "execution_count": 41,
   "metadata": {},
   "outputs": [],
   "source": [
    "# SP: O(1) in-place\n",
    "def reverseString(s):\n",
    "    \"\"\"\n",
    "    :type s: List[str]\n",
    "    :rtype: void Do not return anything, modify s in-place instead.\n",
    "    \"\"\"\n",
    "    #M1 : 232 ms, faster than 2.53%\n",
    "#     start, end = 0, len(s) - 1\n",
    "#     while start < end:\n",
    "#         s[start], s[end] = s[end], s[start]\n",
    "#         start += 1\n",
    "#         end-=1\n",
    "\n",
    "    # M2:\n",
    "#     for i in range(0,len(s)//2):\n",
    "#         s[i], s[len(s)-1-i] = s[len(s)-1-i], s[i] \n",
    "\n",
    "    # M3:\n",
    "    reversed"
   ]
  },
  {
   "cell_type": "code",
   "execution_count": 42,
   "metadata": {},
   "outputs": [
    {
     "data": {
      "text/plain": [
       "['b', 'a']"
      ]
     },
     "execution_count": 42,
     "metadata": {},
     "output_type": "execute_result"
    }
   ],
   "source": [
    "ss =  [\"h\",\"e\",\"l\",\"l\",\"o\"] \n",
    "s1 =[\"a\",\"b\"]\n",
    "reverseString(s1)\n",
    "s1"
   ]
  },
  {
   "cell_type": "markdown",
   "metadata": {},
   "source": [
    "### 345. Reverse Vowels of a String\n",
    "\n",
    "Write a function that takes a string as input and reverse only the vowels of a string.\n",
    "\n",
    "Example 1:\n",
    "\n",
    "Input: \"hello\"\n",
    "Output: \"holle\"\n",
    "Example 2:\n",
    "\n",
    "Input: \"leetcode\"\n",
    "Output: \"leotcede\"\n",
    "Note:\n",
    "The vowels does not include the letter \"y\"."
   ]
  },
  {
   "cell_type": "code",
   "execution_count": 81,
   "metadata": {},
   "outputs": [],
   "source": [
    "import re\n",
    "\n",
    "def reverseVowels(s):\n",
    "    \"\"\"\n",
    "    :type s: str\n",
    "    :rtype: str\n",
    "    \"\"\"\n",
    "#     vowels = re.findall('(?i)[aeiou]', s)\n",
    "#     print(vowels)\n",
    "#     return re.sub('(?i)[aeiou]', lambda m: vowels.pop(), s)\n",
    "\n",
    "    v=re.findall('(?i)[aeiou]',s.lower())\n",
    "    print(v)\n",
    "    a=list(s)\n",
    "    for i in range(len(a)):\n",
    "        if a[i] in ['a','e','i','o','u']:\n",
    "            a[i]=v.pop()\n",
    "    return \"\".join(a)\n",
    "\n",
    "    # M1 Runtime: 64 ms, faster than 65.10% \n",
    "#     vowels = \"aeiouAEIOU\"\n",
    "#     s_list = list(s)\n",
    "#     start, end = 0,len(s_list)-1\n",
    "#     while start < end:\n",
    "#         if s_list[start] in vowels:\n",
    "#             if s_list[end] in vowels:\n",
    "#                 s_list[start], s_list[end] = s_list[end], s_list[start]\n",
    "#                 start += 1\n",
    "#                 end -= 1\n",
    "#             else:\n",
    "#                 end -= 1\n",
    "#         else:\n",
    "#             start+=1\n",
    "#     return \"\".join(s_list)\n",
    "    \n",
    "    \n",
    "    # M2 Runtime: 48 ms, faster than 88.34%\n",
    "    # Two pointer, one can trverse in\n",
    "#     vowels = \"aeiouAEIOU\"\n",
    "#     s_list = list(s)\n",
    "#     start, end = 0,len(s_list)-1\n",
    "#     while start < end:\n",
    "#         if s_list[start] in vowels:\n",
    "#             while s_list[end] not in vowels:\n",
    "#                 end -=1\n",
    "#             s_list[start], s_list[end] = s_list[end], s_list[start]\n",
    "#             start += 1\n",
    "#             end -= 1\n",
    "#         else:\n",
    "#             start+=1\n",
    "#     return \"\".join(s_list)\n"
   ]
  },
  {
   "cell_type": "code",
   "execution_count": 83,
   "metadata": {},
   "outputs": [
    {
     "name": "stdout",
     "output_type": "stream",
     "text": [
      "['e', 'e', 'o', 'o']\n"
     ]
    },
    {
     "data": {
      "text/plain": [
       "'hoElloO'"
      ]
     },
     "execution_count": 83,
     "metadata": {},
     "output_type": "execute_result"
    }
   ],
   "source": [
    "ss = \"heElloO\"\n",
    "ans = reverseVowels(ss)\n",
    "ans"
   ]
  },
  {
   "cell_type": "markdown",
   "metadata": {},
   "source": [
    "### 205. Isomorphic Strings\n",
    "\n",
    "Given two strings s and t, determine if they are isomorphic.\n",
    "\n",
    "Two strings are isomorphic if the characters in s can be replaced to get t.\n",
    "\n",
    "All occurrences of a character must be replaced with another character while preserving the order of characters. No two characters may map to the same character but a character may map to itself.\n",
    "\n",
    "Example 1:\n",
    "\n",
    "Input: s = \"egg\", t = \"add\"\n",
    "Output: true\n",
    "Example 2:\n",
    "\n",
    "Input: s = \"foo\", t = \"bar\"\n",
    "Output: false\n",
    "Example 3:\n",
    "\n",
    "Input: s = \"paper\", t = \"title\"\n",
    "Output: true\n",
    "Note:\n",
    "\n",
    "You may assume both s and t have the same length."
   ]
  },
  {
   "cell_type": "code",
   "execution_count": 101,
   "metadata": {},
   "outputs": [],
   "source": [
    "from collections import Counter\n",
    "def isIsomorphic(s, t):\n",
    "    \"\"\"\n",
    "    :type s: str\n",
    "    :type t: str\n",
    "    :rtype: bool\n",
    "    \"\"\"\n",
    "#  M1： Wrong \"aba\" vs \"baa\"\n",
    "#     cnt_s = Counter(s)\n",
    "#     cnt_t = Counter(t)\n",
    "#     print(list(cnt_s.values()),list(cnt_t.values()))\n",
    "#     if list(cnt_s.values()) == list(cnt_t.values()):\n",
    "#         return True\n",
    "#     else:\n",
    "#         return False\n",
    "\n",
    "        \n",
    "        \n",
    "#   M1 : Runtime: 28 ms, faster than 97.17%\n",
    "    \n",
    "#     return len(set(zip(s,t))) == len(set(s)) == len(set(t))\n",
    "\n",
    "\n",
    "# M3 : Runtime: 32 ms\n",
    "    d1 = {}\n",
    "    d2 = {}\n",
    "    for k in range(len(s)):\n",
    "        if s[k] not in d1:\n",
    "            d1[s[k]]=t[k]\n",
    "        elif d1[s[k]]!=t[k]:\n",
    "            return False\n",
    "        if t[k] not in d2:\n",
    "            d2[t[k]]=s[k]\n",
    "        elif d2[t[k]]!=s[k]:\n",
    "            return False\n",
    "\n",
    "    return True"
   ]
  },
  {
   "cell_type": "code",
   "execution_count": 104,
   "metadata": {},
   "outputs": [
    {
     "data": {
      "text/plain": [
       "False"
      ]
     },
     "execution_count": 104,
     "metadata": {},
     "output_type": "execute_result"
    }
   ],
   "source": [
    "s = \"paper\"\n",
    "t = \"tltle\"\n",
    "isIsomorphic(s,t)"
   ]
  },
  {
   "cell_type": "code",
   "execution_count": 97,
   "metadata": {},
   "outputs": [
    {
     "data": {
      "text/plain": [
       "{('a', 'i'), ('e', 'l'), ('p', 't'), ('r', 'e')}"
      ]
     },
     "execution_count": 97,
     "metadata": {},
     "output_type": "execute_result"
    }
   ],
   "source": [
    "set(zip(s,t))"
   ]
  },
  {
   "cell_type": "markdown",
   "metadata": {},
   "source": [
    "### 290. Word Pattern\n",
    "\n",
    "Given a pattern and a string str, find if str follows the same pattern.\n",
    "\n",
    "Here follow means a full match, such that there is a bijection between a letter in pattern and a non-empty word in str.\n",
    "\n",
    "Example 1:\n",
    "\n",
    "Input: pattern = \"abba\", str = \"dog cat cat dog\"\n",
    "Output: true\n",
    "Example 2:\n",
    "\n",
    "Input:pattern = \"abba\", str = \"dog cat cat fish\"\n",
    "Output: false\n",
    "Example 3:\n",
    "\n",
    "Input: pattern = \"aaaa\", str = \"dog cat cat dog\"\n",
    "Output: false\n",
    "Example 4:\n",
    "\n",
    "Input: pattern = \"abba\", str = \"dog dog dog dog\"\n",
    "Output: false\n",
    "Notes:\n",
    "You may assume pattern contains only lowercase letters, and str contains lowercase letters separated by a single space"
   ]
  },
  {
   "cell_type": "code",
   "execution_count": 4,
   "metadata": {},
   "outputs": [],
   "source": [
    "def wordPattern(pattern, str):\n",
    "    \"\"\"\n",
    "    :type pattern: str\n",
    "    :type str: str\n",
    "    :rtype: bool\n",
    "    \"\"\"\n",
    "\n",
    "    # M1: Runtime: 20 ms, faster than 91.18%\n",
    "    str_list = str.split()\n",
    "    if len(pattern) != len(str_list):\n",
    "        return False\n",
    "    else:\n",
    "        return len(set(zip(pattern,str_list))) == len(set(pattern)) == len(set(str_list))"
   ]
  },
  {
   "cell_type": "code",
   "execution_count": 6,
   "metadata": {},
   "outputs": [
    {
     "data": {
      "text/plain": [
       "False"
      ]
     },
     "execution_count": 6,
     "metadata": {},
     "output_type": "execute_result"
    }
   ],
   "source": [
    "pattern = \"abba\"\n",
    "str = \"dog cat cat fish\"\n",
    "wordPattern(pattern,str)"
   ]
  },
  {
   "cell_type": "markdown",
   "metadata": {},
   "source": [
    "### 242. Valid Anagram\n",
    "\n",
    "Given two strings s and t , write a function to determine if t is an anagram of s.\n",
    "\n",
    "Example 1:\n",
    "\n",
    "Input: s = \"anagram\", t = \"nagaram\"\n",
    "Output: true\n",
    "Example 2:\n",
    "\n",
    "Input: s = \"rat\", t = \"car\"\n",
    "Output: false\n",
    "Note:\n",
    "You may assume the string contains only lowercase alphabets.\n",
    "\n",
    "Follow up:\n",
    "What if the inputs contain unicode characters? How would you adapt your solution to such case?"
   ]
  },
  {
   "cell_type": "code",
   "execution_count": 5,
   "metadata": {},
   "outputs": [],
   "source": [
    "from collections import Counter\n",
    "def isAnagram(s, t):\n",
    "    \"\"\"\n",
    "    :type s: str\n",
    "    :type t: str\n",
    "    :rtype: bool\n",
    "    \"\"\"\n",
    "    \n",
    "    # M1: 56 ms, faster than 38.99%\n",
    "#     sc = Counter(s)\n",
    "#     tc = Counter(t)\n",
    "#     print(sc,tc)\n",
    "#     if sc == tc:\n",
    "#         return True\n",
    "#     else:\n",
    "#         return False\n",
    "    # M2 52 ms, faster than 54.59%\n",
    "    return sorted(s) == sorted(t)"
   ]
  },
  {
   "cell_type": "code",
   "execution_count": 6,
   "metadata": {},
   "outputs": [
    {
     "data": {
      "text/plain": [
       "True"
      ]
     },
     "execution_count": 6,
     "metadata": {},
     "output_type": "execute_result"
    }
   ],
   "source": [
    "s = \"anagram\"\n",
    "t = \"nagaram\"\n",
    "isAnagram(s,t)"
   ]
  },
  {
   "cell_type": "markdown",
   "metadata": {},
   "source": [
    "### 38. Count and Say\n",
    "\n",
    "Share\n",
    "The count-and-say sequence is the sequence of integers with the first five terms as following:\n",
    "\n",
    "1.     1\n",
    "2.     11\n",
    "3.     21\n",
    "4.     1211\n",
    "5.     111221\n",
    "1 is read off as \"one 1\" or 11.\n",
    "11 is read off as \"two 1s\" or 21.\n",
    "21 is read off as \"one 2, then one 1\" or 1211.\n",
    "\n",
    "Given an integer n where 1 ≤ n ≤ 30, generate the nth term of the count-and-say sequence.\n",
    "\n",
    "Note: Each term of the sequence of integers will be represented as a string.\n",
    "\n",
    " \n",
    "\n",
    "Example 1:\n",
    "\n",
    "Input: 1\n",
    "Output: \"1\"\n",
    "Example 2:\n",
    "\n",
    "Input: 4\n",
    "Output: \"1211\""
   ]
  },
  {
   "cell_type": "code",
   "execution_count": 32,
   "metadata": {},
   "outputs": [],
   "source": [
    "from itertools import groupby\n",
    "\n",
    "class Solution(object):\n",
    "    def countAndSay(self, n):\n",
    "        \"\"\"\n",
    "        :type n: int\n",
    "        :rtype: str\n",
    "        \"\"\"\n",
    "        # M1 36 ms, faster than 17.37%\n",
    "#         if n == 1:\n",
    "#             return '1'\n",
    "#         s = self.countAndSay(n-1) + '*'\n",
    "#         res, cnt = '',1\n",
    "#         for i in range(len(s) - 1):\n",
    "#             if s[i] == s[i+1]:\n",
    "#                 cnt += 1\n",
    "#             else:\n",
    "#                 res += str(cnt) + str(s[i])\n",
    "#                 cnt = 1\n",
    "#         return res\n",
    "        # M2\n",
    "        res = '1'\n",
    "        for i in range(n-1):\n",
    "            res = ''.join(str(len(list(group))) + key for key, group in groupby(res))\n",
    "        return res"
   ]
  },
  {
   "cell_type": "code",
   "execution_count": 34,
   "metadata": {},
   "outputs": [
    {
     "name": "stdout",
     "output_type": "stream",
     "text": [
      "1211\n"
     ]
    }
   ],
   "source": [
    "n = 4\n",
    "tmp = Solution()\n",
    "ans = tmp.countAndSay(n)\n",
    "print(ans)"
   ]
  },
  {
   "cell_type": "markdown",
   "metadata": {},
   "source": [
    "## MEDIUM"
   ]
  },
  {
   "cell_type": "markdown",
   "metadata": {},
   "source": [
    "### Special String Again"
   ]
  },
  {
   "cell_type": "code",
   "execution_count": 35,
   "metadata": {},
   "outputs": [],
   "source": [
    "def substrCount(n, s):\n",
    "    \n",
    "    li = []\n",
    "    count = 0\n",
    "    cur = None\n",
    "    \n",
    "    for i in range(n):\n",
    "        if s[i] == cur:\n",
    "            count += 1\n",
    "        else:\n",
    "            if cur is not None:\n",
    "                li.append((cur,count))\n",
    "            cur = s[i]\n",
    "            count = 1\n",
    "    li.append((cur,count))\n",
    "    \n",
    "    ans = 0\n",
    "    for t in li:\n",
    "        ans += t[1] * (t[1]+1) // 2\n",
    "        \n",
    "    \n",
    "    for j in range(1,len(li)-1):\n",
    "        if li[j-1][0] == li[j+1][0] and li[j][1] == 1:\n",
    "            ans += min(li[j-1][1],li[j+1][1])\n",
    "    \n",
    "    return ans"
   ]
  },
  {
   "cell_type": "code",
   "execution_count": 39,
   "metadata": {},
   "outputs": [
    {
     "data": {
      "text/plain": [
       "10"
      ]
     },
     "execution_count": 39,
     "metadata": {},
     "output_type": "execute_result"
    }
   ],
   "source": [
    "s = \"asasd\"\n",
    "s2 = \"abcbaba\"\n",
    "ans = substrCount(len(s2),s2)\n",
    "ans"
   ]
  },
  {
   "cell_type": "markdown",
   "metadata": {},
   "source": [
    "### H Common Child"
   ]
  },
  {
   "cell_type": "code",
   "execution_count": 29,
   "metadata": {},
   "outputs": [],
   "source": [
    "# S1 and S2 are equal length\n",
    "# can delete same number of items.\n",
    "# not only one common, but have same length\n",
    "\n",
    "# https://en.wikipedia.org/wiki/Longest_common_subsequence_problem\n",
    "def commonChild(s1, s2):\n",
    "    \n",
    "    n, m = len(s1),len(s2)\n",
    "    \n",
    "    dp = [[0] * (n+1) for _ in range(m+1)]\n",
    "    \n",
    "    for i in range(1, n +1):\n",
    "        for j in range(1, m +1):\n",
    "            if s1[i-1] == s2[j-1]:\n",
    "                dp[i][j] = dp[i-1][j-1] + 1\n",
    "            else:\n",
    "                dp[i][j] = max(dp[i-1][j],dp[i][j-1])\n",
    "    return dp[n][m]"
   ]
  },
  {
   "cell_type": "code",
   "execution_count": 30,
   "metadata": {},
   "outputs": [
    {
     "data": {
      "text/plain": [
       "3"
      ]
     },
     "execution_count": 30,
     "metadata": {},
     "output_type": "execute_result"
    }
   ],
   "source": [
    "s1 = \"SHINCHAN\"\n",
    "s2 = \"NOHARAAA\"\n",
    "ans = commonChild(s1,s2)\n",
    "ans"
   ]
  },
  {
   "cell_type": "code",
   "execution_count": 26,
   "metadata": {},
   "outputs": [
    {
     "data": {
      "text/plain": [
       "[0, 1, 2, 3, 4]"
      ]
     },
     "execution_count": 26,
     "metadata": {},
     "output_type": "execute_result"
    }
   ],
   "source": [
    "list(range(5))"
   ]
  },
  {
   "cell_type": "markdown",
   "metadata": {},
   "source": [
    "### [ ] 355. Design Twitter\n",
    "\n",
    "Design a simplified version of Twitter where users can post tweets, follow/unfollow another user and is able to see the 10 most recent tweets in the user's news feed. Your design should support the following methods:\n",
    "\n",
    "postTweet(userId, tweetId): Compose a new tweet.\n",
    "getNewsFeed(userId): Retrieve the 10 most recent tweet ids in the user's news feed. Each item in the news feed must be posted by users who the user followed or by the user herself. Tweets must be ordered from most recent to least recent.\n",
    "follow(followerId, followeeId): Follower follows a followee.\n",
    "unfollow(followerId, followeeId): Follower unfollows a followee.\n",
    "Example:\n",
    "\n",
    "Twitter twitter = new Twitter();\n",
    "\n",
    "// User 1 posts a new tweet (id = 5).\n",
    "twitter.postTweet(1, 5);\n",
    "\n",
    "// User 1's news feed should return a list with 1 tweet id -> [5].\n",
    "twitter.getNewsFeed(1);\n",
    "\n",
    "// User 1 follows user 2.\n",
    "twitter.follow(1, 2);\n",
    "\n",
    "// User 2 posts a new tweet (id = 6).\n",
    "twitter.postTweet(2, 6);\n",
    "\n",
    "// User 1's news feed should return a list with 2 tweet ids -> [6, 5].\n",
    "// Tweet id 6 should precede tweet id 5 because it is posted after tweet id 5.\n",
    "twitter.getNewsFeed(1);\n",
    "\n",
    "// User 1 unfollows user 2.\n",
    "twitter.unfollow(1, 2);\n",
    "\n",
    "// User 1's news feed should return a list with 1 tweet id -> [5],\n",
    "// since user 1 is no longer following user 2.\n",
    "twitter.getNewsFeed(1);"
   ]
  },
  {
   "cell_type": "code",
   "execution_count": null,
   "metadata": {},
   "outputs": [],
   "source": [
    "class Twitter:\n",
    "\n",
    "    def __init__(self):\n",
    "        \"\"\"\n",
    "        Initialize your data structure here.\n",
    "        \"\"\"\n",
    "        \n",
    "\n",
    "    def postTweet(self, userId: int, tweetId: int) -> None:\n",
    "        \"\"\"\n",
    "        Compose a new tweet.\n",
    "        \"\"\"\n",
    "        \n",
    "\n",
    "    def getNewsFeed(self, userId: int) -> List[int]:\n",
    "        \"\"\"\n",
    "        Retrieve the 10 most recent tweet ids in the user's news feed. Each item in the news feed must be posted by users who the user followed or by the user herself. Tweets must be ordered from most recent to least recent.\n",
    "        \"\"\"\n",
    "        \n",
    "\n",
    "    def follow(self, followerId: int, followeeId: int) -> None:\n",
    "        \"\"\"\n",
    "        Follower follows a followee. If the operation is invalid, it should be a no-op.\n",
    "        \"\"\"\n",
    "        \n",
    "\n",
    "    def unfollow(self, followerId: int, followeeId: int) -> None:\n",
    "        \"\"\"\n",
    "        Follower unfollows a followee. If the operation is invalid, it should be a no-op.\n",
    "        \"\"\"\n",
    "        \n",
    "\n",
    "\n",
    "\n",
    "# Your Twitter object will be instantiated and called as such:\n",
    "# obj = Twitter()\n",
    "# obj.postTweet(userId,tweetId)\n",
    "# param_2 = obj.getNewsFeed(userId)\n",
    "# obj.follow(followerId,followeeId)\n",
    "# obj.unfollow(followerId,followeeId)"
   ]
  },
  {
   "cell_type": "markdown",
   "metadata": {},
   "source": [
    "### 151. Reverse Words in a String\n",
    "\n",
    "Given an input string, reverse the string word by word.\n",
    "\n",
    "Example:  \n",
    "\n",
    "Input: \"the sky is blue\",\n",
    "Output: \"blue is sky the\".\n",
    "Note:\n",
    "\n",
    "A word is defined as a sequence of non-space characters.\n",
    "Input string may contain leading or trailing spaces. However, your reversed string should not contain leading or trailing spaces.\n",
    "You need to reduce multiple spaces between two words to a single space in the reversed string.\n",
    "Follow up: For C programmers, try to solve it in-place in O(1) space."
   ]
  },
  {
   "cell_type": "code",
   "execution_count": 52,
   "metadata": {},
   "outputs": [],
   "source": [
    "def reverseWords(s):\n",
    "    \"\"\"\n",
    "    :type s: str\n",
    "    :rtype: str\n",
    "    \"\"\"\n",
    "    # M1 20 ms, faster than 99.59% \n",
    "    s_spl = s.split()\n",
    "    # .join not include the first sep\n",
    "    return \"_\".join(s_spl[::-1])"
   ]
  },
  {
   "cell_type": "code",
   "execution_count": 53,
   "metadata": {},
   "outputs": [
    {
     "data": {
      "text/plain": [
       "'blue_is_sky_the'"
      ]
     },
     "execution_count": 53,
     "metadata": {},
     "output_type": "execute_result"
    }
   ],
   "source": [
    "ss = \" the sky  is blue \"\n",
    "ans = reverseWords(ss)\n",
    "ans"
   ]
  },
  {
   "cell_type": "markdown",
   "metadata": {},
   "source": [
    "### 49. Group Anagrams\n",
    "\n",
    "Given an array of strings, group anagrams together.\n",
    "\n",
    "Example:\n",
    "\n",
    "Input: [\"eat\", \"tea\", \"tan\", \"ate\", \"nat\", \"bat\"],\n",
    "Output:\n",
    "[\n",
    "  [\"ate\",\"eat\",\"tea\"],\n",
    "  [\"nat\",\"tan\"],\n",
    "  [\"bat\"]\n",
    "]\n",
    "Note:\n",
    "\n",
    "All inputs will be in lowercase.\n",
    "The order of your output does not matter."
   ]
  },
  {
   "cell_type": "code",
   "execution_count": 30,
   "metadata": {},
   "outputs": [],
   "source": [
    "from collections import Counter\n",
    "def groupAnagrams(strs):\n",
    "    \"\"\"\n",
    "    :type strs: List[str]\n",
    "    :rtype: List[List[str]]\n",
    "    \"\"\"\n",
    "#     ans = []\n",
    "#     cnt_list = []\n",
    "#     for word in strs:\n",
    "#         wcnt = Counter(word)\n",
    "#         if wcnt not in cnt_list:\n",
    "#             cnt_list.append(wcnt)\n",
    "#             ans.\n",
    "#         else:\n",
    "#             cnt_list\n",
    "\n",
    "\n",
    "    # M1 120 ms, faster than 95.36%\n",
    "    # for dict , the key can have several values.\n",
    "    ans = {}\n",
    "    for ss in strs:\n",
    "        tmp = \"\".join(sorted(ss))\n",
    "        if tmp not in ans:\n",
    "            ans[tmp] = [ss]\n",
    "        else:\n",
    "            ans[tmp].append(ss)\n",
    "    return ans.values()\n",
    "    "
   ]
  },
  {
   "cell_type": "code",
   "execution_count": 31,
   "metadata": {},
   "outputs": [
    {
     "data": {
      "text/plain": [
       "dict_values([['eat', 'tea', 'ate'], ['tan', 'nat'], ['bat']])"
      ]
     },
     "execution_count": 31,
     "metadata": {},
     "output_type": "execute_result"
    }
   ],
   "source": [
    "ss = [\"eat\", \"tea\", \"tan\", \"ate\", \"nat\", \"bat\"]\n",
    "ans=groupAnagrams(ss)\n",
    "ans"
   ]
  },
  {
   "cell_type": "markdown",
   "metadata": {},
   "source": [
    "## Hard"
   ]
  },
  {
   "cell_type": "markdown",
   "metadata": {},
   "source": [
    "## 87. Scramble String\n",
    "\n",
    "Given a string s1, we may represent it as a binary tree by partitioning it to two non-empty substrings recursively.\n",
    "\n",
    "Below is one possible representation of s1 = \"great\":\n",
    "\n",
    "    great\n",
    "   /    \\\n",
    "  gr    eat\n",
    " / \\    /  \\\n",
    "g   r  e   at\n",
    "           / \\\n",
    "          a   t\n",
    "To scramble the string, we may choose any non-leaf node and swap its two children.\n",
    "\n",
    "For example, if we choose the node \"gr\" and swap its two children, it produces a scrambled string \"rgeat\".\n",
    "\n",
    "    rgeat\n",
    "   /    \\\n",
    "  rg    eat\n",
    " / \\    /  \\\n",
    "r   g  e   at\n",
    "           / \\\n",
    "          a   t\n",
    "We say that \"rgeat\" is a scrambled string of \"great\".\n",
    "\n",
    "Similarly, if we continue to swap the children of nodes \"eat\" and \"at\", it produces a scrambled string \"rgtae\".\n",
    "\n",
    "    rgtae\n",
    "   /    \\\n",
    "  rg    tae\n",
    " / \\    /  \\\n",
    "r   g  ta  e\n",
    "       / \\\n",
    "      t   a\n",
    "We say that \"rgtae\" is a scrambled string of \"great\".\n",
    "\n",
    "Given two strings s1 and s2 of the same length, determine if s2 is a scrambled string of s1.\n",
    "\n",
    "Example 1:\n",
    "\n",
    "Input: s1 = \"great\", s2 = \"rgeat\"\n",
    "Output: true\n",
    "Example 2:\n",
    "\n",
    "Input: s1 = \"abcde\", s2 = \"caebd\"\n",
    "Output: false"
   ]
  },
  {
   "cell_type": "code",
   "execution_count": 6,
   "metadata": {},
   "outputs": [],
   "source": [
    "def isScramble(s1, s2):\n",
    "    \"\"\"\n",
    "    :type s1: str\n",
    "    :type s2: str\n",
    "    :rtype: bool\n",
    "    \"\"\"\n",
    "    # For binary tree, len <= 3, can be exchanged order.\n",
    "    if len(s1) != len(s2) or sorted(s1) != sorted(s2):\n",
    "        return False\n",
    "    if len(s1) < 4 or s1 == s2:\n",
    "        return True\n",
    "    return any(isScramble(s1[:i], s2[:i]) and isScramble(s1[i:], s2[i:]) or \\\n",
    "           isScramble(s1[:i], s2[-i:]) and isScramble(s1[i:], s2[:-i]) for i in range(1, len(s1)))    "
   ]
  },
  {
   "cell_type": "code",
   "execution_count": 7,
   "metadata": {},
   "outputs": [
    {
     "data": {
      "text/plain": [
       "True"
      ]
     },
     "execution_count": 7,
     "metadata": {},
     "output_type": "execute_result"
    }
   ],
   "source": [
    "s1 = \"great\"\n",
    "s2 = \"rgeat\"\n",
    "isScramble(s1,s2)"
   ]
  },
  {
   "cell_type": "markdown",
   "metadata": {},
   "source": [
    "# Dictionaries"
   ]
  },
  {
   "cell_type": "markdown",
   "metadata": {},
   "source": [
    "## Easy"
   ]
  },
  {
   "cell_type": "markdown",
   "metadata": {},
   "source": [
    "### Two Strings"
   ]
  },
  {
   "cell_type": "code",
   "execution_count": 19,
   "metadata": {},
   "outputs": [],
   "source": [
    "from collections import Counter\n",
    "#M1: Counter\n",
    "def twoStrings(s1, s2):\n",
    "    c1 = Counter(s1)\n",
    "    c2 = Counter(s2)\n",
    "    print(len(c1 - c2))\n",
    "    if c1 - c2 == c1:\n",
    "        return \"NO\"\n",
    "    else:\n",
    "        return \"YES\"\n",
    "\n",
    "# # M2: Set\n",
    "# def twoStrings(s1,s2):\n",
    "#     return \"YES\" if len(set(s1) & set(s2)) > 0 else \"NO\""
   ]
  },
  {
   "cell_type": "code",
   "execution_count": 22,
   "metadata": {},
   "outputs": [
    {
     "name": "stdout",
     "output_type": "stream",
     "text": [
      "0\n"
     ]
    },
    {
     "data": {
      "text/plain": [
       "'YES'"
      ]
     },
     "execution_count": 22,
     "metadata": {},
     "output_type": "execute_result"
    }
   ],
   "source": [
    "s2 = \"hello world\"\n",
    "s1 = \"he\"\n",
    "ans = twoStrings(s1,s2)\n",
    "ans"
   ]
  },
  {
   "cell_type": "code",
   "execution_count": 23,
   "metadata": {},
   "outputs": [
    {
     "data": {
      "text/plain": [
       "{'e', 'h'}"
      ]
     },
     "execution_count": 23,
     "metadata": {},
     "output_type": "execute_result"
    }
   ],
   "source": [
    "set(s1) & set(s2)"
   ]
  },
  {
   "cell_type": "markdown",
   "metadata": {},
   "source": [
    "## Medium"
   ]
  },
  {
   "cell_type": "markdown",
   "metadata": {},
   "source": [
    "### H Frequency Queries"
   ]
  },
  {
   "cell_type": "code",
   "execution_count": 72,
   "metadata": {},
   "outputs": [],
   "source": [
    "from collections import defaultdict\n",
    "\n",
    "# out of time limit\n",
    "# def freqQuery(queries):\n",
    "    \n",
    "#     data = defaultdict(int)\n",
    "#     ans = []\n",
    "    \n",
    "#     for q in queries:\n",
    "        \n",
    "#         op , num = q[0], q[1]\n",
    "#         if op == 1:\n",
    "#             data[num] += 1\n",
    "#         elif op == 2:\n",
    "#             data[num]  = max(0, data[num] - 1)\n",
    "#         elif q[0] == 3:\n",
    "#             if num in list(data.values()):\n",
    "#                 ans.append(1)\n",
    "#             else:\n",
    "#                 ans.append(0)\n",
    "#         print(data[11])\n",
    "#     return ans\n",
    "\n",
    "def freqQuery(queries):\n",
    "    \n",
    "#     data = defaultdict(int)\n",
    "#     cnt = defaultdict(int)\n",
    "#     ans = []\n",
    "\n",
    "#     for q in queries:\n",
    "#         op , num = q[0], q[1]\n",
    "        \n",
    "#         if op == 1:\n",
    "\n",
    "            \n",
    "    #qs = int(input())\n",
    "    freq = defaultdict(int)\n",
    "    counter = defaultdict(int)\n",
    "    answers = []\n",
    "\n",
    "    for quer in queries:\n",
    "        q, x = quer[0],quer[1]\n",
    "        if q == 1:\n",
    "            counter[freq[x]] = max(0, counter[freq[x]] - 1)\n",
    "            freq[x] += 1\n",
    "            counter[freq[x]] += 1\n",
    "        if q == 2:\n",
    "            counter[freq[x]] = max(0, counter[freq[x]] - 1)\n",
    "            freq[x] = max(0, freq[x] - 1)\n",
    "            counter[freq[x]] += 1\n",
    "        if q == 3:\n",
    "            answers.append(int(counter[x] > 0))\n",
    "    return answers"
   ]
  },
  {
   "cell_type": "code",
   "execution_count": 73,
   "metadata": {},
   "outputs": [
    {
     "data": {
      "text/plain": [
       "[0, 1]"
      ]
     },
     "execution_count": 73,
     "metadata": {},
     "output_type": "execute_result"
    }
   ],
   "source": [
    "queries = [(1,5),(1,6),(3,2),(1,10),(1,10),(1,6),(2,11),(3,2)]\n",
    "ans = freqQuery(queries)\n",
    "ans"
   ]
  },
  {
   "cell_type": "code",
   "execution_count": null,
   "metadata": {},
   "outputs": [],
   "source": [
    "q"
   ]
  },
  {
   "cell_type": "markdown",
   "metadata": {},
   "source": [
    "### H Sherlock and the Valid String"
   ]
  },
  {
   "cell_type": "code",
   "execution_count": 18,
   "metadata": {},
   "outputs": [],
   "source": [
    "from collections import Counter\n",
    "\n",
    "# def cnt(s):\n",
    "    \n",
    "#     cnts = [0]*26\n",
    "#     for ch in s:\n",
    "#         cnts[ord(ch) - ord('a')] +=1\n",
    "#     return cnts\n",
    "    \n",
    "# def isValid(s):\n",
    "#     c = sorted(cnt(s),reverse=True)\n",
    "#     cc = Counter(c)\n",
    "#     return cc\n",
    "\n",
    "import operator\n",
    "def isValid(s):\n",
    "    cl = list(Counter(s).values())\n",
    "    ccl = sorted(Counter(cl).items(),key=operator.itemgetter(0))\n",
    "    \n",
    "    # occured times\n",
    "    cclk = [x[0] for x in ccl]\n",
    "    \n",
    "    # counts of occured certain numbers\n",
    "    cclv = [x[1] for x in ccl]\n",
    "    \n",
    "    print(ccl,cclk,cclv)\n",
    "    if len(cclk) > 2:\n",
    "        return \"NO\"\n",
    "    elif len(cclk) == 1:\n",
    "        return \"YES\"\n",
    "    elif len(cclk) == 2:\n",
    "        # a char occur once or \n",
    "        if (cclk[0] == 1 and cclv[0] == 1) or ((cclk[-1] - cclk[0] == 1) and (cclv[0] == 1 or cclv[-1] == 1)): \n",
    "            return \"YES\"\n",
    "        else:\n",
    "            return \"NO\"\n",
    "    \n"
   ]
  },
  {
   "cell_type": "code",
   "execution_count": 19,
   "metadata": {},
   "outputs": [
    {
     "name": "stdout",
     "output_type": "stream",
     "text": [
      "[(1, 1), (111, 9)] [1, 111] [1, 9]\n"
     ]
    },
    {
     "data": {
      "text/plain": [
       "'YES'"
      ]
     },
     "execution_count": 19,
     "metadata": {},
     "output_type": "execute_result"
    }
   ],
   "source": [
    "s = \"abcdefghhgfedecba\"\n",
    "s7 = \"ibfdgaeadiaefgbhbdghhhbgdfgeiccbiehhfcggchgghadhdhagfbahhddgghbdehidbibaeaagaeeigffcebfbaieggabcfbiiedcabfihchdfabifahcbhagccbdfifhghcadfiadeeaheeddddiecaicbgigccageicehfdhdgafaddhffadigfhhcaedcedecafeacbdacgfgfeeibgaiffdehigebhhehiaahfidibccdcdagifgaihacihadecgifihbebffebdfbchbgigeccahgihbcbcaggebaaafgfedbfgagfediddghdgbgehhhifhgcedechahidcbchebheihaadbbbiaiccededchdagfhccfdefigfibifabeiaccghcegfbcghaefifbachebaacbhbfgfddeceababbacgffbagidebeadfihaefefegbghgddbbgddeehgfbhafbccidebgehifafgbghafacgfdccgifdcbbbidfifhdaibgigebigaedeaaiadegfefbhacgddhchgcbgcaeaieiegiffchbgbebgbehbbfcebciiagacaiechdigbgbghefcahgbhfibhedaeeiffebdiabcifgccdefabccdghehfibfiifdaicfedagahhdcbhbicdgibgcedieihcichadgchgbdcdagaihebbabhibcihicadgadfcihdheefbhffiageddhgahaidfdhhdbgciiaciegchiiebfbcbhaeagccfhbfhaddagnfieihghfbaggiffbbfbecgaiiidccdceadbbdfgigibgcgchafccdchgifdeieicbaididhfcfdedbhaadedfageigfdehgcdaecaebebebfcieaecfagfdieaefdiedbcadchabhebgehiidfcgahcdhcdhgchhiiheffiifeegcfdgbdeffhgeghdfhbfbifgidcafbfcd\"\n",
    "s2 = \"abcdefghhgfedecba\"\n",
    "ans = isValid(s7)\n",
    "ans\n"
   ]
  },
  {
   "cell_type": "markdown",
   "metadata": {},
   "source": [
    "### H Count Triplets"
   ]
  },
  {
   "cell_type": "code",
   "execution_count": 57,
   "metadata": {},
   "outputs": [],
   "source": [
    "# M1, out of time limit\n",
    "# def countTriplets(arr, r):\n",
    "#     ans = 0\n",
    "#     arr = sorted(arr)\n",
    "#     n = len(arr)\n",
    "#     for i in range(n-2):\n",
    "#         for j in range(i+1,n-1):\n",
    "#             if arr[j] == r * arr[i]:\n",
    "#                 for k in range(j+1,n):\n",
    "#                     if arr[k] == r * arr[j]:\n",
    "#                         print(arr[i],arr[j],arr[k])\n",
    "#                         ans += 1 \n",
    "#     return ans\n",
    "\n",
    "\n",
    "# Setting the default_factory to int makes the defaultdict useful for counting (like a bag or multiset in other languages)\n",
    "from collections import defaultdict\n",
    "def countTriplets(arr, r):\n",
    "    c1 = defaultdict(int)\n",
    "    c2 = defaultdict(int)\n",
    "    \n",
    "    r2 = r * r\n",
    "    ans = 0\n",
    "    for x in arr:\n",
    "        if r == 1:\n",
    "            n = c1[x]\n",
    "            # right now, n is less 1 than the actural\n",
    "            # means, when we meet a next item, we first select any two from before,combination\n",
    "            #c(n,2) = ()\n",
    "            ans += (n * (n-1)) // 2\n",
    "        else:\n",
    "            if x % r  == 0:            \n",
    "                # the second level is constrain by the first level, so when meet a second level number, \n",
    "                # we record the first level number\n",
    "                c2[x] += c1[x // r]\n",
    "            if x % r2 == 0:\n",
    "                # when meet the third level number, likewise, it is constrained by the seconde level\n",
    "                ans += c2[x // r]\n",
    "        \n",
    "        c1[x] += 1\n",
    "    \n",
    "    return ans\n",
    "            "
   ]
  },
  {
   "cell_type": "code",
   "execution_count": 58,
   "metadata": {},
   "outputs": [
    {
     "data": {
      "text/plain": [
       "4"
      ]
     },
     "execution_count": 58,
     "metadata": {},
     "output_type": "execute_result"
    }
   ],
   "source": [
    "arr = [1,5, 5, 25, 125]\n",
    "r = 5\n",
    "ans = countTriplets(arr,r)\n",
    "ans"
   ]
  },
  {
   "cell_type": "markdown",
   "metadata": {},
   "source": [
    "### H Sherlock and Anagrams"
   ]
  },
  {
   "cell_type": "code",
   "execution_count": 43,
   "metadata": {},
   "outputs": [],
   "source": [
    "def sherlockAndAnagrams(s):\n",
    "    ans = 0\n",
    "    n = len(s)\n",
    "    \n",
    "    for length in range(1,n):\n",
    "        \n",
    "        # n - length if for limit the lenth not out\n",
    "        for i in range(n-length):\n",
    "            substring = sorted(s[i:i+length])\n",
    "            \n",
    "            # substring j start from the next of i.\n",
    "            for j in range(i+1,n):\n",
    "                if j + length > n:\n",
    "                    continue\n",
    "                elif substring == sorted(s[j:j+length]):\n",
    "                    print(substring,sorted(s[j:j+length]))\n",
    "                    ans += 1\n",
    "    return ans"
   ]
  },
  {
   "cell_type": "code",
   "execution_count": 44,
   "metadata": {},
   "outputs": [
    {
     "name": "stdout",
     "output_type": "stream",
     "text": [
      "['a'] ['a']\n",
      "['b'] ['b']\n",
      "['a', 'b'] ['a', 'b']\n",
      "['a', 'b', 'b'] ['a', 'b', 'b']\n"
     ]
    },
    {
     "data": {
      "text/plain": [
       "4"
      ]
     },
     "execution_count": 44,
     "metadata": {},
     "output_type": "execute_result"
    }
   ],
   "source": [
    "s1 = \"abba\"\n",
    "s2 = \"kkkk\"\n",
    "s3 = \"ifailuhkqq\"\n",
    "ans = sherlockAndAnagrams(s1)\n",
    "ans"
   ]
  },
  {
   "cell_type": "code",
   "execution_count": 38,
   "metadata": {},
   "outputs": [
    {
     "data": {
      "text/plain": [
       "'ba'"
      ]
     },
     "execution_count": 38,
     "metadata": {},
     "output_type": "execute_result"
    }
   ],
   "source": [
    "s1[2:6]"
   ]
  },
  {
   "cell_type": "markdown",
   "metadata": {},
   "source": [
    "# Greedy"
   ]
  },
  {
   "cell_type": "markdown",
   "metadata": {},
   "source": [
    "## Easy"
   ]
  },
  {
   "cell_type": "markdown",
   "metadata": {},
   "source": [
    "### Minimum Absolute Difference in an Array"
   ]
  },
  {
   "cell_type": "code",
   "execution_count": 35,
   "metadata": {},
   "outputs": [],
   "source": [
    "def minimumAbsoluteDifference(arr):\n",
    "    \n",
    "    arr.sort()\n",
    "    diff = [abs(a_i - b_i) for a_i,b_i in zip(arr[1:],arr[:-1])]\n",
    "    return min(diff)"
   ]
  },
  {
   "cell_type": "code",
   "execution_count": 36,
   "metadata": {},
   "outputs": [
    {
     "data": {
      "text/plain": [
       "1"
      ]
     },
     "execution_count": 36,
     "metadata": {},
     "output_type": "execute_result"
    }
   ],
   "source": [
    "arr = [-59, -36,-13, 1, -53, -92, -2, -96, -54, 75]\n",
    "ans = minimumAbsoluteDifference(arr)\n",
    "ans"
   ]
  },
  {
   "cell_type": "markdown",
   "metadata": {},
   "source": [
    "### Luck Balance"
   ]
  },
  {
   "cell_type": "code",
   "execution_count": 27,
   "metadata": {},
   "outputs": [],
   "source": [
    "import pandas as pd\n",
    "def luckBalance(k, contests):\n",
    "    \n",
    "    #contests.sort(reverse=True)\n",
    "    #contests.sort(key = lambda c: c[0],reverse=True)\n",
    "    #contests.sort(key = )\n",
    "    luck = 0\n",
    "    \n",
    "    for contest in contests:\n",
    "        if contest[1] == 0:\n",
    "            luck += contest[0]\n",
    "        elif k > 0:\n",
    "            luck += contest[0]\n",
    "            k -=1\n",
    "        else:\n",
    "            luck -= contest[0]\n",
    "    \n",
    "    return luck"
   ]
  },
  {
   "cell_type": "code",
   "execution_count": 28,
   "metadata": {},
   "outputs": [
    {
     "data": {
      "text/plain": [
       "29"
      ]
     },
     "execution_count": 28,
     "metadata": {},
     "output_type": "execute_result"
    }
   ],
   "source": [
    "k = 3\n",
    "contests = [[5,1],[2,1],[1,1],[8,1],[10,0],[5,0]]\n",
    "ans = luckBalance(k,contests)\n",
    "ans"
   ]
  },
  {
   "cell_type": "markdown",
   "metadata": {},
   "source": [
    "## Medium"
   ]
  },
  {
   "cell_type": "markdown",
   "metadata": {},
   "source": [
    "### Reverse Shuffle Merge"
   ]
  },
  {
   "cell_type": "code",
   "execution_count": null,
   "metadata": {},
   "outputs": [],
   "source": []
  },
  {
   "cell_type": "code",
   "execution_count": null,
   "metadata": {},
   "outputs": [],
   "source": []
  },
  {
   "cell_type": "markdown",
   "metadata": {},
   "source": [
    "### Max Min"
   ]
  },
  {
   "cell_type": "code",
   "execution_count": 61,
   "metadata": {},
   "outputs": [],
   "source": [
    "def maxMin(k, arr):\n",
    "\n",
    "#     arr.sort()    \n",
    "#     tmp = 0\n",
    "#     mini = float('inf')\n",
    "#     for i in range(len(arr) - k +1):\n",
    "#         tmp = arr[i+k -1] - arr[i]\n",
    "#         if tmp < mini:\n",
    "#             mini = tmp\n",
    "        \n",
    "#     return mini\n",
    "\n",
    "\n",
    "    arr.sort()\n",
    "    mini = arr[k-1]-arr[0]\n",
    "    for i in range(len(arr)-k+1):\n",
    "        mini = min(mini, arr[i+k-1] - arr[i])\n",
    "    \n",
    "    return mini"
   ]
  },
  {
   "cell_type": "code",
   "execution_count": 62,
   "metadata": {},
   "outputs": [
    {
     "data": {
      "text/plain": [
       "20"
      ]
     },
     "execution_count": 62,
     "metadata": {},
     "output_type": "execute_result"
    }
   ],
   "source": [
    "k = 3\n",
    "arr = [10,100,300,200,1000,20,30]\n",
    "ans = maxMin(k,arr)\n",
    "ans"
   ]
  },
  {
   "cell_type": "markdown",
   "metadata": {},
   "source": [
    "### Greedy Florist"
   ]
  },
  {
   "cell_type": "code",
   "execution_count": 42,
   "metadata": {},
   "outputs": [],
   "source": [
    "def getMinimumCost(k, c):\n",
    "    \n",
    "    c.sort(reverse = True)\n",
    "    \n",
    "    cost = 0\n",
    "    n = len(c)\n",
    "    for i in range(0,n,k):\n",
    "        cost += ((i // k) + 1) * sum(c[i:i+k])\n",
    "    \n",
    "    return cost"
   ]
  },
  {
   "cell_type": "code",
   "execution_count": 43,
   "metadata": {},
   "outputs": [
    {
     "data": {
      "text/plain": [
       "29"
      ]
     },
     "execution_count": 43,
     "metadata": {},
     "output_type": "execute_result"
    }
   ],
   "source": [
    "c= [1, 3, 5, 7, 9]\n",
    "k = 3\n",
    "ans = getMinimumCost(k,c)\n",
    "ans"
   ]
  },
  {
   "cell_type": "markdown",
   "metadata": {},
   "source": [
    "# Dynamic Programming\n",
    "- Dynamic Programming is a method for solving a complex problem by breaking it down into a collection of simpler subproblems, solving each of those subproblems just once, and storing their solutions using a memory-based data structure (array, map,etc). Each of the subproblem solutions is indexed in some way, typically based on the values of its input parameters, so as to facilitate its lookup. So the next time the same subproblem occurs, instead of recomputing its solution, one simply looks up the previously computed solution, thereby saving computation time. This technique of storing solutions to subproblems instead of recomputing them is called memoization.\n",
    "- https://blog.usejournal.com/top-50-dynamic-programming-practice-problems-4208fed71aa3"
   ]
  },
  {
   "cell_type": "markdown",
   "metadata": {},
   "source": [
    "## Easy"
   ]
  },
  {
   "cell_type": "markdown",
   "metadata": {},
   "source": [
    "## Medium"
   ]
  },
  {
   "cell_type": "markdown",
   "metadata": {},
   "source": [
    "### []Decibinary Numbers"
   ]
  },
  {
   "cell_type": "code",
   "execution_count": 30,
   "metadata": {},
   "outputs": [],
   "source": [
    "# def db_value(arr):\n",
    "#     dv_arr = []\n",
    "#     for db in arr:\n",
    "#         str_db = str(db)\n",
    "#         dv = 0\n",
    "#         for i,digit in enumerate(reversed(str_db)):\n",
    "#             dv += (int(digit)* (2**i))        \n",
    "#         dv_arr.append(dv)    \n",
    "#     return dv_arr\n",
    "\n",
    "def db_value(db):\n",
    "    str_db = str(db)\n",
    "    dv = 0\n",
    "    for i,digit in enumerate(reversed(str_db)):\n",
    "        dv += (int(digit)* (2**i))        \n",
    "    return dv\n",
    "    \n",
    "def decibinaryNumbers(x):\n",
    "    pass"
   ]
  },
  {
   "cell_type": "code",
   "execution_count": 23,
   "metadata": {},
   "outputs": [],
   "source": [
    "x= [1,2,3,4,10]\n",
    "ans = decibinaryNumbers(x)\n",
    "ans"
   ]
  },
  {
   "cell_type": "code",
   "execution_count": 35,
   "metadata": {},
   "outputs": [
    {
     "data": {
      "text/plain": [
       "[0, 4, 8, 12, 16, 20, 24, 28, 32, 36]"
      ]
     },
     "execution_count": 35,
     "metadata": {},
     "output_type": "execute_result"
    }
   ],
   "source": [
    "[db_value(x) for x in range(0,1000,100)]"
   ]
  },
  {
   "cell_type": "markdown",
   "metadata": {},
   "source": [
    "###  Candies\n",
    "\n",
    "- 2019-11-02 10:36:17\n",
    "    - solve by myself,hahaha"
   ]
  },
  {
   "cell_type": "code",
   "execution_count": 13,
   "metadata": {},
   "outputs": [],
   "source": [
    "def candies(n, arr):\n",
    "    \n",
    "    candy = [1] * n\n",
    "    \n",
    "    for i in range(1,n):\n",
    "        if arr[i] > arr[i-1]:\n",
    "            candy[i] = candy[i-1] + 1\n",
    "    \n",
    "    for i in reversed(range(0,n-1)):\n",
    "        if arr[i] > arr[i+1] and candy[i] <= candy[i+1]:\n",
    "            candy[i] = candy[i+1] + 1\n",
    "    \n",
    "    return sum(candy)"
   ]
  },
  {
   "cell_type": "code",
   "execution_count": 15,
   "metadata": {},
   "outputs": [
    {
     "data": {
      "text/plain": [
       "19"
      ]
     },
     "execution_count": 15,
     "metadata": {},
     "output_type": "execute_result"
    }
   ],
   "source": [
    "#arr = [2,4,3,5,2,6,4,5]\n",
    "arr = [2,4,2,6,1,7,8,9,2,1]\n",
    "n = len(arr)\n",
    "ans = candies(n,arr)\n",
    "ans"
   ]
  },
  {
   "cell_type": "markdown",
   "metadata": {},
   "source": [
    "###  [ ] Abbreviation\n",
    "- 2019-11-02 09:52:16\n",
    "    - revie 1hour can't understand, need practice on easy DP problem"
   ]
  },
  {
   "cell_type": "code",
   "execution_count": 2,
   "metadata": {},
   "outputs": [
    {
     "data": {
      "text/plain": [
       "{'e'}"
      ]
     },
     "execution_count": 2,
     "metadata": {},
     "output_type": "execute_result"
    }
   ],
   "source": [
    "set(['b','e'])- set(['a','b','c'])"
   ]
  },
  {
   "cell_type": "code",
   "execution_count": 6,
   "metadata": {},
   "outputs": [],
   "source": [
    "# 1.capitalize lowercase in a /2. delete lowercase in a/3.can't delete uppercase.\n",
    "\n",
    "def abbreviation(a, b):\n",
    "#     c = []\n",
    "    \n",
    "    ai= bi = 0\n",
    "    la = len(a)\n",
    "    lb = len(b)\n",
    "    while bi < len(b):\n",
    "        while ai < la: \n",
    "            if a[ai].upper() == b[bi]:\n",
    "                ai +=1\n",
    "                if bi = lb -1:\n",
    "                    continue\n",
    "                else:\n",
    "                    bi +=1\n",
    "            elif a[ai].isupper():\n",
    "                return \"NO\"\n",
    "            elif a[ai].islower():\n",
    "                ai +=1\n",
    "        if bi < len(b):\n",
    "            return \"NO\"\n",
    "    \n",
    "    return \"YES\"\n",
    "    \n",
    "    ai = bi = 0\n",
    "    while ai < len(a):\n",
    "        \n"
   ]
  },
  {
   "cell_type": "code",
   "execution_count": 9,
   "metadata": {},
   "outputs": [
    {
     "name": "stdout",
     "output_type": "stream",
     "text": [
      "NO\n"
     ]
    }
   ],
   "source": [
    "a = 'adBcd'\n",
    "\n",
    "b = 'ABCF'\n",
    "# 'ADBCD'\n",
    "\n",
    "if __name__ == '__main__':\n",
    "    ans = abbreviation(a,b)\n",
    "    print(ans)\n"
   ]
  },
  {
   "cell_type": "code",
   "execution_count": 6,
   "metadata": {},
   "outputs": [
    {
     "data": {
      "text/plain": [
       "False"
      ]
     },
     "execution_count": 6,
     "metadata": {},
     "output_type": "execute_result"
    }
   ],
   "source": [
    "c = 'cbBe'\n",
    "c.islower()"
   ]
  },
  {
   "cell_type": "code",
   "execution_count": 4,
   "metadata": {},
   "outputs": [
    {
     "data": {
      "text/plain": [
       "True"
      ]
     },
     "execution_count": 4,
     "metadata": {},
     "output_type": "execute_result"
    }
   ],
   "source": [
    "True or False"
   ]
  },
  {
   "cell_type": "markdown",
   "metadata": {},
   "source": [
    "### Max Array Sum"
   ]
  },
  {
   "cell_type": "code",
   "execution_count": 1,
   "metadata": {},
   "outputs": [],
   "source": [
    "# recursion / for loop / a list for store result of each step \n",
    "# consider what's the ans of step1, step2,  \n",
    "def maxSubsetSum(arr):\n",
    "    \n",
    "    if max(arr) <= 0:\n",
    "        return max(arr)\n",
    "    \n",
    "    n = len(arr)\n",
    "    ss = [0] * n\n",
    "    ss[0], ss[1] = arr[0], max(arr[0],arr[1])\n",
    "    \n",
    "    for i in range(2,n):\n",
    "        ss[i] = max(ss[i-1], arr[i] + ss[i-2], arr[i])\n",
    "    \n",
    "    return ss[-1]\n",
    "        "
   ]
  },
  {
   "cell_type": "code",
   "execution_count": 2,
   "metadata": {},
   "outputs": [
    {
     "data": {
      "text/plain": [
       "13"
      ]
     },
     "execution_count": 2,
     "metadata": {},
     "output_type": "execute_result"
    }
   ],
   "source": [
    "arr = [-2,1,3,4,5,8]\n",
    "ans = maxSubsetSum(arr)\n",
    "ans"
   ]
  },
  {
   "cell_type": "markdown",
   "metadata": {},
   "source": [
    "# Linked List"
   ]
  },
  {
   "cell_type": "markdown",
   "metadata": {},
   "source": [
    "## Easy"
   ]
  },
  {
   "cell_type": "markdown",
   "metadata": {},
   "source": [
    "### Detect a Cycle\n",
    "- https://www.geeksforgeeks.org/detect-and-remove-loop-in-a-linked-list/\n",
    "    - remove loop:\n",
    "        - find the loop stat point, two pointer, one is in the loop, one is start from the head, "
   ]
  },
  {
   "cell_type": "code",
   "execution_count": 12,
   "metadata": {},
   "outputs": [],
   "source": [
    "# M1  Floyd’s Cycle detection algorithm\n",
    "# a slow pointer to next  and fast pointer to next.next\n",
    "# def has_cycle(head):\n",
    "    \n",
    "#     if head is None:\n",
    "#         return False\n",
    "    \n",
    "    \n",
    "#     slow = head\n",
    "#     fast = head.next\n",
    "    \n",
    "#     i = 0\n",
    "#     while slow != fast:\n",
    "#         i += 1\n",
    "#         print(f\"i\")\n",
    "#         if fast = None or fast.next = None:\n",
    "#             return False\n",
    "        \n",
    "#         slow = slow.next\n",
    "#         fast = fast.next.next\n",
    "    \n",
    "#     return True\n",
    "\n",
    "\n",
    "def has_cycle(head):\n",
    "    if head is None:\n",
    "        return False\n",
    "    \n",
    "    s = set()\n",
    "    temp = head\n",
    "    while temp:\n",
    "        if temp in s:\n",
    "            return True\n",
    "        \n",
    "        s.add(temp)\n",
    "        temp = temp.next\n",
    "    \n",
    "    return False\n",
    "        "
   ]
  },
  {
   "cell_type": "markdown",
   "metadata": {},
   "source": [
    "# Stack and Queues"
   ]
  },
  {
   "cell_type": "markdown",
   "metadata": {},
   "source": [
    "## Medium"
   ]
  },
  {
   "cell_type": "markdown",
   "metadata": {},
   "source": [
    "### Largest Rectangle\n",
    "- https://www.geeksforgeeks.org/largest-rectangle-under-histogram/"
   ]
  },
  {
   "cell_type": "code",
   "execution_count": 115,
   "metadata": {},
   "outputs": [],
   "source": [
    "def largestRectangle(h):\n",
    "    h = "
   ]
  },
  {
   "cell_type": "code",
   "execution_count": null,
   "metadata": {},
   "outputs": [],
   "source": [
    "h = [1, 2,3, 4, 5]\n",
    "ans = largestRectangle(h)\n",
    "ans"
   ]
  },
  {
   "cell_type": "markdown",
   "metadata": {},
   "source": [
    "### Queues: A Tale of Two Stacks"
   ]
  },
  {
   "cell_type": "code",
   "execution_count": 114,
   "metadata": {},
   "outputs": [
    {
     "name": "stdout",
     "output_type": "stream",
     "text": [
      "10\n",
      "1 42\n",
      "2\n",
      "1 14\n",
      "3\n",
      "14\n",
      "1 28\n",
      "3\n",
      "14\n",
      "1 60\n",
      "1 78\n",
      "2\n",
      "2\n"
     ]
    }
   ],
   "source": [
    "class MyQueue(object):\n",
    "    def __init__(self):\n",
    "        self.lifo = []\n",
    "        self.fifo = []\n",
    "    \n",
    "    def peek(self):\n",
    "        if self.lifo and self.fifo:\n",
    "            return self.fifo[0]\n",
    "        \n",
    "    def pop(self):\n",
    "        if self.lifo and self.fifo:\n",
    "            self.fifo.pop(0)\n",
    "            self.lifo.pop(-1)\n",
    "        \n",
    "    def put(self, value):\n",
    "        self.fifo.append(value)\n",
    "        self.lifo.insert(0,value)\n",
    "        \n",
    "queue = MyQueue()\n",
    "t = int(input())\n",
    "for line in range(t):\n",
    "    values = map(int, input().split())\n",
    "    values = list(values)\n",
    "    if values[0] == 1:\n",
    "        queue.put(values[1])        \n",
    "    elif values[0] == 2:\n",
    "        queue.pop()\n",
    "    else:\n",
    "        print(queue.peek())\n"
   ]
  },
  {
   "cell_type": "code",
   "execution_count": null,
   "metadata": {},
   "outputs": [],
   "source": [
    "\n"
   ]
  },
  {
   "cell_type": "markdown",
   "metadata": {},
   "source": [
    "### Balanced Brackets\n",
    "\n",
    "- Symbol"
   ]
  },
  {
   "cell_type": "code",
   "execution_count": 111,
   "metadata": {},
   "outputs": [],
   "source": [
    "# M1: Runtime error\n",
    "def isBalanced(s):\n",
    "\n",
    "    match = {'(':')','[':']','{':'}'}\n",
    "\n",
    "    stack = []\n",
    "    for bracket in s:\n",
    "        if bracket in match.keys():\n",
    "            stack.append(bracket)\n",
    "        #not consider when extra close bracket. \n",
    "        # or meet the close bracket first\n",
    "        elif len(stack) > 0 and match[stack[-1]] == bracket:\n",
    "            stack.pop(-1)           \n",
    "        else:\n",
    "            return \"NO\"\n",
    "            \n",
    "    if not stack:\n",
    "        return \"YES\"\n",
    "    else:\n",
    "        return \"NO\"\n",
    "\n",
    "# def isBalanced(s):\n",
    "    \n",
    "#     match = {'(':')','[':']','{':'}'}\n",
    "#     stack = []\n",
    "\n",
    "#     for bracket in s:\n",
    "#         if bracket in match.keys():\n",
    "#             stack.append(bracket)\n",
    "#         elif len(stack) == 0 or match[stack.pop()] != bracket:\n",
    "#             return \"NO\"\n",
    "\n",
    "#     if not stack:\n",
    "#         return \"YES\"\n",
    "#     else:\n",
    "#         return \"NO\"   \n",
    "    "
   ]
  },
  {
   "cell_type": "code",
   "execution_count": 113,
   "metadata": {},
   "outputs": [
    {
     "data": {
      "text/plain": [
       "'YES'"
      ]
     },
     "execution_count": 113,
     "metadata": {},
     "output_type": "execute_result"
    }
   ],
   "source": [
    "s = \"{{[[(())]]}}\"\n",
    "s1 = \"}][}}(}][))]\"\n",
    "ans = isBalanced(s)\n",
    "ans"
   ]
  },
  {
   "cell_type": "code",
   "execution_count": 94,
   "metadata": {},
   "outputs": [
    {
     "data": {
      "text/plain": [
       "0"
      ]
     },
     "execution_count": 94,
     "metadata": {},
     "output_type": "execute_result"
    }
   ],
   "source": [
    "a= [0]\n",
    "a.pop(-1)"
   ]
  },
  {
   "cell_type": "markdown",
   "metadata": {},
   "source": [
    "# TREE\n",
    "- The depth of a node is the number of edges from the node to the tree's root node"
   ]
  },
  {
   "cell_type": "code",
   "execution_count": 22,
   "metadata": {},
   "outputs": [],
   "source": [
    "class Node:\n",
    "    def __init__(self,label,parent):\n",
    "        self.label = label\n",
    "        self.left = None\n",
    "        self.right  = None\n",
    "        self.parent = parent\n",
    "\n",
    "class BinarySearchTree:\n",
    "    def __init__(self):\n",
    "        self.root=None\n",
    "        \n",
    "    def insert(self,label):\n",
    "        \n",
    "        new_node = Node(label)\n",
    "        \n",
    "        if self.empty():\n",
    "            self.root = new_node\n",
    "        else:\n",
    "            curr_node = self.root\n",
    "            while curr_node is not None:\n",
    "                parent_node = curr_node                \n",
    "                if new_node.lable < curr_node.lable:\n",
    "                    curr_node = curr_node.left\n",
    "                else:\n",
    "                    curr_node = curr_node.right\n",
    "            \n",
    "            if new_node.lable < parent_node.label:\n",
    "                parent_node.left = new_node\n",
    "            else:\n",
    "                parent_node.right = new_node\n",
    "    \n",
    "    def delete(self,label):\n",
    "        pass\n",
    "             \n",
    "    \n",
    "    def empty(self):\n",
    "        if self.root is None:\n",
    "            return True\n",
    "        return False"
   ]
  },
  {
   "cell_type": "markdown",
   "metadata": {},
   "source": [
    "## EASY"
   ]
  },
  {
   "cell_type": "markdown",
   "metadata": {},
   "source": [
    "## MEDIUM"
   ]
  },
  {
   "cell_type": "markdown",
   "metadata": {},
   "source": [
    "### 144. Binary Tree Preorder Traversal\n",
    "\n",
    "Given a binary tree, return the preorder traversal of its nodes' values.\n",
    "\n",
    "Example:\n",
    "\n",
    "Input: [1,null,2,3]\n",
    "   1\n",
    "    \\\n",
    "     2\n",
    "    /\n",
    "   3\n",
    "\n",
    "Output: [1,2,3]\n",
    "Follow up: Recursive solution is trivial, could you do it iteratively?\n"
   ]
  },
  {
   "cell_type": "code",
   "execution_count": 1,
   "metadata": {},
   "outputs": [],
   "source": [
    "# Definition for a binary tree node.\n",
    "# class TreeNode:\n",
    "#     def __init__(self, x):\n",
    "#         self.val = x\n",
    "#         self.left = None\n",
    "#         self.right = None\n",
    "\n",
    "class Solution:\n",
    "    def preorderTraversal(self, root):\n",
    "        \"\"\"\n",
    "        :type root: TreeNode\n",
    "        :rtype: List[int]\n",
    "        \"\"\"\n",
    "# M3  Iterative\n",
    "        \n",
    "        ans = []\n",
    "        if not root:\n",
    "            return ans\n",
    "        stack = [root]\n",
    "        while stack:\n",
    "            node = stack.pop()\n",
    "            ans.append()\n",
    "            # fist add right, then left\n",
    "            if node.right:\n",
    "                stack.append(node.right)\n",
    "            if node.left:\n",
    "                stack.append(node.left)\n",
    "        return ans\n",
    "        \n",
    "        # M2 , recursion 2\n",
    "\n",
    "#         ans = []\n",
    "#         if not root:\n",
    "#             return ans\n",
    "#         # exttend(iterable)\n",
    "#         #ans.extend(root.val)\n",
    "#         ans.append(root.val)\n",
    "#         if root.left:\n",
    "#             ans.extend(self.preorderTraversal(root.left))\n",
    "#         if root.right:\n",
    "#             ans.extend(self.preorderTraversal(root.right))\n",
    "#         return ans\n",
    "        \n",
    "        # M1 , recursion is not work, append vs extend\n",
    "#         ans = []\n",
    "#         current = root\n",
    "#         if not current:\n",
    "#             return\n",
    "#         ans.extend(current.val)\n",
    "#         ans.append(self.preorderTraversal(current.lef))\n",
    "#         self.append(preorderTraversal(current.right))\n",
    "#         return ans\n",
    "\n",
    "\n",
    "\n",
    "        \n",
    "    "
   ]
  },
  {
   "cell_type": "code",
   "execution_count": 32,
   "metadata": {},
   "outputs": [
    {
     "ename": "IndentationError",
     "evalue": "expected an indented block (<ipython-input-32-5abe95d44a56>, line 27)",
     "output_type": "error",
     "traceback": [
      "\u001b[1;36m  File \u001b[1;32m\"<ipython-input-32-5abe95d44a56>\"\u001b[1;36m, line \u001b[1;32m27\u001b[0m\n\u001b[1;33m    root = [1,null,2,3]\u001b[0m\n\u001b[1;37m                       ^\u001b[0m\n\u001b[1;31mIndentationError\u001b[0m\u001b[1;31m:\u001b[0m expected an indented block\n"
     ]
    }
   ],
   "source": [
    "# Binary tree\n",
    "\n",
    "class Node:\n",
    "    def __init__(self,data):\n",
    "        self.data = data\n",
    "        self.left = None\n",
    "        self.right = None\n",
    "\n",
    "class BTree:\n",
    "    def __init__(self):\n",
    "        self.rootnode = None\n",
    "        \n",
    "    def insert(self,data):\n",
    "        node = Node(data)\n",
    "\n",
    "        if not self.rootnode:\n",
    "            self.rootnode = node\n",
    "            return \n",
    "        else:\n",
    "            parent = None\n",
    "            current = node\n",
    "            while True:\n",
    "                # TODO:\n",
    "                # How to insert a None value in the tree?\n",
    "\n",
    "                \n",
    "root = [1,null,2,3]\n",
    "tmp = Solution()\n",
    "ans = tmp.preorderTraversal(root)\n",
    "ans"
   ]
  },
  {
   "cell_type": "markdown",
   "metadata": {},
   "source": [
    "## HARD"
   ]
  },
  {
   "cell_type": "markdown",
   "metadata": {},
   "source": [
    "# Sorting"
   ]
  },
  {
   "cell_type": "markdown",
   "metadata": {},
   "source": [
    "## Counting Sort"
   ]
  },
  {
   "cell_type": "code",
   "execution_count": 47,
   "metadata": {},
   "outputs": [],
   "source": [
    "def counting_sort(collection):\n",
    "    '''\n",
    "    s1: create a counting_arr\n",
    "    s2: counting each number in collection \n",
    "    s3: subsum the counting_arr\n",
    "    s3: place each number in its respect position\n",
    "    '''    \n",
    "    col_len = len(collection)\n",
    "    col_max = max(collection)\n",
    "    col_min = min(collection)\n",
    "    \n",
    "    counting_arr_len = col_max - col_min + 1\n",
    "    counting_arr = [0] * counting_arr_len\n",
    "    \n",
    "    for number in collection:\n",
    "        counting_arr[number - col_min] += 1\n",
    "    \n",
    "    for i in range(1,counting_arr_len):\n",
    "        counting_arr[i] = counting_arr[i] + counting_arr[i-1]\n",
    "    \n",
    "    ordered = [0] * col_len\n",
    "    for i in reversed(range(0,col_len)):\n",
    "        ordered[counting_arr[collection[i]-col_min] -1] = collection[i]\n",
    "        counting_arr[(collection[i]-col_min)] -=1\n",
    "    return ordered"
   ]
  },
  {
   "cell_type": "code",
   "execution_count": 48,
   "metadata": {},
   "outputs": [
    {
     "data": {
      "text/plain": [
       "[1, 2, 2, 3, 3, 4, 4, 5]"
      ]
     },
     "execution_count": 48,
     "metadata": {},
     "output_type": "execute_result"
    }
   ],
   "source": [
    "coll = [2,3,1,4,4,2,3,5]\n",
    "ans = counting_sort(coll)\n",
    "ans"
   ]
  },
  {
   "cell_type": "markdown",
   "metadata": {},
   "source": [
    "## Bubble Sort"
   ]
  },
  {
   "cell_type": "code",
   "execution_count": 51,
   "metadata": {},
   "outputs": [],
   "source": [
    "def bubble_sort(collection):\n",
    "    '''\n",
    "    \n",
    "    '''\n",
    "    swapped = False\n",
    "    col_len = len(collection)\n",
    "    for i in range(col_len-1):\n",
    "        for j in range(col_len-1-i):\n",
    "            if collection[j] > collection[j+1]:\n",
    "                collection[j],collection[j+1] = collection[j+1], collection[j]\n",
    "                swapped = True\n",
    "        if not swapped:\n",
    "            break\n",
    "    return collection\n",
    "    "
   ]
  },
  {
   "cell_type": "code",
   "execution_count": 52,
   "metadata": {},
   "outputs": [
    {
     "data": {
      "text/plain": [
       "[1, 2, 2, 3, 3, 4, 4, 5]"
      ]
     },
     "execution_count": 52,
     "metadata": {},
     "output_type": "execute_result"
    }
   ],
   "source": [
    "coll = [2,3,1,4,4,2,3,5]\n",
    "ans = bubble_sort(coll)\n",
    "ans"
   ]
  },
  {
   "cell_type": "markdown",
   "metadata": {},
   "source": [
    "## Merge Sort\n",
    "\n",
    "- 1. split //2\n",
    "- 2. merge_sort on left and right recusively\n",
    "- 3. merge the reulst into one list\n",
    "- 4. add the remain list."
   ]
  },
  {
   "cell_type": "code",
   "execution_count": 15,
   "metadata": {},
   "outputs": [],
   "source": [
    "def mergeSort(arr):\n",
    "#base case if the input array is one or zero just return.\n",
    "    if len(arr) > 1:\n",
    "# splitting input array\n",
    "        print('splitting ', arr )\n",
    "        mid = len(arr)//2\n",
    "        left = arr[:mid]\n",
    "        right = arr[mid:]\n",
    "#recursive calls to mergeSort for left and right sub arrays\n",
    "        mergeSort(left)\n",
    "        mergeSort(right)\n",
    "#initalizes pointers for left (i) right (j) and output array(k)\n",
    "# 3 initalization operations\n",
    "        i = j = k = 0\n",
    "#Traverse and merges the sorted arrays\n",
    "        while i <len(left) and j<len(right):\n",
    "# if left < right comparison operation\n",
    "            if left[i] < right[j]:\n",
    "# if left < right Assignment operation\n",
    "                arr[k]=left[i]\n",
    "                i=i+1\n",
    "            else:\n",
    "#if right <= left assignment\n",
    "                arr[k]= right[j]\n",
    "                j=j+1\n",
    "            k=k+1\n",
    "        \n",
    "        \n",
    "        # for the remains list        \n",
    "        while i<len(left):\n",
    "#Assignment operation\n",
    "            arr[k]=left[i]\n",
    "            i=i+1\n",
    "            k=k+1\n",
    "        \n",
    "        while j<len(right):\n",
    "#Assignment operation\n",
    "            arr[k]=right[j]\n",
    "            j=j+1\n",
    "            k=k+1\n",
    "    print('merging ', arr)\n",
    "    return(arr)\n",
    "    "
   ]
  },
  {
   "cell_type": "code",
   "execution_count": 25,
   "metadata": {},
   "outputs": [],
   "source": [
    "def merge_sort(arr):\n",
    "    def merge(left,right):\n",
    "        result = []\n",
    "        while left and right:\n",
    "            result.append((left if left[0] <= right[0] else right).pop(0))\n",
    "        \n",
    "        print(f\"results = {result}, l = {left}, r = {right}\")\n",
    "        # add the remain list,\n",
    "        return result + left + right\n",
    "    \n",
    "    if len(arr) <=1:\n",
    "        return arr\n",
    "    \n",
    "    mid = len(arr) // 2\n",
    "    \n",
    "    return merge(merge_sort(arr[:mid]),merge_sort(arr[mid:]))"
   ]
  },
  {
   "cell_type": "code",
   "execution_count": 27,
   "metadata": {},
   "outputs": [
    {
     "name": "stdout",
     "output_type": "stream",
     "text": [
      "results = [1], l = [], r = [2]\n",
      "results = [3], l = [4], r = []\n",
      "results = [1, 2], l = [], r = [3, 4]\n",
      "results = [5], l = [], r = [9]\n",
      "results = [7], l = [], r = [8]\n",
      "results = [6], l = [], r = [7, 8]\n",
      "results = [5, 6, 7, 8], l = [9], r = []\n",
      "results = [1, 2, 3, 4], l = [], r = [5, 6, 7, 8, 9]\n"
     ]
    },
    {
     "data": {
      "text/plain": [
       "[1, 2, 3, 4, 5, 6, 7, 8, 9]"
      ]
     },
     "execution_count": 27,
     "metadata": {},
     "output_type": "execute_result"
    }
   ],
   "source": [
    "arr = [1,2,4,3,5,9,6,7,8]\n",
    "ans = merge_sort(arr)\n",
    "ans"
   ]
  },
  {
   "cell_type": "markdown",
   "metadata": {},
   "source": [
    "## Easy"
   ]
  },
  {
   "cell_type": "markdown",
   "metadata": {},
   "source": [
    "### Mark and Toys"
   ]
  },
  {
   "cell_type": "code",
   "execution_count": 20,
   "metadata": {},
   "outputs": [],
   "source": [
    "def maximumToys(prices, k):\n",
    "    prices.sort()\n",
    "    sum = 0\n",
    "    for i,price in enumerate(prices):\n",
    "        sum += price\n",
    "        if sum > k:\n",
    "            return i\n",
    "        elif sum == k:\n",
    "            return i+1\n",
    "    return 0"
   ]
  },
  {
   "cell_type": "code",
   "execution_count": 22,
   "metadata": {},
   "outputs": [
    {
     "data": {
      "text/plain": [
       "4"
      ]
     },
     "execution_count": 22,
     "metadata": {},
     "output_type": "execute_result"
    }
   ],
   "source": [
    "prices = [1, 12, 5, 111, 200, 1000, 10]\n",
    "#prices = [20,20,20]\n",
    "k = 50\n",
    "ans = maximumToys(prices,k)\n",
    "ans"
   ]
  },
  {
   "cell_type": "code",
   "execution_count": null,
   "metadata": {},
   "outputs": [],
   "source": []
  },
  {
   "cell_type": "code",
   "execution_count": null,
   "metadata": {},
   "outputs": [],
   "source": []
  },
  {
   "cell_type": "markdown",
   "metadata": {},
   "source": [
    "### H Sorting: Bubble Sort"
   ]
  },
  {
   "cell_type": "code",
   "execution_count": 1,
   "metadata": {},
   "outputs": [],
   "source": [
    "def countSwaps(a):\n",
    "    \n",
    "    length = len(a)\n",
    "    count = 0\n",
    "    swapped = False\n",
    "    \n",
    "    for i in range(length - 1):\n",
    "        for j in range(length - 1 -i):\n",
    "            if a[j] > a[j+1]:\n",
    "                a[j], a[j+1] = a[j+1], a[j]\n",
    "                swapped = True\n",
    "                count += 1\n",
    "        print(a)\n",
    "        if not swapped:\n",
    "            break\n",
    "    \n",
    "    print('\\n'.join([\n",
    "    f'Array is sorted in {count} swaps.',\n",
    "    f'First Element: {a[0]}',\n",
    "    f'Last Element: {a[-1]}'\n",
    "    ]))\n",
    "    \n",
    "    return"
   ]
  },
  {
   "cell_type": "code",
   "execution_count": 2,
   "metadata": {},
   "outputs": [
    {
     "name": "stdout",
     "output_type": "stream",
     "text": [
      "[3, 2, 4, 1, 5]\n",
      "[2, 3, 1, 4, 5]\n",
      "[2, 1, 3, 4, 5]\n",
      "[1, 2, 3, 4, 5]\n",
      "Array is sorted in 8 swaps.\n",
      "First Element: 1\n",
      "Last Element: 5\n"
     ]
    }
   ],
   "source": [
    "a = [5,3,2,4,1]\n",
    "ans = countSwaps(a)\n",
    "ans"
   ]
  },
  {
   "cell_type": "markdown",
   "metadata": {},
   "source": [
    "## Medium"
   ]
  },
  {
   "cell_type": "markdown",
   "metadata": {},
   "source": [
    "### Fraudulent Activity Notifications"
   ]
  },
  {
   "cell_type": "code",
   "execution_count": 65,
   "metadata": {},
   "outputs": [],
   "source": [
    "\n",
    "#from numpy import median # No numpy in HR\n",
    "\n",
    "# M1 time out\n",
    "# def med(s):\n",
    "#     n = len(s)\n",
    "#     s.sort()\n",
    "#     return (sum(s[n//2-1:n//2+1])/2.0, s[n//2])[n % 2]\n",
    "\n",
    "# def activityNotifications(expenditure, d):\n",
    "    \n",
    "#     cnt = 0\n",
    "#     lenth = len(expenditure)\n",
    "#     for i in range(d,lenth):\n",
    "#         m = med(expenditure[i-d:i])\n",
    "#         if expenditure[i] >= 2 * m:\n",
    "#             cnt +=1\n",
    "        \n",
    "#     return cnt\n",
    "\n",
    "N = 201 # max-min+1\n",
    "\n",
    "def counting(collection):\n",
    "    ct_arr = [0] * N\n",
    "    for num in collection:\n",
    "        ct_arr[num] += 1    #ct_arr is sparse\n",
    "    return ct_arr\n",
    "\n",
    "def get_doubled_median(d,counts):\n",
    "    mid = d // 2 + d % 2\n",
    "    cnt = 0\n",
    "    i = 0\n",
    "    \n",
    "    while cnt+counts[i] < mid:\n",
    "        cnt += counts[i]\n",
    "        i +=1\n",
    "    \n",
    "    if d % 2 == 1:\n",
    "        return 2*i\n",
    "    \n",
    "    j=i # # maybe like 3,_,_,7, so i =3, j = 7\n",
    "    while cnt + counts[j] < mid + 1:\n",
    "        cnt += counts[j]\n",
    "        j += 1\n",
    "    \n",
    "    return i+j\n",
    "    \n",
    "    \n",
    "\n",
    "def activityNotifications(expenditure, d):\n",
    "    notif = 0\n",
    "    \n",
    "    # initialy start from the first d nums\n",
    "    counts = counting(expenditure[:d])\n",
    "    \n",
    "    # different with i in range(d,length),here i start from 0.\n",
    "    for i, ex in enumerate(expenditure[d:]):\n",
    "        if ex >= get_doubled_median(d,counts):\n",
    "            notif += 1\n",
    "        \n",
    "        counts[ex] += 1\n",
    "        \n",
    "        # delete the d-1 element, so keep the couting length == d\n",
    "        counts[expenditure[i]] -= 1\n",
    "    return notif"
   ]
  },
  {
   "cell_type": "code",
   "execution_count": 66,
   "metadata": {},
   "outputs": [
    {
     "data": {
      "text/plain": [
       "2"
      ]
     },
     "execution_count": 66,
     "metadata": {},
     "output_type": "execute_result"
    }
   ],
   "source": [
    "expen = [2, 3, 4, 2, 3, 6, 8, 4, 5]\n",
    "d = 5\n",
    "# expen = [1,2, 3, 4, 4]\n",
    "# d = 4\n",
    "ans = activityNotifications(expen,d)\n",
    "ans"
   ]
  },
  {
   "cell_type": "markdown",
   "metadata": {},
   "source": [
    "### H Comparator"
   ]
  },
  {
   "cell_type": "code",
   "execution_count": 11,
   "metadata": {},
   "outputs": [
    {
     "name": "stdout",
     "output_type": "stream",
     "text": [
      "5\n",
      "amy 100\n",
      "david 100\n",
      "heraldo 50\n",
      "aakansha 75\n",
      "aleksa 150\n",
      "aleksa 150\n",
      "amy 100\n",
      "david 100\n",
      "aakansha 75\n",
      "heraldo 50\n"
     ]
    }
   ],
   "source": [
    "from functools import cmp_to_key\n",
    "\n",
    "class Player:\n",
    "    def __init__(self, name, score):\n",
    "        self.name = name\n",
    "        self.score = score\n",
    "    def __repr__(self):\n",
    "        return f'{self.name} {self.score}'\n",
    "    def comparator(self, other):\n",
    "        if other.score == self.score:\n",
    "            return 1 if other.name < self.name else -1\n",
    "        return other.score - self.score        \n",
    "        \n",
    "n = int(input())\n",
    "data = []\n",
    "for i in range(n):\n",
    "    name, score = input().split()\n",
    "    score = int(score)\n",
    "    player = Player(name, score)\n",
    "    data.append(player)\n",
    "    \n",
    "data = sorted(data, key=cmp_to_key(Player.comparator))\n",
    "for i in data:\n",
    "    print(i.name, i.score)"
   ]
  },
  {
   "cell_type": "markdown",
   "metadata": {},
   "source": [
    "## Hard"
   ]
  },
  {
   "cell_type": "code",
   "execution_count": null,
   "metadata": {},
   "outputs": [],
   "source": []
  },
  {
   "cell_type": "markdown",
   "metadata": {},
   "source": [
    "### [ ] Merge Sort: Counting Inversions\n"
   ]
  },
  {
   "cell_type": "code",
   "execution_count": 69,
   "metadata": {},
   "outputs": [],
   "source": [
    "# M1 bubble sort: out of time limit\n",
    "# def countInversions(arr):\n",
    "#     length = len(arr)\n",
    "#     cnt = 0\n",
    "#     swapped = False\n",
    "#     for i in range(length-1):\n",
    "#         for j in range(length-i-1):\n",
    "#             if arr[j] > arr[j+1]:\n",
    "#                 arr[j], arr[j+1] = arr[j+1], arr[j]\n",
    "#                 cnt +=1\n",
    "#                 swapped = True\n",
    "#         if not swapped:\n",
    "#             break\n",
    "#     return cnt\n",
    "\n",
    "def countInversions(arr):"
   ]
  },
  {
   "cell_type": "code",
   "execution_count": 70,
   "metadata": {},
   "outputs": [
    {
     "data": {
      "text/plain": [
       "4"
      ]
     },
     "execution_count": 70,
     "metadata": {},
     "output_type": "execute_result"
    }
   ],
   "source": [
    "n1 = [1,1,1,2,2]\n",
    "n2 = [2,1,3,1,2]\n",
    "ans = countInversions(n2)\n",
    "ans"
   ]
  },
  {
   "cell_type": "markdown",
   "metadata": {},
   "source": [
    "# Searching\n",
    "- for searching problem, you need find the lower and upper limit first."
   ]
  },
  {
   "cell_type": "markdown",
   "metadata": {},
   "source": [
    "## Medium"
   ]
  },
  {
   "cell_type": "markdown",
   "metadata": {},
   "source": [
    "### Minimum Time Required\n",
    "- two pointers, binary search"
   ]
  },
  {
   "cell_type": "code",
   "execution_count": 69,
   "metadata": {},
   "outputs": [],
   "source": [
    "def count(machines,days):\n",
    "    return sum(map(lambda x:days // x, machines))\n",
    "\n",
    "def minTime(machines, goal):\n",
    "    \n",
    "    # key step: find the search limit\n",
    "    lower = 0\n",
    "    upper = goal * min(machines)\n",
    "    \n",
    "    while lower < upper:\n",
    "        middle = (lower + upper) // 2\n",
    "        if count(machines,middle) >= goal:\n",
    "            upper = middle\n",
    "        else:\n",
    "            lower = middle + 1\n",
    "    \n",
    "    return lower\n",
    "    "
   ]
  },
  {
   "cell_type": "code",
   "execution_count": 70,
   "metadata": {},
   "outputs": [
    {
     "data": {
      "text/plain": [
       "7"
      ]
     },
     "execution_count": 70,
     "metadata": {},
     "output_type": "execute_result"
    }
   ],
   "source": [
    "goal = 10\n",
    "machines = [1,3,4]\n",
    "ans = minTime(machines,goal)\n",
    "ans"
   ]
  },
  {
   "cell_type": "code",
   "execution_count": 71,
   "metadata": {},
   "outputs": [
    {
     "data": {
      "text/plain": [
       "1"
      ]
     },
     "execution_count": 71,
     "metadata": {},
     "output_type": "execute_result"
    }
   ],
   "source": [
    "5 // 4"
   ]
  },
  {
   "cell_type": "markdown",
   "metadata": {},
   "source": [
    "### Pairs\n",
    "- two pointers"
   ]
  },
  {
   "cell_type": "code",
   "execution_count": 65,
   "metadata": {},
   "outputs": [],
   "source": [
    "# out of time limit\n",
    "# def pairs(k, arr):\n",
    "    \n",
    "#     arr.sort()\n",
    "#     count = 0\n",
    "#     for i, num in enumerate(arr):\n",
    "#         if num + k in arr:\n",
    "#             count += 1\n",
    "#     return count\n",
    "\n",
    "\n",
    "# M2: two pointers\n",
    "# def pairs(k,arr):\n",
    "#     arr.sort()\n",
    "#     n = len(arr)\n",
    "    \n",
    "#     count = 0\n",
    "    \n",
    "#     i = 0\n",
    "#     j = 1\n",
    "#     while j < n:\n",
    "#         diff = arr[j] - arr[i]\n",
    "#         if diff == k:\n",
    "#             count +=1\n",
    "#             j += 1\n",
    "#         elif diff < k:\n",
    "#             j +=1\n",
    "#         elif diff > k:\n",
    "#             i += 1\n",
    "    \n",
    "#     return count\n",
    "\n",
    "from bisect import bisect_left\n",
    "\n",
    "def pairs(k, arr):\n",
    "    \n",
    "    arr.sort()\n",
    "    n = len(arr)\n",
    "    \n",
    "    count = 0\n",
    "    for i in range(n):\n",
    "        x = arr[i] + k\n",
    "        position = bisect_left(arr,x,i+1)\n",
    "        if position < n and arr[position] == x:\n",
    "            count += 1\n",
    "    \n",
    "    return count"
   ]
  },
  {
   "cell_type": "code",
   "execution_count": 66,
   "metadata": {},
   "outputs": [
    {
     "data": {
      "text/plain": [
       "3"
      ]
     },
     "execution_count": 66,
     "metadata": {},
     "output_type": "execute_result"
    }
   ],
   "source": [
    "k = 2\n",
    "arr = [1,5,3,4,2]\n",
    "ans = pairs(k,arr)\n",
    "ans"
   ]
  },
  {
   "cell_type": "code",
   "execution_count": null,
   "metadata": {},
   "outputs": [],
   "source": []
  },
  {
   "cell_type": "markdown",
   "metadata": {},
   "source": [
    "### [ ] Swap Nodes [Algo]"
   ]
  },
  {
   "cell_type": "code",
   "execution_count": 21,
   "metadata": {},
   "outputs": [],
   "source": [
    "def swapNodes(indexes, queries):\n",
    "    #\n",
    "    # Write your code here.\n",
    "    #\n",
    "    pass"
   ]
  },
  {
   "cell_type": "code",
   "execution_count": null,
   "metadata": {},
   "outputs": [],
   "source": [
    "#t = BinarySearchTree()"
   ]
  },
  {
   "cell_type": "code",
   "execution_count": null,
   "metadata": {},
   "outputs": [],
   "source": [
    "indexes = [(-1, 4),(-1, 5),(-1, -1),(-1, -1)]\n",
    "queries = [2]"
   ]
  },
  {
   "cell_type": "markdown",
   "metadata": {},
   "source": [
    "### Hash Tables: Ice Cream Parlor"
   ]
  },
  {
   "cell_type": "code",
   "execution_count": 19,
   "metadata": {},
   "outputs": [],
   "source": [
    "def whatFlavors(cost, money):\n",
    "    \n",
    "    cost_dict = {}\n",
    "    for idx,c in enumerate(cost):\n",
    "        if money-c in cost_dict:\n",
    "            print(f'{cost_dict[money-c]} {idx+1}')\n",
    "            return\n",
    "        else:\n",
    "            cost_dict[c] = idx+1"
   ]
  },
  {
   "cell_type": "code",
   "execution_count": 20,
   "metadata": {},
   "outputs": [
    {
     "name": "stdout",
     "output_type": "stream",
     "text": [
      "1 5\n"
     ]
    }
   ],
   "source": [
    "money = 3\n",
    "cost = [1,4,5,3,2]\n",
    "ans = whatFlavors(cost,money)\n",
    "ans"
   ]
  },
  {
   "cell_type": "code",
   "execution_count": 3,
   "metadata": {},
   "outputs": [
    {
     "data": {
      "text/plain": [
       "False"
      ]
     },
     "execution_count": 3,
     "metadata": {},
     "output_type": "execute_result"
    }
   ],
   "source": [
    "td = {1:2,4:5}\n",
    "2 in td"
   ]
  },
  {
   "cell_type": "markdown",
   "metadata": {},
   "source": [
    "### Triple Sum"
   ]
  },
  {
   "cell_type": "code",
   "execution_count": 40,
   "metadata": {},
   "outputs": [],
   "source": [
    "def triplets(a, b, c):\n",
    "    a = list(sorted(set(a)))\n",
    "    b = list(sorted(set(b)))\n",
    "    c = list(sorted(set(c)))\n",
    "    \n",
    "    ai = bi = ci = 0\n",
    "    ans = 0\n",
    "    \n",
    "    while bi < len(b):\n",
    "        while ai < len(a) and a[ai] <= b[bi]:\n",
    "            ai += 1\n",
    "        \n",
    "        while ci < len(c) and c[ci] <= b[bi]:\n",
    "            ci += 1\n",
    "        \n",
    "        ans += ai*ci\n",
    "        bi +=1\n",
    "    \n",
    "    return ans"
   ]
  },
  {
   "cell_type": "code",
   "execution_count": 41,
   "metadata": {},
   "outputs": [
    {
     "data": {
      "text/plain": [
       "5"
      ]
     },
     "execution_count": 41,
     "metadata": {},
     "output_type": "execute_result"
    }
   ],
   "source": [
    "a = [1,4,5]\n",
    "b = [2,3,3]\n",
    "c = [1,2,3]\n",
    "\n",
    "ans = triplets(a,b,c)\n",
    "ans"
   ]
  },
  {
   "cell_type": "markdown",
   "metadata": {},
   "source": [
    "### Binary Search"
   ]
  },
  {
   "cell_type": "markdown",
   "metadata": {},
   "source": [
    "# Graph"
   ]
  },
  {
   "cell_type": "markdown",
   "metadata": {},
   "source": [
    "## Easy"
   ]
  },
  {
   "cell_type": "markdown",
   "metadata": {},
   "source": [
    "### BFS"
   ]
  },
  {
   "cell_type": "code",
   "execution_count": 28,
   "metadata": {},
   "outputs": [
    {
     "name": "stdout",
     "output_type": "stream",
     "text": [
      "{'A', 'F', 'B', 'E', 'C', 'D'}\n"
     ]
    }
   ],
   "source": [
    "G = {\n",
    "    \"A\": [\"B\", \"C\"],\n",
    "    \"B\": [\"A\", \"D\", \"E\"],\n",
    "    \"C\": [\"A\", \"F\"],\n",
    "    \"D\": [\"B\"],\n",
    "    \"E\": [\"B\", \"F\"],\n",
    "    \"F\": [\"C\", \"E\"],\n",
    "}\n",
    "\n",
    "\n",
    "def bfs(graph, start):\n",
    "    \"\"\"\n",
    "    >>> ''.join(sorted(bfs(G, 'A')))\n",
    "    'ABCDEF'\n",
    "    \"\"\"\n",
    "    explored, queue = set(), [start]  # collections.deque([start])\n",
    "    explored.add(start)\n",
    "    while queue:\n",
    "        v = queue.pop(0)  # queue.popleft()\n",
    "        for w in graph[v]:\n",
    "            if w not in explored:\n",
    "                explored.add(w)\n",
    "                queue.append(w)\n",
    "    return explored\n",
    "\n",
    "\n",
    "if __name__ == \"__main__\":\n",
    "    print(bfs(G, \"A\"))"
   ]
  },
  {
   "cell_type": "code",
   "execution_count": null,
   "metadata": {},
   "outputs": [],
   "source": []
  },
  {
   "cell_type": "markdown",
   "metadata": {},
   "source": [
    "# Recursion and Backtracking"
   ]
  },
  {
   "cell_type": "markdown",
   "metadata": {},
   "source": [
    "## Easy"
   ]
  },
  {
   "cell_type": "markdown",
   "metadata": {},
   "source": [
    "### Recursion: Fibonacci Numbers"
   ]
  },
  {
   "cell_type": "code",
   "execution_count": 5,
   "metadata": {},
   "outputs": [],
   "source": [
    "def fibonacci(n):\n",
    "    \n",
    "    if n == 0:\n",
    "        return 0\n",
    "    \n",
    "    if n == 1:\n",
    "        return 1\n",
    "    \n",
    "    ans = fibonacci(n-1) + fibonacci(n-2)\n",
    "    return ans"
   ]
  },
  {
   "cell_type": "code",
   "execution_count": 6,
   "metadata": {},
   "outputs": [
    {
     "data": {
      "text/plain": [
       "5"
      ]
     },
     "execution_count": 6,
     "metadata": {},
     "output_type": "execute_result"
    }
   ],
   "source": [
    "n = 5\n",
    "ans = fibonacci(n)\n",
    "ans"
   ]
  },
  {
   "cell_type": "markdown",
   "metadata": {},
   "source": [
    "## Medium"
   ]
  },
  {
   "cell_type": "markdown",
   "metadata": {},
   "source": [
    "## Crossword Puzzle"
   ]
  },
  {
   "cell_type": "code",
   "execution_count": null,
   "metadata": {},
   "outputs": [],
   "source": [
    "def crosswordPuzzle(crossword, words):\n",
    "    "
   ]
  },
  {
   "cell_type": "code",
   "execution_count": null,
   "metadata": {},
   "outputs": [],
   "source": []
  },
  {
   "cell_type": "markdown",
   "metadata": {},
   "source": [
    "## Recursive Digit Sum"
   ]
  },
  {
   "cell_type": "code",
   "execution_count": 37,
   "metadata": {},
   "outputs": [],
   "source": [
    "def superDigit(n, k):\n",
    "    \n",
    "#     n = sum(map(int,str(n))) * k\n",
    "#     def super_digit(n):\n",
    "#         while n > 9:\n",
    "#             n = sum(map(int,str(n)))\n",
    "#         return n\n",
    "        \n",
    "        \n",
    "#     return super_digit(n)\n",
    "\n",
    "    x = n * k % 9\n",
    "    return x if x else 9\n",
    "    "
   ]
  },
  {
   "cell_type": "code",
   "execution_count": 38,
   "metadata": {},
   "outputs": [
    {
     "data": {
      "text/plain": [
       "8"
      ]
     },
     "execution_count": 38,
     "metadata": {},
     "output_type": "execute_result"
    }
   ],
   "source": [
    "n = 9875\n",
    "k = 4\n",
    "ans = superDigit(n,k)\n",
    "ans"
   ]
  },
  {
   "cell_type": "code",
   "execution_count": 27,
   "metadata": {},
   "outputs": [
    {
     "data": {
      "text/plain": [
       "6"
      ]
     },
     "execution_count": 27,
     "metadata": {},
     "output_type": "execute_result"
    }
   ],
   "source": [
    "digit = list(int(x) for x in str(n))\n",
    "digit2 = map(int,str(n))\n",
    "sum(digit2)"
   ]
  },
  {
   "cell_type": "markdown",
   "metadata": {},
   "source": [
    "### Recursion: Davis' Staircase\n",
    "- DP"
   ]
  },
  {
   "cell_type": "code",
   "execution_count": 13,
   "metadata": {},
   "outputs": [],
   "source": [
    "def stepPerms(n):\n",
    "    \n",
    "    dp = [0] * max(3, n)\n",
    "    dp[0] = 1\n",
    "    dp[1] = 2\n",
    "    dp[2] = 4\n",
    "    \n",
    "    for i in range(3,n):\n",
    "        dp[i] = dp[i-1] + dp[i-2]+dp[i-3]\n",
    "    \n",
    "    return dp[n-1] % (10000000007)\n",
    "    \n",
    "    "
   ]
  },
  {
   "cell_type": "code",
   "execution_count": 14,
   "metadata": {},
   "outputs": [
    {
     "data": {
      "text/plain": [
       "13"
      ]
     },
     "execution_count": 14,
     "metadata": {},
     "output_type": "execute_result"
    }
   ],
   "source": [
    "n = 5\n",
    "ans = stepPerms(5)\n",
    "ans"
   ]
  },
  {
   "cell_type": "markdown",
   "metadata": {},
   "source": [
    "# HackerRack_30Days\n",
    "\n",
    "> https://www.hackerrank.com/challenges/30-data-types/problem\n"
   ]
  },
  {
   "cell_type": "markdown",
   "metadata": {},
   "source": [
    "## Day1"
   ]
  },
  {
   "cell_type": "code",
   "execution_count": 1,
   "metadata": {},
   "outputs": [
    {
     "name": "stdout",
     "output_type": "stream",
     "text": [
      "5\n",
      "5\n",
      "5\n",
      "9\n",
      "9.0\n",
      "HackerRank 5\n"
     ]
    }
   ],
   "source": [
    "i = 4\n",
    "d = 4.0\n",
    "s = 'HackerRank '\n",
    "# Declare second integer, double, and String variables.\n",
    "i_1 = int(input())\n",
    "d_1 = float(input())\n",
    "s_1 = input()\n",
    "\n",
    "# Read and save an integer, double, and String to your variables.\n",
    "\n",
    "# Print the sum of both integer variables on a new line.\n",
    "print(i+i_1)\n",
    "# Print the sum of the double variables on a new line.\n",
    "print(d+d_1)\n",
    "# Concatenate and print the String variables on a new line\n",
    "# The 's' variable above should be printed first.\n",
    "print(s+s_1)"
   ]
  },
  {
   "cell_type": "markdown",
   "metadata": {},
   "source": [
    "## Day2"
   ]
  },
  {
   "cell_type": "code",
   "execution_count": 4,
   "metadata": {},
   "outputs": [
    {
     "name": "stdout",
     "output_type": "stream",
     "text": [
      "12\n",
      "20\n",
      "8\n",
      "15\n"
     ]
    }
   ],
   "source": [
    "import math\n",
    "import os\n",
    "import random\n",
    "import re\n",
    "import sys\n",
    "\n",
    "# Complete the solve function below.\n",
    "def solve(meal_cost, tip_percent, tax_percent):\n",
    "    total = round(meal_cost * (100+tip_percent+tax_percent)/100)\n",
    "    print(total)\n",
    "    \n",
    "if __name__ == '__main__':\n",
    "    meal_cost = float(input())\n",
    "\n",
    "    tip_percent = int(input())\n",
    "\n",
    "    tax_percent = int(input())\n",
    "\n",
    "    solve(meal_cost, tip_percent, tax_percent)"
   ]
  },
  {
   "cell_type": "markdown",
   "metadata": {},
   "source": [
    "## Day3\n",
    "\n",
    "Given an integer N, perform the following conditional actions:\n",
    "\n",
    "If N is odd, print Weird\n",
    "If N is even and in the inclusive range of  to , print Not Weird\n",
    "If N is even and in the inclusive range of  to , print Weird\n",
    "If N is even and greater than , print Not Weird\n",
    "Complete the stub code provided in your editor to print whether or not  is weird."
   ]
  },
  {
   "cell_type": "code",
   "execution_count": 6,
   "metadata": {},
   "outputs": [
    {
     "name": "stdout",
     "output_type": "stream",
     "text": [
      "5\n",
      "Weird\n"
     ]
    }
   ],
   "source": [
    "if __name__ == '__main__':\n",
    "    N = int(input())\n",
    "    s1 = 'Weird'\n",
    "    s2 = 'Not Weird'\n",
    "    if N % 2 == 1:\n",
    "        print(s1)\n",
    "    elif N >= 2 and N<=5:\n",
    "        print(s2)\n",
    "    elif N >=6 and N<=20:\n",
    "        print(s1)\n",
    "    elif N > 20:\n",
    "        print(s2)"
   ]
  },
  {
   "cell_type": "markdown",
   "metadata": {},
   "source": [
    "## Day4"
   ]
  },
  {
   "cell_type": "code",
   "execution_count": 2,
   "metadata": {},
   "outputs": [
    {
     "name": "stdout",
     "output_type": "stream",
     "text": [
      "3\n",
      "7\n",
      "You are young.\n",
      "You are young.\n",
      "\n",
      "20\n",
      "Your are old.\n",
      "Your are old.\n",
      "\n",
      "20\n",
      "Your are old.\n",
      "Your are old.\n",
      "\n"
     ]
    }
   ],
   "source": [
    "class Person:\n",
    "    def __init__(self,initialAge):\n",
    "        # Add some more code to run some checks on initialAge\n",
    "        self.age = initialAge\n",
    "        if self.age < 0:\n",
    "            print('Age is not valid, setting age to 0.')\n",
    "            self.age = 0\n",
    "            \n",
    "    def amIOld(self):\n",
    "        # Do some computations in here and print out the correct statement to the console\n",
    "        if self.age < 13:\n",
    "            print('You are young.')\n",
    "        elif self.age >=13 and self.age < 18:\n",
    "            print('You are a teenager.')\n",
    "        else:\n",
    "            print('You are old.')\n",
    "    def yearPasses(self):\n",
    "        # Increment the age of the person in here\n",
    "        self.age +=1\n",
    "\n",
    "\n",
    "t = int(input())\n",
    "for i in range(0, t):\n",
    "    age = int(input())         \n",
    "    p = Person(age)  \n",
    "    p.amIOld()\n",
    "    for j in range(0, 3):\n",
    "        p.yearPasses()       \n",
    "    p.amIOld()\n",
    "    print(\"\")"
   ]
  },
  {
   "cell_type": "markdown",
   "metadata": {},
   "source": [
    "## Day5"
   ]
  },
  {
   "cell_type": "code",
   "execution_count": 3,
   "metadata": {},
   "outputs": [
    {
     "name": "stdout",
     "output_type": "stream",
     "text": [
      "2\n",
      "2 x 1 = 2\n",
      "2 x 2 = 4\n",
      "2 x 3 = 6\n",
      "2 x 4 = 8\n",
      "2 x 5 = 10\n",
      "2 x 6 = 12\n",
      "2 x 7 = 14\n",
      "2 x 8 = 16\n",
      "2 x 9 = 18\n",
      "2 x 10 = 20\n"
     ]
    }
   ],
   "source": [
    "if __name__ == '__main__':\n",
    "    n = int(input())\n",
    "    for i in range(1,11):\n",
    "        print('{} x {} = {}'.format(n,i,n*i))\n",
    "    "
   ]
  },
  {
   "cell_type": "markdown",
   "metadata": {},
   "source": [
    "## Day6"
   ]
  },
  {
   "cell_type": "code",
   "execution_count": 8,
   "metadata": {},
   "outputs": [
    {
     "name": "stdout",
     "output_type": "stream",
     "text": [
      "2\n",
      "hacker\n",
      "hce akr\n",
      "zhao\n",
      "za ho\n"
     ]
    }
   ],
   "source": [
    "def string_devide(ss):\n",
    "    s1 = ss[::2]\n",
    "    s2 = ss[1::2]\n",
    "    print(s1,s2)\n",
    "\n",
    "if __name__ == '__main__':\n",
    "    t = int(input())\n",
    "    for i in range(0,t):\n",
    "        ss = input()\n",
    "        string_devide(ss)\n",
    "        "
   ]
  },
  {
   "cell_type": "markdown",
   "metadata": {},
   "source": [
    "## Day7"
   ]
  },
  {
   "cell_type": "code",
   "execution_count": 17,
   "metadata": {},
   "outputs": [
    {
     "name": "stdout",
     "output_type": "stream",
     "text": [
      "aa\n"
     ]
    },
    {
     "ename": "ValueError",
     "evalue": "invalid literal for int() with base 10: 'aa'",
     "output_type": "error",
     "traceback": [
      "\u001b[1;31m---------------------------------------------------------------------------\u001b[0m",
      "\u001b[1;31mValueError\u001b[0m                                Traceback (most recent call last)",
      "\u001b[1;32m<ipython-input-17-a5f260cfd704>\u001b[0m in \u001b[0;36m<module>\u001b[1;34m()\u001b[0m\n\u001b[0;32m      1\u001b[0m \u001b[1;32mif\u001b[0m \u001b[0m__name__\u001b[0m \u001b[1;33m==\u001b[0m \u001b[1;34m'__main__'\u001b[0m\u001b[1;33m:\u001b[0m\u001b[1;33m\u001b[0m\u001b[0m\n\u001b[1;32m----> 2\u001b[1;33m     \u001b[0mt\u001b[0m \u001b[1;33m=\u001b[0m \u001b[0mint\u001b[0m\u001b[1;33m(\u001b[0m\u001b[0minput\u001b[0m\u001b[1;33m(\u001b[0m\u001b[1;33m)\u001b[0m\u001b[1;33m)\u001b[0m\u001b[1;33m\u001b[0m\u001b[0m\n\u001b[0m\u001b[0;32m      3\u001b[0m     \u001b[0mtele_dict\u001b[0m\u001b[1;33m=\u001b[0m\u001b[1;33m{\u001b[0m\u001b[1;33m}\u001b[0m\u001b[1;33m\u001b[0m\u001b[0m\n\u001b[0;32m      4\u001b[0m     \u001b[1;32mfor\u001b[0m \u001b[0mi\u001b[0m \u001b[1;32min\u001b[0m \u001b[0mrange\u001b[0m\u001b[1;33m(\u001b[0m\u001b[1;36m0\u001b[0m\u001b[1;33m,\u001b[0m\u001b[1;36m2\u001b[0m\u001b[1;33m*\u001b[0m\u001b[0mt\u001b[0m\u001b[1;33m)\u001b[0m\u001b[1;33m:\u001b[0m\u001b[1;33m\u001b[0m\u001b[0m\n\u001b[0;32m      5\u001b[0m         \u001b[0mss\u001b[0m \u001b[1;33m=\u001b[0m \u001b[0minput\u001b[0m\u001b[1;33m(\u001b[0m\u001b[1;33m)\u001b[0m\u001b[1;33m\u001b[0m\u001b[0m\n",
      "\u001b[1;31mValueError\u001b[0m: invalid literal for int() with base 10: 'aa'"
     ]
    }
   ],
   "source": [
    "if __name__ == '__main__':\n",
    "    t = int(input())\n",
    "    tele_dict={}\n",
    "    for i in range(0,2*t):\n",
    "        ss = input()\n",
    "        s_split = ss.split()\n",
    "        s1 = s_split[0]\n",
    "        if len(s_split) > 1:\n",
    "            tele_dict[s1] = s_split[1]\n",
    "        else:\n",
    "            if s1 in tele_dict:\n",
    "                print('{}={}'.format(s1,tele_dict[s1]))\n",
    "            else:\n",
    "                print('Not found')\n",
    "         "
   ]
  },
  {
   "cell_type": "code",
   "execution_count": 10,
   "metadata": {},
   "outputs": [
    {
     "data": {
      "text/plain": [
       "['sam', '123']"
      ]
     },
     "execution_count": 10,
     "metadata": {},
     "output_type": "execute_result"
    }
   ],
   "source": [
    "ss= \"sam 123\"\n",
    "ss.split()"
   ]
  },
  {
   "cell_type": "code",
   "execution_count": 13,
   "metadata": {},
   "outputs": [
    {
     "data": {
      "text/plain": [
       "{'a': 1, 'b': 2, 'c': 3}"
      ]
     },
     "execution_count": 13,
     "metadata": {},
     "output_type": "execute_result"
    }
   ],
   "source": [
    "dd = {'a':1,'b':2}\n",
    "dd['c'] = 3\n",
    "dd"
   ]
  },
  {
   "cell_type": "markdown",
   "metadata": {},
   "source": [
    "## Day8"
   ]
  },
  {
   "cell_type": "code",
   "execution_count": 21,
   "metadata": {},
   "outputs": [
    {
     "name": "stdout",
     "output_type": "stream",
     "text": [
      "3\n",
      "1 4 5\n",
      "5 4 1 "
     ]
    }
   ],
   "source": [
    "if __name__ == '__main__':\n",
    "    n = int(input())\n",
    "\n",
    "    arr = list(map(int, input().rstrip().split()))\n",
    "    for i in range(len(arr)-1,-1,-1):\n",
    "        print(arr[i],end=' ')"
   ]
  },
  {
   "cell_type": "markdown",
   "metadata": {},
   "source": [
    "## Day9"
   ]
  },
  {
   "cell_type": "code",
   "execution_count": 22,
   "metadata": {},
   "outputs": [
    {
     "ename": "NameError",
     "evalue": "name 'os' is not defined",
     "output_type": "error",
     "traceback": [
      "\u001b[1;31m---------------------------------------------------------------------------\u001b[0m",
      "\u001b[1;31mNameError\u001b[0m                                 Traceback (most recent call last)",
      "\u001b[1;32m<ipython-input-22-78bd32aa34ae>\u001b[0m in \u001b[0;36m<module>\u001b[1;34m()\u001b[0m\n\u001b[0;32m      7\u001b[0m \u001b[1;33m\u001b[0m\u001b[0m\n\u001b[0;32m      8\u001b[0m \u001b[1;32mif\u001b[0m \u001b[0m__name__\u001b[0m \u001b[1;33m==\u001b[0m \u001b[1;34m'__main__'\u001b[0m\u001b[1;33m:\u001b[0m\u001b[1;33m\u001b[0m\u001b[0m\n\u001b[1;32m----> 9\u001b[1;33m     \u001b[0mfptr\u001b[0m \u001b[1;33m=\u001b[0m \u001b[0mopen\u001b[0m\u001b[1;33m(\u001b[0m\u001b[0mos\u001b[0m\u001b[1;33m.\u001b[0m\u001b[0menviron\u001b[0m\u001b[1;33m[\u001b[0m\u001b[1;34m'OUTPUT_PATH'\u001b[0m\u001b[1;33m]\u001b[0m\u001b[1;33m,\u001b[0m \u001b[1;34m'w'\u001b[0m\u001b[1;33m)\u001b[0m\u001b[1;33m\u001b[0m\u001b[0m\n\u001b[0m\u001b[0;32m     10\u001b[0m \u001b[1;33m\u001b[0m\u001b[0m\n\u001b[0;32m     11\u001b[0m     \u001b[0mn\u001b[0m \u001b[1;33m=\u001b[0m \u001b[0mint\u001b[0m\u001b[1;33m(\u001b[0m\u001b[0minput\u001b[0m\u001b[1;33m(\u001b[0m\u001b[1;33m)\u001b[0m\u001b[1;33m)\u001b[0m\u001b[1;33m\u001b[0m\u001b[0m\n",
      "\u001b[1;31mNameError\u001b[0m: name 'os' is not defined"
     ]
    }
   ],
   "source": [
    "def factorial(n):\n",
    "    if n == 1:\n",
    "        ans = 1\n",
    "    else:\n",
    "        ans = n * factorial(n-1)\n",
    "    return ans\n",
    "    \n",
    "if __name__ == '__main__':\n",
    "    fptr = open(os.environ['OUTPUT_PATH'], 'w')\n",
    "\n",
    "    n = int(input())\n",
    "\n",
    "    result = factorial(n)\n",
    "\n",
    "    fptr.write(str(result) + '\\n')\n",
    "\n",
    "    fptr.close()"
   ]
  },
  {
   "cell_type": "markdown",
   "metadata": {},
   "source": [
    "## Day10"
   ]
  },
  {
   "cell_type": "code",
   "execution_count": 59,
   "metadata": {},
   "outputs": [
    {
     "name": "stdout",
     "output_type": "stream",
     "text": [
      "3\n",
      "2\n"
     ]
    }
   ],
   "source": [
    "def cons_ones(lis):\n",
    "    lenth = len(lis)\n",
    "    maxlen,tmplen = 0,0\n",
    "    for i in range(lenth):\n",
    "        if lis[i] == '1':\n",
    "            tmplen +=1\n",
    "        else:\n",
    "            if tmplen >= maxlen:\n",
    "                maxlen = tmplen\n",
    "            tmplen = 0\n",
    "#print(tmplen,maxlen)\n",
    "                \n",
    "    # if the maxsub if until the end\n",
    "    if tmplen > maxlen:\n",
    "        maxlen = tmplen\n",
    "    return maxlen   \n",
    "\n",
    "\n",
    "if __name__ == '__main__':\n",
    "    n = int(input())\n",
    "    bi_num =  list(bin(n)[2:])\n",
    "    print(cons_ones(bi_num))"
   ]
  },
  {
   "cell_type": "markdown",
   "metadata": {},
   "source": [
    "## Day11"
   ]
  },
  {
   "cell_type": "markdown",
   "metadata": {},
   "source": [
    "1 1 1 0 0 0\n",
    "0 1 0 0 0 0\n",
    "1 1 1 0 0 0\n",
    "0 0 2 4 4 0\n",
    "0 0 0 2 0 0\n",
    "0 0 1 2 4 0"
   ]
  },
  {
   "cell_type": "code",
   "execution_count": 53,
   "metadata": {},
   "outputs": [
    {
     "name": "stdout",
     "output_type": "stream",
     "text": [
      "1 1 1 0 0 0\n",
      "0 1 0 0 0 0\n",
      "1 1 1 0 0 0\n",
      "0 0 2 4 4 0\n",
      "0 0 0 2 0 0\n",
      "0 0 1 2 4 0\n",
      "19\n"
     ]
    }
   ],
   "source": [
    "if __name__ == '__main__':\n",
    "    arr = []\n",
    "\n",
    "    for _ in range(6):\n",
    "        arr.append(list(map(int, input().rstrip().split())))\n",
    "\n",
    "    maxsum= -100\n",
    "    lenth = len(arr)\n",
    "    for i in range(1,lenth-1):\n",
    "        for j in range(1,lenth-1):\n",
    "            tmpsum = -100\n",
    "            tmpsum = (arr[i-1][j-1]+arr[i-1][j]+arr[i-1][j+1]+arr[i][j]+arr[i+1][j-1]+arr[i+1][j]+arr[i+1][j+1])\n",
    "            if tmpsum > maxsum:\n",
    "                maxsum = tmpsum\n",
    "    print(maxsum)"
   ]
  },
  {
   "cell_type": "code",
   "execution_count": 54,
   "metadata": {},
   "outputs": [
    {
     "name": "stdout",
     "output_type": "stream",
     "text": [
      "19\n"
     ]
    }
   ],
   "source": [
    "arra = [[1, 1, 1, 0, 0, 0], [0, 1, 0, 0, 0, 0], [1, 1, 1, 0, 0, 0], [0, 0, 2, 4, 4, 0], [0, 0, 0, 2, 0, 0], [0, 0, 1, 2, 4, 0]]\n",
    "arr= arra\n",
    "maxsum= -100\n",
    "lenth = len(arr)\n",
    "for i in range(1,lenth-1):\n",
    "    for j in range(1,lenth-1):\n",
    "        tmpsum = 0\n",
    "        tmpsum = (arr[i-1][j-1]+arr[i-1][j]+arr[i-1][j+1]+arr[i][j]+\n",
    "                     arr[i+1][j-1]+arr[i+1][j]+arr[i+1][j+1])\n",
    "        if tmpsum > maxsum:\n",
    "            maxsum = tmpsum\n",
    "print(maxsum)"
   ]
  },
  {
   "cell_type": "markdown",
   "metadata": {},
   "source": [
    "## Day12 inherit"
   ]
  },
  {
   "cell_type": "code",
   "execution_count": 83,
   "metadata": {},
   "outputs": [
    {
     "name": "stdout",
     "output_type": "stream",
     "text": [
      "Aakansha Doshi 7825621\n",
      "31 32 34 35\n",
      "Name: Doshi, Aakansha\n",
      "ID: 7825621\n",
      "Grade: None\n"
     ]
    }
   ],
   "source": [
    "class Person:\n",
    "    def __init__(self, firstName, lastName, idNumber):\n",
    "        self.firstName = firstName\n",
    "        self.lastName = lastName\n",
    "        self.idNumber = idNumber\n",
    "    def printPerson(self):\n",
    "        print(\"Name:\", self.lastName + \",\", self.firstName)\n",
    "        print(\"ID:\", self.idNumber)\n",
    "\n",
    "class Student(Person):\n",
    "    #   Class Constructor\n",
    "    #   \n",
    "    #   Parameters:\n",
    "    #   firstName - A string denoting the Person's first name.\n",
    "    #   lastName - A string denoting the Person's last name.\n",
    "    #   id - An integer denoting the Person's ID number.\n",
    "    #   scores - An array of integers denoting the Person's test scores.\n",
    "    #\n",
    "    # Write your constructor here\n",
    "    def __init__(self,firstName, lastName, idNumber,scores):\n",
    "        Person.__init__(self, firstName, lastName, idNumber)\n",
    "        self.scores = scores\n",
    "\n",
    "    #   Function Name: calculate\n",
    "    #   Return: A character denoting the grade.\n",
    "    #\n",
    "    # Write your function here\n",
    "    def calculate(self):\n",
    "        mean = round(sum(scores)// len(scores))\n",
    "        if mean >= 90 and mean <100:\n",
    "            return ('O')\n",
    "        elif mean >=80 and mean <90:\n",
    "            return ('E')\n",
    "        elif mean >=70 and mean <80:\n",
    "            return ('A')\n",
    "        elif mean >=55 and mean <70:\n",
    "            return ('P')\n",
    "        elif mean >=40 and mean <55:\n",
    "            return ('D')\n",
    "        elif mean >=40 and mean <50:\n",
    "            return ('T')\n",
    "            \n",
    "        \n",
    "line = input().split()\n",
    "firstName = line[0]\n",
    "lastName = line[1]\n",
    "idNum = line[2]\n",
    "#numScores = int(input()) # not needed for Python\n",
    "scores = list( map(int, input().split()) )\n",
    "s = Student(firstName, lastName, idNum, scores)\n",
    "s.printPerson()\n",
    "print(\"Grade:\", s.calculate())"
   ]
  },
  {
   "cell_type": "code",
   "execution_count": null,
   "metadata": {},
   "outputs": [],
   "source": [
    "Heraldo Memelli 8135627\n",
    "2\n",
    "100 80"
   ]
  },
  {
   "cell_type": "code",
   "execution_count": null,
   "metadata": {},
   "outputs": [],
   "source": [
    "Aakansha Doshi 7825621\n",
    "4\n",
    "31 32 34 35"
   ]
  },
  {
   "cell_type": "markdown",
   "metadata": {},
   "source": [
    "## Day 13. Abstract Classes"
   ]
  },
  {
   "cell_type": "code",
   "execution_count": 3,
   "metadata": {},
   "outputs": [
    {
     "name": "stdout",
     "output_type": "stream",
     "text": [
      "ss\n",
      "ss\n",
      "12\n",
      "Title: ss\n",
      "Author: ss\n",
      "Price: 12\n"
     ]
    }
   ],
   "source": [
    "from abc import ABCMeta, abstractmethod\n",
    "class Book(object, metaclass=ABCMeta):\n",
    "    def __init__(self,title,author):\n",
    "        self.title=title\n",
    "        self.author=author   \n",
    "    @abstractmethod\n",
    "    def display(): pass\n",
    "\n",
    "#Write MyBook class\n",
    "\n",
    "class MyBook(Book):\n",
    "    def __init__(self,title, author, price):\n",
    "        Book.__init__(self,title,author)\n",
    "        self.price = price\n",
    "    \n",
    "    def display(self):\n",
    "        print(\"Title: {}\".format(self.title))\n",
    "        print(\"Author: {}\".format(self.author))\n",
    "        print(\"Price: {}\".format(self.price))\n",
    "\n",
    "title=input()\n",
    "author=input()\n",
    "price=int(input())\n",
    "new_novel=MyBook(title,author,price)\n",
    "new_novel.display()"
   ]
  },
  {
   "cell_type": "markdown",
   "metadata": {},
   "source": [
    "## Day 14"
   ]
  },
  {
   "cell_type": "code",
   "execution_count": 6,
   "metadata": {},
   "outputs": [],
   "source": [
    "class Difference:\n",
    "    def __init__(self, a):\n",
    "        self.__elements = a\n",
    "        self.maxmimumDifference = None\n",
    "\n",
    "\t# Add your code here\n",
    "    def computeDifference(self):\n",
    "        self.maxmimumDifference  = max(self.__elements) - min(self.__elements)\n",
    "\n",
    "# End of Difference class"
   ]
  },
  {
   "cell_type": "code",
   "execution_count": 5,
   "metadata": {},
   "outputs": [
    {
     "data": {
      "text/plain": [
       "5"
      ]
     },
     "execution_count": 5,
     "metadata": {},
     "output_type": "execute_result"
    }
   ],
   "source": [
    "a = [1,2,4,5]\n",
    "max(a)"
   ]
  },
  {
   "cell_type": "markdown",
   "metadata": {},
   "source": [
    "## Day15"
   ]
  },
  {
   "cell_type": "code",
   "execution_count": 15,
   "metadata": {},
   "outputs": [
    {
     "name": "stdout",
     "output_type": "stream",
     "text": [
      "2\n",
      "3\n",
      "4\n",
      "3 4 "
     ]
    }
   ],
   "source": [
    "class Node:\n",
    "    def __init__(self,data):\n",
    "        self.data = data\n",
    "        self.next = None \n",
    "class Solution: \n",
    "    def display(self,head):\n",
    "        current = head\n",
    "        while current:\n",
    "            print(current.data,end=' ')\n",
    "            current = current.next\n",
    "\n",
    "    def insert(self,head,data): \n",
    "    #Complete this method\n",
    "    \n",
    "        node = Node(data)\n",
    "        if head:            \n",
    "            current = head\n",
    "            while current.next:\n",
    "                current = current.next\n",
    "            current.next = node\n",
    "        else:\n",
    "            head = node   \n",
    "        return head \n",
    "    \n",
    "mylist= Solution()\n",
    "T=int(input())\n",
    "head=None\n",
    "for i in range(T):\n",
    "    data=int(input())\n",
    "    head=mylist.insert(head,data)\n",
    "    #print(head)\n",
    "mylist.display(head); "
   ]
  },
  {
   "cell_type": "markdown",
   "metadata": {},
   "source": [
    "## Day 16 Exception"
   ]
  },
  {
   "cell_type": "code",
   "execution_count": 2,
   "metadata": {},
   "outputs": [
    {
     "name": "stdout",
     "output_type": "stream",
     "text": [
      "3\n",
      "3\n"
     ]
    }
   ],
   "source": [
    "#!/bin/python3\n",
    "\n",
    "import sys\n",
    "\n",
    "\n",
    "S = input().strip()\n",
    "\n",
    "try:\n",
    "    output = int(S)\n",
    "    print(output)\n",
    "except:\n",
    "    print(\"Bad String\")"
   ]
  },
  {
   "cell_type": "markdown",
   "metadata": {},
   "source": [
    "## Day 17: More Exceptions"
   ]
  },
  {
   "cell_type": "code",
   "execution_count": 5,
   "metadata": {},
   "outputs": [
    {
     "name": "stdout",
     "output_type": "stream",
     "text": [
      "2\n",
      "2 3\n",
      "8\n",
      "3 -1\n",
      "n and p should be non-negative\n"
     ]
    }
   ],
   "source": [
    "#Write your code here\n",
    "\n",
    "class Calculator:\n",
    "    def power(self,n,p):\n",
    "        \n",
    "        if n < 0 or p < 0:\n",
    "            raise Exception('n and p should be non-negative')  \n",
    "            \n",
    "            # return\n",
    "            #No you don't. The return statement is unreachable.\n",
    "            #Also, static-analysis tools, such as pyflakes will report that as an error.\n",
    "        else:\n",
    "            ans = n **p\n",
    "            return ans\n",
    "   \n",
    "        \n",
    "\n",
    "myCalculator=Calculator()\n",
    "T=int(input())\n",
    "for i in range(T):\n",
    "    n,p = map(int, input().split())\n",
    "    try:\n",
    "        ans=myCalculator.power(n,p)\n",
    "        print(ans)\n",
    "    except Exception as e:\n",
    "        print(e)   "
   ]
  },
  {
   "cell_type": "markdown",
   "metadata": {},
   "source": [
    "## Day 18: Queues and Stacks"
   ]
  },
  {
   "cell_type": "code",
   "execution_count": 10,
   "metadata": {},
   "outputs": [
    {
     "name": "stdout",
     "output_type": "stream",
     "text": [
      "abcbc\n",
      "The word, abcbc, is not a palindrome.\n"
     ]
    }
   ],
   "source": [
    "import sys\n",
    "\n",
    "class Solution:\n",
    "    # Write your code here\n",
    "\n",
    "    def __init__(self):\n",
    "        self.stack = []\n",
    "        self.queue = []\n",
    "        \n",
    "    def pushCharacter(self,ch):\n",
    "        self.stack.append(ch)\n",
    "    \n",
    "    def popCharacter(self):\n",
    "        ch = self.stack.pop()\n",
    "        return ch\n",
    "    \n",
    "    def enqueueCharacter(self,ch):\n",
    "        self.queue.append(ch)\n",
    "        \n",
    "    def dequeueCharacter(self):\n",
    "        ch = self.queue.pop(0)\n",
    "        return ch\n",
    "    \n",
    "# read the string s\n",
    "s=input()\n",
    "#Create the Solution class object\n",
    "obj=Solution()   \n",
    "\n",
    "l=len(s)\n",
    "# push/enqueue all the characters of string s to stack\n",
    "for i in range(l):\n",
    "    obj.pushCharacter(s[i])\n",
    "    obj.enqueueCharacter(s[i])\n",
    "    \n",
    "isPalindrome=True\n",
    "'''\n",
    "pop the top character from stack\n",
    "dequeue the first character from queue\n",
    "compare both the characters\n",
    "''' \n",
    "for i in range(l // 2):\n",
    "    if obj.popCharacter()!=obj.dequeueCharacter():\n",
    "        isPalindrome=False\n",
    "        break\n",
    "#finally print whether string s is palindrome or not.\n",
    "if isPalindrome:\n",
    "    print(\"The word, \"+s+\", is a palindrome.\")\n",
    "else:\n",
    "    print(\"The word, \"+s+\", is not a palindrome.\")    "
   ]
  },
  {
   "cell_type": "markdown",
   "metadata": {},
   "source": [
    "## Day 19: Interfaces"
   ]
  },
  {
   "cell_type": "code",
   "execution_count": 13,
   "metadata": {},
   "outputs": [
    {
     "name": "stdout",
     "output_type": "stream",
     "text": [
      "6\n",
      "I implemented: AdvancedArithmetic\n",
      "12\n"
     ]
    }
   ],
   "source": [
    "class AdvancedArithmetic(object):\n",
    "    def divisorSum(n):\n",
    "        raise NotImplementedError\n",
    "\n",
    "class Calculator(AdvancedArithmetic):\n",
    "    def divisorSum(self, n):\n",
    "        \n",
    "        divisor_list = []\n",
    "        for i in range(1,n+1):\n",
    "            if n%i == 0:\n",
    "                divisor_list.append(i)\n",
    "        return sum(divisor_list)        \n",
    "\n",
    "n = int(input())\n",
    "my_calculator = Calculator()\n",
    "s = my_calculator.divisorSum(n)\n",
    "print(\"I implemented: \" + type(my_calculator).__bases__[0].__name__)\n",
    "print(s)"
   ]
  },
  {
   "cell_type": "markdown",
   "metadata": {},
   "source": [
    "## Day 20: Sorting"
   ]
  },
  {
   "cell_type": "code",
   "execution_count": 21,
   "metadata": {},
   "outputs": [
    {
     "name": "stdout",
     "output_type": "stream",
     "text": [
      "5\n",
      "5 3 2 4 1\n",
      "Array is sorted in 8 swaps.\n",
      "First Element: 1\n",
      "Last Element: 5\n"
     ]
    }
   ],
   "source": [
    "#!/bin/python3\n",
    "\n",
    "import sys\n",
    "\n",
    "n = int(input().strip())\n",
    "a = list(map(int, input().strip().split(' ')))\n",
    "# Write Your Code Here\n",
    "\n",
    "\n",
    "# Array is sorted in numSwaps swaps.\n",
    "# where  is the number of swaps that took place.\n",
    "# First Element: firstElement\n",
    "# where  is the first element in the sorted array.\n",
    "# Last Element: lastElement\n",
    "# where  is the last element in the sorted array.\n",
    "\n",
    "\n",
    "def bubbleSort(a):\n",
    "    \n",
    "    numSwaps = 0\n",
    "    for passnum in range(len(a)-1,0,-1):\n",
    "        for i in range(passnum):\n",
    "            if a[i] > a[i+1]:\n",
    "                a[i],a[i+1] = a[i+1],a[i]\n",
    "                numSwaps += 1\n",
    "    print(\"Array is sorted in {} swaps.\".format(numSwaps))\n",
    "    print(\"First Element: {}\".format(a[0]))\n",
    "    print(\"Last Element: {}\".format(a[-1]))\n",
    "\n",
    "if __name__ == '__main__':\n",
    "    bubbleSort(a)\n",
    "        "
   ]
  },
  {
   "cell_type": "code",
   "execution_count": 15,
   "metadata": {},
   "outputs": [
    {
     "data": {
      "text/plain": [
       "[4, 3, 2, 1]"
      ]
     },
     "execution_count": 15,
     "metadata": {},
     "output_type": "execute_result"
    }
   ],
   "source": [
    "list(range(5-1,0,-1))"
   ]
  },
  {
   "cell_type": "markdown",
   "metadata": {},
   "source": [
    "## Day 21: Generics"
   ]
  },
  {
   "cell_type": "code",
   "execution_count": null,
   "metadata": {},
   "outputs": [],
   "source": [
    "#include <iostream>\n",
    "#include <vector>\n",
    "#include <string>\n",
    "\n",
    "using namespace std;\n",
    "\n",
    "/**\n",
    "*    Name: printArray\n",
    "*    Print each element of the generic vector on a new line. Do not return anything.\n",
    "*    @param A generic vector\n",
    "**/\n",
    "\n",
    "// Write your code here\n",
    "\n",
    "int main() {\n",
    "\tint n;\n",
    "\t\n",
    "\tcin >> n;\n",
    "\tvector<int> int_vector(n);\n",
    "\tfor (int i = 0; i < n; i++) {\n",
    "\t\tint value;\n",
    "\t\tcin >> value;\n",
    "\t\tint_vector[i] = value;\n",
    "\t}\n",
    "\t\n",
    "\tcin >> n;\n",
    "\tvector<string> string_vector(n);\n",
    "\tfor (int i = 0; i < n; i++) {\n",
    "\t\tstring value;\n",
    "\t\tcin >> value;\n",
    "\t\tstring_vector[i] = value;\n",
    "\t}\n",
    "\n",
    "\tprintArray<int>(int_vector);\n",
    "\tprintArray<string>(string_vector);\n",
    "\n",
    "\treturn 0;\n",
    "}"
   ]
  },
  {
   "cell_type": "markdown",
   "metadata": {},
   "source": [
    "## Day 22: Binary Search Trees\n",
    "- The depth of a node is the number of edges from the node to the tree's root node"
   ]
  },
  {
   "cell_type": "code",
   "execution_count": 31,
   "metadata": {},
   "outputs": [
    {
     "name": "stdout",
     "output_type": "stream",
     "text": [
      "5\n",
      "4\n",
      "2\n",
      "3\n",
      "1\n",
      "5\n",
      "2\n"
     ]
    }
   ],
   "source": [
    "class Node:\n",
    "    def __init__(self,data):\n",
    "        self.right=self.left=None\n",
    "        self.data = data\n",
    "class Solution:\n",
    "    def insert(self,root,data):\n",
    "        if root==None:\n",
    "            return Node(data)\n",
    "        else:\n",
    "            if data<=root.data:\n",
    "                cur=self.insert(root.left,data)\n",
    "                root.left=cur\n",
    "            else:\n",
    "                cur=self.insert(root.right,data)\n",
    "                root.right=cur\n",
    "        return root\n",
    "\n",
    "    def getHeight(self,root):\n",
    "        \n",
    "        if root is None:\n",
    "            return -1\n",
    "        else:\n",
    "            lDepth = self.getHeight(root.left)\n",
    "            rDepth = self.getHeight(root.right)\n",
    "            \n",
    "            if lDepth > rDepth:\n",
    "                return lDepth + 1\n",
    "            else:\n",
    "                return rDepth + 1\n",
    "        \n",
    "        \n",
    "\n",
    "T=int(input())\n",
    "myTree=Solution()\n",
    "root=None\n",
    "for i in range(T):\n",
    "    data=int(input())\n",
    "    root=myTree.insert(root,data)\n",
    "height=myTree.getHeight(root)\n",
    "print(height)       "
   ]
  },
  {
   "cell_type": "markdown",
   "metadata": {},
   "source": [
    "## Day 23: BST Level-Order Traversal"
   ]
  },
  {
   "cell_type": "code",
   "execution_count": 50,
   "metadata": {},
   "outputs": [
    {
     "name": "stdout",
     "output_type": "stream",
     "text": [
      "5\n",
      "1\n",
      "2\n",
      "3\n",
      "4\n",
      "5\n",
      "1 2 3 4 5 "
     ]
    }
   ],
   "source": [
    "import sys\n",
    "\n",
    "class Node:\n",
    "    def __init__(self,data):\n",
    "        self.right=self.left=None\n",
    "        self.data = data\n",
    "class Solution:\n",
    "    def insert(self,root,data):\n",
    "        if root==None:\n",
    "            return Node(data)\n",
    "        else:\n",
    "            if data<=root.data:\n",
    "                cur=self.insert(root.left,data)\n",
    "                root.left=cur\n",
    "            else:\n",
    "                cur=self.insert(root.right,data)\n",
    "                root.right=cur\n",
    "        return root\n",
    "\n",
    "#     def levelOrder(self,root):\n",
    "#         #Write your code here\n",
    "        \n",
    "#         ans = []\n",
    "#         if root == None:\n",
    "#             return []\n",
    "#         else:\n",
    "\n",
    "# Function to  print level order traversal of tree \n",
    "\n",
    "\n",
    "    def getHeight(self,root):        \n",
    "        if root is None:\n",
    "            return -1\n",
    "        else:\n",
    "            lDepth = self.getHeight(root.left)\n",
    "            rDepth = self.getHeight(root.right)\n",
    "            \n",
    "            if lDepth > rDepth:\n",
    "                return lDepth + 1\n",
    "            else:\n",
    "                return rDepth + 1\n",
    "\n",
    "            \n",
    "\n",
    "            #\n",
    "#     def levelOrder(self,root): \n",
    "#         h = self.getHeight(root)\n",
    "#         #print(\"height: {}\".format(h))\n",
    "#         for i in range(0, h+1): \n",
    "#             self.printGivenLevel(root, i) \n",
    "\n",
    "\n",
    "#     # Print nodes at a given level \n",
    "#     def printGivenLevel(self, root , level): \n",
    "#         if root is None: \n",
    "#             return\n",
    "#         if level == 0: \n",
    "#             print(root.data，end = \" \")\n",
    "            \n",
    "#         elif level > 0: \n",
    "#             self.printGivenLevel(root.left , level-1) \n",
    "#             self.printGivenLevel(root.right , level-1)             \n",
    "            \n",
    "    def levelOrder(self,root):\n",
    "        if root is None:\n",
    "            return\n",
    "\n",
    "        queue = []\n",
    "        queue.append(root)\n",
    "        while(len(queue) > 0):\n",
    "            print(queue[0].data,end=' ')\n",
    "            node = queue.pop(0)\n",
    "\n",
    "            if node.left:\n",
    "                queue.append(node.left)\n",
    "\n",
    "            if node.right:\n",
    "                queue.append(node.right)\n",
    "                \n",
    "        \n",
    "        \n",
    "T=int(input())\n",
    "myTree=Solution()\n",
    "root=None\n",
    "for i in range(T):\n",
    "    data=int(input())\n",
    "    root=myTree.insert(root,data)\n",
    "myTree.levelOrder(root)\n"
   ]
  },
  {
   "cell_type": "markdown",
   "metadata": {},
   "source": [
    "## Day 24: More Linked Lists"
   ]
  },
  {
   "cell_type": "code",
   "execution_count": 53,
   "metadata": {},
   "outputs": [
    {
     "name": "stdout",
     "output_type": "stream",
     "text": [
      "5\n",
      "1\n",
      "2\n",
      "2\n",
      "3\n",
      "3\n",
      "1 2 3 "
     ]
    }
   ],
   "source": [
    "class Node:\n",
    "    def __init__(self,data):\n",
    "        self.data = data\n",
    "        self.next = None \n",
    "\n",
    "class Solution: \n",
    "    def insert(self,head,data):\n",
    "            p = Node(data)           \n",
    "            if head==None:\n",
    "                head=p\n",
    "            elif head.next==None:\n",
    "                head.next=p\n",
    "            else:\n",
    "                start=head\n",
    "                while(start.next!=None):\n",
    "                    start=start.next\n",
    "                start.next=p\n",
    "            return head  \n",
    "    def display(self,head):\n",
    "        current = head\n",
    "        while current:\n",
    "            print(current.data,end=' ')\n",
    "            current = current.next\n",
    "\n",
    "    def removeDuplicates(self,head):\n",
    "        #Write your code here\n",
    "        if head is None:\n",
    "            return\n",
    "        \n",
    "        current = head\n",
    "        while current.next:\n",
    "            if current.next.data == current.data:\n",
    "                self.delNextNode(current)\n",
    "            else:\n",
    "                current = current.next\n",
    "        return head\n",
    "    \n",
    "    def delNextNode(self,Node):\n",
    "        if Node is None:\n",
    "            return\n",
    "        \n",
    "        secondNode = Node.next\n",
    "        thirdNode = secondNode.next\n",
    "        Node.next = thirdNode\n",
    "\n",
    "        \n",
    "        \n",
    "mylist= Solution()\n",
    "T=int(input())\n",
    "head=None\n",
    "for i in range(T):\n",
    "    data=int(input())\n",
    "    head=mylist.insert(head,data)    \n",
    "head=mylist.removeDuplicates(head)\n",
    "mylist.display(head); "
   ]
  },
  {
   "cell_type": "markdown",
   "metadata": {},
   "source": [
    "## Day 25: Running Time and Complexity"
   ]
  },
  {
   "cell_type": "code",
   "execution_count": 5,
   "metadata": {},
   "outputs": [
    {
     "name": "stdout",
     "output_type": "stream",
     "text": [
      "3\n",
      "12\n",
      "5\n",
      "3\n",
      "Not Prime\n",
      "Prime\n",
      "Prime\n",
      "\b\n"
     ]
    }
   ],
   "source": [
    "from math import sqrt\n",
    "def isPrime(num):\n",
    "    for i in range(2,int(sqrt(num)) + 1):                              \n",
    "        if num % i == 0:\n",
    "            return False\n",
    "    return True\n",
    "                        \n",
    "# Test\n",
    "T=int(input().strip())\n",
    "num = []\n",
    "for i in range(T):\n",
    "    num.append(int(input().strip()))\n",
    "\n",
    "for nu in num:\n",
    "    if isPrime(nu):\n",
    "        print('Prime')\n",
    "    else:\n",
    "        print('Not Prime')\n",
    "    \n",
    "# result = []        \n",
    "# for an in ans:\n",
    "#     if an:\n",
    "#         result.append('Prime')\n",
    "#     else:\n",
    "#         result.append('Not Prime')\n",
    "\n",
    "# for res in result:\n",
    "#     print(res)"
   ]
  },
  {
   "cell_type": "markdown",
   "metadata": {},
   "source": [
    "## Day 26: Nested Logic\n"
   ]
  },
  {
   "cell_type": "code",
   "execution_count": 7,
   "metadata": {},
   "outputs": [
    {
     "name": "stdout",
     "output_type": "stream",
     "text": [
      "3 4 5\n",
      "2 3 4\n",
      "397\n"
     ]
    }
   ],
   "source": [
    "\n",
    "# Tuple comparision\n",
    "rd, rm, ry = [int(x) for x in input().split(' ')]\n",
    "ed, em, ey = [int(x) for x in input().split(' ')]\n",
    "\n",
    "if (ry, rm, rd) <= (ey, em, ed):\n",
    "    print(0)\n",
    "elif (ry, rm) == (ey, em):\n",
    "    print(15 * (rd - ed))\n",
    "elif ry == ey:\n",
    "    print(500 * (rm - em))\n",
    "else:\n",
    "    print(10000)\n"
   ]
  },
  {
   "cell_type": "markdown",
   "metadata": {},
   "source": [
    "## Day 27: Testing"
   ]
  },
  {
   "cell_type": "code",
   "execution_count": 21,
   "metadata": {},
   "outputs": [
    {
     "name": "stdout",
     "output_type": "stream",
     "text": [
      "OK\n"
     ]
    }
   ],
   "source": [
    "import random\n",
    "\n",
    "def minimum_index(seq):\n",
    "    if len(seq) == 0:\n",
    "        raise ValueError(\"Cannot get the minimum value index from an empty sequence\")\n",
    "    min_idx = 0\n",
    "    for i in range(1, len(seq)):\n",
    "        if seq[i] < seq[min_idx]:\n",
    "            min_idx = i\n",
    "    return min_idx\n",
    "class TestDataEmptyArray(object):\n",
    "    \n",
    "    @staticmethod\n",
    "    def get_array():\n",
    "        # complete this function\n",
    "        return []\n",
    "\n",
    "class TestDataUniqueValues(object):\n",
    "\n",
    "    @staticmethod\n",
    "    def get_array():\n",
    "        # complete this function\n",
    "        return [2,3,1,4,5]  \n",
    "        \n",
    "    @staticmethod\n",
    "    def get_expected_result():\n",
    "        # complete this function\n",
    "        test_array = TestDataUniqueValues.get_array()\n",
    "        return test_array.index(min(test_array))\n",
    "        \n",
    "        \n",
    "class TestDataExactlyTwoDifferentMinimums(object):\n",
    "\n",
    "    @staticmethod\n",
    "    def get_array():\n",
    "        # complete this function\n",
    "        return [1,2,3,1,5]\n",
    "    \n",
    "    @staticmethod\n",
    "    def get_expected_result():\n",
    "        # complete this function\n",
    "        test_array = TestDataExactlyTwoDifferentMinimums.get_array()\n",
    "        return test_array.index(min(test_array))\n",
    "        \n",
    "def TestWithEmptyArray():\n",
    "    try:\n",
    "        seq = TestDataEmptyArray.get_array()\n",
    "        result = minimum_index(seq)\n",
    "    except ValueError as e:\n",
    "        pass\n",
    "    else:\n",
    "        assert False\n",
    "\n",
    "\n",
    "def TestWithUniqueValues():\n",
    "    seq = TestDataUniqueValues.get_array()\n",
    "    assert len(seq) >= 2\n",
    "\n",
    "    assert len(list(set(seq))) == len(seq)\n",
    "\n",
    "    expected_result = TestDataUniqueValues.get_expected_result()\n",
    "    result = minimum_index(seq)\n",
    "    assert result == expected_result\n",
    "\n",
    "\n",
    "def TestiWithExactyTwoDifferentMinimums():\n",
    "    seq = TestDataExactlyTwoDifferentMinimums.get_array()\n",
    "    assert len(seq) >= 2\n",
    "    tmp = sorted(seq)\n",
    "    assert tmp[0] == tmp[1] and (len(tmp) == 2 or tmp[1] < tmp[2])\n",
    "\n",
    "    expected_result = TestDataExactlyTwoDifferentMinimums.get_expected_result()\n",
    "    result = minimum_index(seq)\n",
    "    assert result == expected_result\n",
    "\n",
    "TestWithEmptyArray()\n",
    "TestWithUniqueValues()\n",
    "#TestiWithExactyTwoDifferentMinimums()\n",
    "print(\"OK\")\n",
    "\n"
   ]
  },
  {
   "cell_type": "markdown",
   "metadata": {},
   "source": [
    "## Day 28: RegEx, Patterns, and Intro to Databases"
   ]
  },
  {
   "cell_type": "code",
   "execution_count": 26,
   "metadata": {},
   "outputs": [
    {
     "name": "stdout",
     "output_type": "stream",
     "text": [
      "3\n",
      "riya riya@gmail.com\n",
      "julia julia@julia.me\n",
      "julia sjulia@gmail.com\n",
      "julia\n",
      "riya\n"
     ]
    }
   ],
   "source": [
    "import math\n",
    "import os\n",
    "import random\n",
    "import re\n",
    "import sys\n",
    "\n",
    "\n",
    "def parseEmail(fN,eI):\n",
    "    if eI.endswith('@gmail.com'):\n",
    "        return fN\n",
    "    \n",
    "\n",
    "\n",
    "if __name__ == '__main__':\n",
    "    N = int(input())\n",
    "    \n",
    "    ans = []\n",
    "    for N_itr in range(N):\n",
    "        firstNameEmailID = input().split()\n",
    "\n",
    "        firstName = firstNameEmailID[0]\n",
    "\n",
    "        emailID = firstNameEmailID[1]\n",
    "        \n",
    "        res = parseEmail(firstName,emailID)\n",
    "        if res:\n",
    "            ans.append(res)\n",
    "    ans.sort()\n",
    "    for name in ans:\n",
    "        print(name)"
   ]
  },
  {
   "cell_type": "markdown",
   "metadata": {},
   "source": [
    "## Day 29: Bitwise AND"
   ]
  },
  {
   "cell_type": "code",
   "execution_count": 41,
   "metadata": {},
   "outputs": [
    {
     "name": "stdout",
     "output_type": "stream",
     "text": [
      "2\n",
      "5 2\n",
      "8 5\n",
      "1\n",
      "4\n"
     ]
    }
   ],
   "source": [
    "import math\n",
    "import os\n",
    "import random\n",
    "import re\n",
    "import sys\n",
    "\n",
    "\n",
    "# Time out\n",
    "# if __name__ == '__main__':\n",
    "#     t = int(input())\n",
    "    \n",
    "#     ans = []\n",
    "#     for t_itr in range(t):\n",
    "#         nk = input().split()\n",
    "\n",
    "#         n = int(nk[0])\n",
    "\n",
    "#         k = int(nk[1])\n",
    "        \n",
    "#         s = list(range(1,n+1))\n",
    "        \n",
    "#         tmpAnd = maxAnd = 0\n",
    "#         for i in range(len(s)):\n",
    "#             for j in range(i+1,len(s)):\n",
    "#                 tmpAnd = s[i] & s[j]\n",
    "#                 #print(i,j,tmpAnd)\n",
    "#                 if tmpAnd < k and tmpAnd > maxAnd:\n",
    "#                     maxAnd = tmpAnd\n",
    "#         ans.append(maxAnd)\n",
    "    \n",
    "#     for a in ans:\n",
    "#         print(a)\n",
    "        \n",
    "if __name__ == '__main__':        \n",
    "    t = int(input())\n",
    "\n",
    "    for _ in range(t):\n",
    "        n , k = map(int , input().split())\n",
    "        print(k-1 if ((k-1) | k) <= n else k-2)        "
   ]
  },
  {
   "cell_type": "code",
   "execution_count": 33,
   "metadata": {},
   "outputs": [
    {
     "data": {
      "text/plain": [
       "0"
      ]
     },
     "execution_count": 33,
     "metadata": {},
     "output_type": "execute_result"
    }
   ],
   "source": [
    "1  & 6"
   ]
  },
  {
   "cell_type": "markdown",
   "metadata": {},
   "source": [
    "# Summary"
   ]
  },
  {
   "cell_type": "markdown",
   "metadata": {},
   "source": [
    "## anagrams\n",
    "- anagram: two string can be rearranged to form each other.\n",
    "- after sorted, they will be same."
   ]
  },
  {
   "cell_type": "code",
   "execution_count": null,
   "metadata": {},
   "outputs": [],
   "source": []
  }
 ],
 "metadata": {
  "kernelspec": {
   "display_name": "Python 3",
   "language": "python",
   "name": "python3"
  },
  "language_info": {
   "codemirror_mode": {
    "name": "ipython",
    "version": 3
   },
   "file_extension": ".py",
   "mimetype": "text/x-python",
   "name": "python",
   "nbconvert_exporter": "python",
   "pygments_lexer": "ipython3",
   "version": "3.7.3"
  },
  "toc": {
   "base_numbering": 1,
   "nav_menu": {},
   "number_sections": true,
   "sideBar": true,
   "skip_h1_title": false,
   "title_cell": "Table of Contents",
   "title_sidebar": "Contents",
   "toc_cell": false,
   "toc_position": {
    "height": "574px",
    "left": "23px",
    "top": "111px",
    "width": "363.2px"
   },
   "toc_section_display": true,
   "toc_window_display": true
  }
 },
 "nbformat": 4,
 "nbformat_minor": 2
}
