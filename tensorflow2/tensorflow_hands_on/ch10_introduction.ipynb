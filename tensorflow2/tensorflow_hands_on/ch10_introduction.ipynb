{
 "cells": [
  {
   "cell_type": "markdown",
   "metadata": {},
   "source": [
    "> 重新开始学习 另外一本书  Hands-on Machine Learning with Scikit-Learn, Keras, and TensorFlow 2020-5-23 15:00:19，上一本书很多内容没有讲清楚。\n",
    "\n",
    "- 总共有10章，一个周能学一章就不错。"
   ]
  },
  {
   "cell_type": "code",
   "execution_count": 1,
   "metadata": {},
   "outputs": [],
   "source": [
    "import numpy as np\n",
    "import pandas as pd\n",
    "import matplotlib.pyplot as plt\n",
    "import tensorflow as tf\n",
    "from tensorflow import keras"
   ]
  },
  {
   "cell_type": "code",
   "execution_count": 2,
   "metadata": {},
   "outputs": [
    {
     "data": {
      "text/plain": [
       "'2.1.0'"
      ]
     },
     "execution_count": 2,
     "metadata": {},
     "output_type": "execute_result"
    }
   ],
   "source": [
    "tf.__version__"
   ]
  },
  {
   "cell_type": "code",
   "execution_count": 3,
   "metadata": {},
   "outputs": [
    {
     "data": {
      "text/plain": [
       "'2.2.4-tf'"
      ]
     },
     "execution_count": 3,
     "metadata": {},
     "output_type": "execute_result"
    }
   ],
   "source": [
    "keras.__version__"
   ]
  },
  {
   "cell_type": "markdown",
   "metadata": {},
   "source": [
    "# introduction"
   ]
  },
  {
   "cell_type": "markdown",
   "metadata": {},
   "source": [
    "## The perception\n",
    "- TLU: Threshold logic unit / step funcion after a linear regression \n",
    "- A Perceptron is simply composed of a single layer of TLUs\n",
    "- serious weaknesses of Perceptrons—in particular, the fact that they are incapable of solving some trivial problems (e.g., the Exclusive OR (XOR) classification problem;\n",
    "- MLP: Multilayer Perception"
   ]
  },
  {
   "cell_type": "markdown",
   "metadata": {},
   "source": [
    "## The Multilayer Perceptron and Backpropagation\n",
    "\n",
    "- For many years researchers struggled to find a way to train MLPs,\n",
    "- backpropagation algorithm is able to compute the gradient of the network’s error with regard to every single model parameter.\n",
    "- It is important to initialize all the hidden layers’ connection weights randomly\n",
    "- activation function:\n",
    "    - tanh: hyperbolic tangent/ which often helps speed up convergence/ (-1,1) \n",
    "    - RelU: rectified linear unit, defaults/ fast  "
   ]
  },
  {
   "cell_type": "markdown",
   "metadata": {},
   "source": [
    "## Regression MLPs\n",
    "- multivariate regression"
   ]
  },
  {
   "cell_type": "markdown",
   "metadata": {},
   "source": [
    "## Classification MLPs\n",
    "- cross-entropy loss (also called the log loss, see Chapter 4) is generally a good choice"
   ]
  },
  {
   "cell_type": "markdown",
   "metadata": {},
   "source": [
    "### Activation Function\n",
    "\n",
    "- The softmax function (introduced in Chapter 4) will ensure that all the estimated probabilities are between 0 and 1 and that they add up to 1 (which is required if the classes are exclusive)."
   ]
  },
  {
   "cell_type": "markdown",
   "metadata": {},
   "source": [
    "## Implementing MLPs with Keras\n",
    "- create\n",
    "- compile\n",
    "- fit\n",
    "- evaluate\n",
    "- predict\n"
   ]
  },
  {
   "cell_type": "code",
   "execution_count": 4,
   "metadata": {},
   "outputs": [],
   "source": [
    "fashion_mnist = keras.datasets.fashion_mnist"
   ]
  },
  {
   "cell_type": "code",
   "execution_count": 5,
   "metadata": {},
   "outputs": [],
   "source": [
    "(X_train_full, y_train_full), (X_test, y_test) = fashion_mnist.load_data()"
   ]
  },
  {
   "cell_type": "code",
   "execution_count": 6,
   "metadata": {},
   "outputs": [
    {
     "data": {
      "text/plain": [
       "dtype('uint8')"
      ]
     },
     "execution_count": 6,
     "metadata": {},
     "output_type": "execute_result"
    }
   ],
   "source": [
    "X_train_full.dtype"
   ]
  },
  {
   "cell_type": "code",
   "execution_count": 7,
   "metadata": {},
   "outputs": [
    {
     "data": {
      "text/plain": [
       "numpy.ndarray"
      ]
     },
     "execution_count": 7,
     "metadata": {},
     "output_type": "execute_result"
    }
   ],
   "source": [
    "type(X_train_full)"
   ]
  },
  {
   "cell_type": "code",
   "execution_count": 8,
   "metadata": {},
   "outputs": [],
   "source": [
    "X_valid, X_train = X_train_full[:5000] / 255.0, X_train_full[5000:] / 255.0\n",
    "y_valid, y_train = y_train_full[:5000], y_train_full[5000:]"
   ]
  },
  {
   "cell_type": "code",
   "execution_count": 9,
   "metadata": {},
   "outputs": [],
   "source": [
    "# Wrong, can't save 3D array\n",
    "# np.savetxt(r'./keras_datasets/fm_X_train_full.csv',X_train_full)"
   ]
  },
  {
   "cell_type": "code",
   "execution_count": 10,
   "metadata": {},
   "outputs": [],
   "source": [
    "class_names = [\"T-shirt/top\", \"Trouser\", \"Pullover\", \"Dress\", \"Coat\",\n",
    "\"Sandal\", \"Shirt\", \"Sneaker\", \"Bag\", \"Ankle boot\"]"
   ]
  },
  {
   "cell_type": "code",
   "execution_count": 11,
   "metadata": {},
   "outputs": [
    {
     "data": {
      "text/plain": [
       "'Coat'"
      ]
     },
     "execution_count": 11,
     "metadata": {},
     "output_type": "execute_result"
    }
   ],
   "source": [
    "class_names[y_train[0]]"
   ]
  },
  {
   "cell_type": "code",
   "execution_count": 12,
   "metadata": {},
   "outputs": [
    {
     "name": "stdout",
     "output_type": "stream",
     "text": [
      "(60000, 28, 28) (60000,)\n"
     ]
    }
   ],
   "source": [
    "print(X_train_full.shape, y_train_full.shape)"
   ]
  },
  {
   "cell_type": "code",
   "execution_count": 13,
   "metadata": {},
   "outputs": [
    {
     "name": "stdout",
     "output_type": "stream",
     "text": [
      "[4 0 7 9 9 9 4 4 3 4]\n"
     ]
    }
   ],
   "source": [
    "print(y_train[:10])"
   ]
  },
  {
   "cell_type": "markdown",
   "metadata": {},
   "source": [
    "### Creating the model using the Sequential API \n",
    "\n",
    "- Sequential Model: a single stack of layers\n",
    "- model.summary\n",
    "- model.layers\n",
    "- layers.get_weights"
   ]
  },
  {
   "cell_type": "code",
   "execution_count": 14,
   "metadata": {},
   "outputs": [],
   "source": [
    "model = keras.models.Sequential()\n",
    "\n",
    "# Flatten layer: preprocessing, the shape of instance rather than batch\n",
    "# it reshape the input inot x.reshape(-1,1)\n",
    "model.add(keras.layers.Flatten(input_shape=[28, 28]))\n",
    "\n",
    "\n",
    "# Dense Layer: Notice that the Dense layer initialized the connection weights randomly (which is\n",
    "# needed to break symmetry, as we discussed earlier),\n",
    "model.add(keras.layers.Dense(300, activation=\"relu\"))\n",
    "model.add(keras.layers.Dense(100, activation=\"relu\"))\n",
    "\n",
    "# output layer\n",
    "# For multiclass use softmax, \n",
    "# For binary cldassification ,use sigmoid and binary_crossentropy\n",
    "model.add(keras.layers.Dense(10, activation=\"softmax\"))\n",
    "\n",
    "\n",
    "\n",
    "# Another Organization\n",
    "# ```\n",
    "# model = keras.models.Sequential([\n",
    "# keras.layers.Flatten(input_shape=[28, 28]),\n",
    "# keras.layers.Dense(300, activation=\"relu\"),\n",
    "# keras.layers.Dense(100, activation=\"relu\"),\n",
    "# keras.layers.Dense(10, activation=\"softmax\")\n",
    "# ])\n",
    "\n",
    "# ```"
   ]
  },
  {
   "cell_type": "code",
   "execution_count": 15,
   "metadata": {},
   "outputs": [
    {
     "name": "stdout",
     "output_type": "stream",
     "text": [
      "Model: \"sequential\"\n",
      "_________________________________________________________________\n",
      "Layer (type)                 Output Shape              Param #   \n",
      "=================================================================\n",
      "flatten (Flatten)            (None, 784)               0         \n",
      "_________________________________________________________________\n",
      "dense (Dense)                (None, 300)               235500    \n",
      "_________________________________________________________________\n",
      "dense_1 (Dense)              (None, 100)               30100     \n",
      "_________________________________________________________________\n",
      "dense_2 (Dense)              (None, 10)                1010      \n",
      "=================================================================\n",
      "Total params: 266,610\n",
      "Trainable params: 266,610\n",
      "Non-trainable params: 0\n",
      "_________________________________________________________________\n"
     ]
    }
   ],
   "source": [
    "model.summary()"
   ]
  },
  {
   "cell_type": "code",
   "execution_count": 16,
   "metadata": {},
   "outputs": [
    {
     "data": {
      "text/plain": [
       "[<tensorflow.python.keras.layers.core.Flatten at 0x1ee384dbec8>,\n",
       " <tensorflow.python.keras.layers.core.Dense at 0x1ee55f906c8>,\n",
       " <tensorflow.python.keras.layers.core.Dense at 0x1ee55fe3bc8>,\n",
       " <tensorflow.python.keras.layers.core.Dense at 0x1ee55fac5c8>]"
      ]
     },
     "execution_count": 16,
     "metadata": {},
     "output_type": "execute_result"
    }
   ],
   "source": [
    "model.layers"
   ]
  },
  {
   "cell_type": "code",
   "execution_count": 17,
   "metadata": {},
   "outputs": [],
   "source": [
    "hid1 = model.layers[1]"
   ]
  },
  {
   "cell_type": "code",
   "execution_count": 18,
   "metadata": {},
   "outputs": [
    {
     "data": {
      "text/plain": [
       "'dense'"
      ]
     },
     "execution_count": 18,
     "metadata": {},
     "output_type": "execute_result"
    }
   ],
   "source": [
    "hid1.name"
   ]
  },
  {
   "cell_type": "code",
   "execution_count": 19,
   "metadata": {},
   "outputs": [],
   "source": [
    "# After a model is created, you must call its compile() method to specify the loss function\n",
    "# and the optimizer to use.\n",
    "\n",
    "# kwpara:\n",
    "# loss_wight: can define different loss_weight to different output.\n",
    "model.compile(loss=\"sparse_categorical_crossentropy\",\n",
    "optimizer=\"sgd\",\n",
    "metrics=[\"accuracy\"])"
   ]
  },
  {
   "cell_type": "code",
   "execution_count": 20,
   "metadata": {},
   "outputs": [
    {
     "name": "stdout",
     "output_type": "stream",
     "text": [
      "Train on 55000 samples, validate on 5000 samples\n",
      "Epoch 1/30\n",
      "55000/55000 [==============================] - 6s 100us/sample - loss: 0.7222 - accuracy: 0.7610 - val_loss: 0.5305 - val_accuracy: 0.8130\n",
      "Epoch 2/30\n",
      "55000/55000 [==============================] - 4s 65us/sample - loss: 0.4885 - accuracy: 0.8298 - val_loss: 0.4410 - val_accuracy: 0.8526\n",
      "Epoch 3/30\n",
      "55000/55000 [==============================] - 4s 64us/sample - loss: 0.4429 - accuracy: 0.8451 - val_loss: 0.4217 - val_accuracy: 0.8602\n",
      "Epoch 4/30\n",
      "55000/55000 [==============================] - 5s 94us/sample - loss: 0.4154 - accuracy: 0.8547 - val_loss: 0.4180 - val_accuracy: 0.8544\n",
      "Epoch 5/30\n",
      "55000/55000 [==============================] - 5s 86us/sample - loss: 0.3975 - accuracy: 0.8599 - val_loss: 0.3887 - val_accuracy: 0.8672\n",
      "Epoch 6/30\n",
      "55000/55000 [==============================] - 4s 73us/sample - loss: 0.3792 - accuracy: 0.8672 - val_loss: 0.3709 - val_accuracy: 0.8724\n",
      "Epoch 7/30\n",
      "55000/55000 [==============================] - 4s 71us/sample - loss: 0.3679 - accuracy: 0.8700 - val_loss: 0.3718 - val_accuracy: 0.8716\n",
      "Epoch 8/30\n",
      "55000/55000 [==============================] - 4s 65us/sample - loss: 0.3557 - accuracy: 0.8747 - val_loss: 0.3535 - val_accuracy: 0.8774\n",
      "Epoch 9/30\n",
      "55000/55000 [==============================] - 3s 63us/sample - loss: 0.3443 - accuracy: 0.8776 - val_loss: 0.3472 - val_accuracy: 0.8784\n",
      "Epoch 10/30\n",
      "55000/55000 [==============================] - 3s 63us/sample - loss: 0.3348 - accuracy: 0.8810 - val_loss: 0.3402 - val_accuracy: 0.8824\n",
      "Epoch 11/30\n",
      "55000/55000 [==============================] - 4s 68us/sample - loss: 0.3265 - accuracy: 0.8835 - val_loss: 0.3380 - val_accuracy: 0.8824\n",
      "Epoch 12/30\n",
      "55000/55000 [==============================] - 4s 66us/sample - loss: 0.3173 - accuracy: 0.8880 - val_loss: 0.3374 - val_accuracy: 0.8806\n",
      "Epoch 13/30\n",
      "55000/55000 [==============================] - 4s 66us/sample - loss: 0.3100 - accuracy: 0.8894 - val_loss: 0.3286 - val_accuracy: 0.8840\n",
      "Epoch 14/30\n",
      "55000/55000 [==============================] - 4s 71us/sample - loss: 0.3028 - accuracy: 0.8915 - val_loss: 0.3280 - val_accuracy: 0.8860\n",
      "Epoch 15/30\n",
      "55000/55000 [==============================] - 4s 69us/sample - loss: 0.2964 - accuracy: 0.8937 - val_loss: 0.3167 - val_accuracy: 0.8884\n",
      "Epoch 16/30\n",
      "55000/55000 [==============================] - 4s 67us/sample - loss: 0.2904 - accuracy: 0.8961 - val_loss: 0.3166 - val_accuracy: 0.8886\n",
      "Epoch 17/30\n",
      "55000/55000 [==============================] - 4s 68us/sample - loss: 0.2845 - accuracy: 0.8972 - val_loss: 0.3187 - val_accuracy: 0.8872\n",
      "Epoch 18/30\n",
      "55000/55000 [==============================] - 4s 73us/sample - loss: 0.2793 - accuracy: 0.8995 - val_loss: 0.3449 - val_accuracy: 0.8712\n",
      "Epoch 19/30\n",
      "55000/55000 [==============================] - 4s 66us/sample - loss: 0.2725 - accuracy: 0.9029 - val_loss: 0.3201 - val_accuracy: 0.8874\n",
      "Epoch 20/30\n",
      "55000/55000 [==============================] - 4s 66us/sample - loss: 0.2673 - accuracy: 0.9042 - val_loss: 0.3173 - val_accuracy: 0.8862\n",
      "Epoch 21/30\n",
      "55000/55000 [==============================] - 4s 69us/sample - loss: 0.2617 - accuracy: 0.9069 - val_loss: 0.3089 - val_accuracy: 0.8884\n",
      "Epoch 22/30\n",
      "55000/55000 [==============================] - 5s 83us/sample - loss: 0.2576 - accuracy: 0.9079 - val_loss: 0.3187 - val_accuracy: 0.8862\n",
      "Epoch 23/30\n",
      "55000/55000 [==============================] - 4s 76us/sample - loss: 0.2522 - accuracy: 0.9101 - val_loss: 0.3127 - val_accuracy: 0.8874\n",
      "Epoch 24/30\n",
      "55000/55000 [==============================] - 4s 75us/sample - loss: 0.2490 - accuracy: 0.9107 - val_loss: 0.3100 - val_accuracy: 0.8884\n",
      "Epoch 25/30\n",
      "55000/55000 [==============================] - 4s 76us/sample - loss: 0.2443 - accuracy: 0.9123 - val_loss: 0.3357 - val_accuracy: 0.8770\n",
      "Epoch 26/30\n",
      "55000/55000 [==============================] - 4s 73us/sample - loss: 0.2401 - accuracy: 0.9144 - val_loss: 0.3012 - val_accuracy: 0.8912\n",
      "Epoch 27/30\n",
      "55000/55000 [==============================] - 4s 74us/sample - loss: 0.2355 - accuracy: 0.9152 - val_loss: 0.3010 - val_accuracy: 0.8974\n",
      "Epoch 28/30\n",
      "55000/55000 [==============================] - 4s 70us/sample - loss: 0.2306 - accuracy: 0.9174 - val_loss: 0.3066 - val_accuracy: 0.8910\n",
      "Epoch 29/30\n",
      "55000/55000 [==============================] - 5s 97us/sample - loss: 0.2285 - accuracy: 0.9175 - val_loss: 0.2956 - val_accuracy: 0.8902\n",
      "Epoch 30/30\n",
      "55000/55000 [==============================] - 6s 111us/sample - loss: 0.2244 - accuracy: 0.9197 - val_loss: 0.2994 - val_accuracy: 0.8890\n"
     ]
    }
   ],
   "source": [
    "# kwpara of fit:\n",
    "# class_weight: if the train dataset is skewed\n",
    "# sample_weight: if some sample is labeled by expert\n",
    "\n",
    "history = model.fit(X_train, y_train, epochs=30, validation_data=(X_valid, y_valid))"
   ]
  },
  {
   "cell_type": "code",
   "execution_count": 21,
   "metadata": {},
   "outputs": [
    {
     "data": {
      "image/png": "[encoded data removed]",
      "text/plain": [
       "<Figure size 576x360 with 1 Axes>"
      ]
     },
     "metadata": {
      "needs_background": "light"
     },
     "output_type": "display_data"
    }
   ],
   "source": [
    "pd.DataFrame(history.history).plot(figsize=(8, 5))\n",
    "plt.grid(True)\n",
    "plt.gca().set_ylim(0, 1) # set the vertical range to [0-1]\n",
    "plt.show()"
   ]
  },
  {
   "cell_type": "code",
   "execution_count": 22,
   "metadata": {},
   "outputs": [
    {
     "data": {
      "text/html": [
       "<div>\n",
       "<style scoped>\n",
       "    .dataframe tbody tr th:only-of-type {\n",
       "        vertical-align: middle;\n",
       "    }\n",
       "\n",
       "    .dataframe tbody tr th {\n",
       "        vertical-align: top;\n",
       "    }\n",
       "\n",
       "    .dataframe thead th {\n",
       "        text-align: right;\n",
       "    }\n",
       "</style>\n",
       "<table border=\"1\" class=\"dataframe\">\n",
       "  <thead>\n",
       "    <tr style=\"text-align: right;\">\n",
       "      <th></th>\n",
       "      <th>loss</th>\n",
       "      <th>accuracy</th>\n",
       "      <th>val_loss</th>\n",
       "      <th>val_accuracy</th>\n",
       "    </tr>\n",
       "  </thead>\n",
       "  <tbody>\n",
       "    <tr>\n",
       "      <th>0</th>\n",
       "      <td>0.722205</td>\n",
       "      <td>0.761018</td>\n",
       "      <td>0.530473</td>\n",
       "      <td>0.8130</td>\n",
       "    </tr>\n",
       "    <tr>\n",
       "      <th>1</th>\n",
       "      <td>0.488496</td>\n",
       "      <td>0.829836</td>\n",
       "      <td>0.440970</td>\n",
       "      <td>0.8526</td>\n",
       "    </tr>\n",
       "    <tr>\n",
       "      <th>2</th>\n",
       "      <td>0.442873</td>\n",
       "      <td>0.845055</td>\n",
       "      <td>0.421688</td>\n",
       "      <td>0.8602</td>\n",
       "    </tr>\n",
       "    <tr>\n",
       "      <th>3</th>\n",
       "      <td>0.415361</td>\n",
       "      <td>0.854727</td>\n",
       "      <td>0.418026</td>\n",
       "      <td>0.8544</td>\n",
       "    </tr>\n",
       "    <tr>\n",
       "      <th>4</th>\n",
       "      <td>0.397510</td>\n",
       "      <td>0.859855</td>\n",
       "      <td>0.388674</td>\n",
       "      <td>0.8672</td>\n",
       "    </tr>\n",
       "  </tbody>\n",
       "</table>\n",
       "</div>"
      ],
      "text/plain": [
       "       loss  accuracy  val_loss  val_accuracy\n",
       "0  0.722205  0.761018  0.530473        0.8130\n",
       "1  0.488496  0.829836  0.440970        0.8526\n",
       "2  0.442873  0.845055  0.421688        0.8602\n",
       "3  0.415361  0.854727  0.418026        0.8544\n",
       "4  0.397510  0.859855  0.388674        0.8672"
      ]
     },
     "execution_count": 22,
     "metadata": {},
     "output_type": "execute_result"
    }
   ],
   "source": [
    "history_df = pd.DataFrame(history.history)\n",
    "history_df.head()"
   ]
  },
  {
   "cell_type": "code",
   "execution_count": 23,
   "metadata": {},
   "outputs": [
    {
     "data": {
      "text/plain": [
       "(30, 4)"
      ]
     },
     "execution_count": 23,
     "metadata": {},
     "output_type": "execute_result"
    }
   ],
   "source": [
    "history_df.shape"
   ]
  },
  {
   "cell_type": "code",
   "execution_count": 24,
   "metadata": {},
   "outputs": [
    {
     "name": "stdout",
     "output_type": "stream",
     "text": [
      "10000/10000 [==============================] - 1s 58us/sample - loss: 57.7550 - accuracy: 0.8553\n"
     ]
    },
    {
     "data": {
      "text/plain": [
       "[57.75500184459686, 0.8553]"
      ]
     },
     "execution_count": 24,
     "metadata": {},
     "output_type": "execute_result"
    }
   ],
   "source": [
    "model.evaluate(X_test, y_test)"
   ]
  },
  {
   "cell_type": "markdown",
   "metadata": {},
   "source": [
    "### Building a Regression MLP Using the Sequential API \n",
    "\n",
    "- The main differences are the fact that the output layer has a single neuron (since we only want to predict a single value) and uses no activation function"
   ]
  },
  {
   "cell_type": "code",
   "execution_count": 25,
   "metadata": {},
   "outputs": [],
   "source": [
    "from sklearn.datasets import fetch_california_housing\n",
    "from sklearn.model_selection import train_test_split\n",
    "from sklearn.preprocessing import StandardScaler"
   ]
  },
  {
   "cell_type": "markdown",
   "metadata": {},
   "source": [
    "### Building Complex Models Using the Functional API\n",
    "- One example of a nonsequential neural network is a Wide & Deep neural network.\n",
    "- call the Dense as a function\n",
    "```\n",
    "input_ = keras.layers.Input(shape=X_train.shape[1:])\n",
    "hidden1 = keras.layers.Dense(30, activation=\"relu\")(input_)  #here like a function\n",
    "hidden2 = keras.layers.Dense(30, activation=\"relu\")(hidden1)\n",
    "concat = keras.layers.Concatenate()([input_, hidden2])\n",
    "output = keras.layers.Dense(1)(concat)\n",
    "model = keras.Model(inputs=[input_], outputs=[output])\n",
    "```"
   ]
  },
  {
   "cell_type": "markdown",
   "metadata": {},
   "source": [
    "### Using the Subclassing API to Build Dynamic Models\n",
    "- unless you really need\n",
    "that extra flexibility, you should probably stick to the Sequential API or the Functional\n",
    "API."
   ]
  },
  {
   "cell_type": "markdown",
   "metadata": {},
   "source": [
    "### Saving and Restoring a Model\n",
    "\n",
    "```\n",
    "model = keras.models.Sequential([...]) # or keras.Model([...])\n",
    "model.compile([...])\n",
    "model.fit([...])\n",
    "model.save(\"my_keras_model.h5\")\n",
    "model = keras.models.load_model(\"my_keras_model.h5\")\n",
    "\n",
    "```"
   ]
  },
  {
   "cell_type": "markdown",
   "metadata": {},
   "source": [
    "### Using Callbacks\n",
    "\n",
    "```\n",
    "checkpoint_cb = keras.callbacks.ModelCheckpoint(\"my_keras_model.h5\")\n",
    "history = model.fit(X_train, y_train, epochs=10, callbacks=[checkpoint_cb])\n",
    "\n",
    "```"
   ]
  },
  {
   "cell_type": "markdown",
   "metadata": {},
   "source": [
    "### Using TensorBoard for Visualization\n",
    "\n",
    "- you must modify your program so that it outputs the data you want to visualize to special binary log files called event file"
   ]
  },
  {
   "cell_type": "code",
   "execution_count": 26,
   "metadata": {},
   "outputs": [],
   "source": [
    "import os\n",
    "root_logdir = os.path.join(os.curdir, \"my_logs\")\n",
    "\n",
    "def get_run_logdir():\n",
    "    import time\n",
    "    run_id = time.strftime(\"run_%Y_%m_%d-%H_%M_%S\")\n",
    "    return os.path.join(root_logdir, run_id)\n",
    "\n",
    "run_logdir = get_run_logdir() # e.g., './my_logs/run_2019_06_07-15_15_22'"
   ]
  },
  {
   "cell_type": "code",
   "execution_count": 27,
   "metadata": {},
   "outputs": [
    {
     "name": "stdout",
     "output_type": "stream",
     "text": [
      "Train on 55000 samples, validate on 5000 samples\n",
      "Epoch 1/30\n",
      "   32/55000 [..............................] - ETA: 47s - loss: 0.2432 - accuracy: 0.9375WARNING:tensorflow:Method (on_train_batch_end) is slow compared to the batch update (0.143618). Check your callbacks.\n",
      "55000/55000 [==============================] - 4s 80us/sample - loss: 0.2197 - accuracy: 0.9217 - val_loss: 0.3167 - val_accuracy: 0.8842\n",
      "Epoch 2/30\n",
      "55000/55000 [==============================] - 4s 79us/sample - loss: 0.2165 - accuracy: 0.9224 - val_loss: 0.2971 - val_accuracy: 0.8946\n",
      "Epoch 3/30\n",
      "55000/55000 [==============================] - 4s 74us/sample - loss: 0.2140 - accuracy: 0.9232 - val_loss: 0.3026 - val_accuracy: 0.8918\n",
      "Epoch 4/30\n",
      "55000/55000 [==============================] - 4s 76us/sample - loss: 0.2094 - accuracy: 0.9255 - val_loss: 0.2988 - val_accuracy: 0.8954\n",
      "Epoch 5/30\n",
      "55000/55000 [==============================] - 4s 78us/sample - loss: 0.2065 - accuracy: 0.9256 - val_loss: 0.2954 - val_accuracy: 0.8948\n",
      "Epoch 6/30\n",
      "55000/55000 [==============================] - 4s 78us/sample - loss: 0.2032 - accuracy: 0.9267 - val_loss: 0.2919 - val_accuracy: 0.8952\n",
      "Epoch 7/30\n",
      "55000/55000 [==============================] - 4s 74us/sample - loss: 0.1999 - accuracy: 0.9287 - val_loss: 0.3041 - val_accuracy: 0.8928\n",
      "Epoch 8/30\n",
      "55000/55000 [==============================] - 4s 70us/sample - loss: 0.1971 - accuracy: 0.9289 - val_loss: 0.2952 - val_accuracy: 0.8978\n",
      "Epoch 9/30\n",
      "55000/55000 [==============================] - 4s 73us/sample - loss: 0.1938 - accuracy: 0.9310 - val_loss: 0.3059 - val_accuracy: 0.8922\n",
      "Epoch 10/30\n",
      "55000/55000 [==============================] - 4s 76us/sample - loss: 0.1907 - accuracy: 0.9319 - val_loss: 0.2942 - val_accuracy: 0.8928\n",
      "Epoch 11/30\n",
      "55000/55000 [==============================] - 5s 92us/sample - loss: 0.1870 - accuracy: 0.9329 - val_loss: 0.3064 - val_accuracy: 0.8940\n",
      "Epoch 12/30\n",
      "55000/55000 [==============================] - 4s 76us/sample - loss: 0.1841 - accuracy: 0.9345 - val_loss: 0.2994 - val_accuracy: 0.8960\n",
      "Epoch 13/30\n",
      "55000/55000 [==============================] - 4s 75us/sample - loss: 0.1816 - accuracy: 0.9357 - val_loss: 0.2932 - val_accuracy: 0.9006\n",
      "Epoch 14/30\n",
      "55000/55000 [==============================] - 4s 77us/sample - loss: 0.1789 - accuracy: 0.9370 - val_loss: 0.3056 - val_accuracy: 0.8950\n",
      "Epoch 15/30\n",
      "55000/55000 [==============================] - 4s 72us/sample - loss: 0.1752 - accuracy: 0.9374 - val_loss: 0.3361 - val_accuracy: 0.8852\n",
      "Epoch 16/30\n",
      "55000/55000 [==============================] - 4s 71us/sample - loss: 0.1722 - accuracy: 0.9383 - val_loss: 0.3014 - val_accuracy: 0.8966\n",
      "Epoch 17/30\n",
      "55000/55000 [==============================] - 4s 73us/sample - loss: 0.1692 - accuracy: 0.9394 - val_loss: 0.3068 - val_accuracy: 0.8974\n",
      "Epoch 18/30\n",
      "55000/55000 [==============================] - 4s 75us/sample - loss: 0.1656 - accuracy: 0.9411 - val_loss: 0.2999 - val_accuracy: 0.8942\n",
      "Epoch 19/30\n",
      "55000/55000 [==============================] - 4s 74us/sample - loss: 0.1643 - accuracy: 0.9415 - val_loss: 0.2940 - val_accuracy: 0.8976\n",
      "Epoch 20/30\n",
      "55000/55000 [==============================] - 4s 73us/sample - loss: 0.1617 - accuracy: 0.9436 - val_loss: 0.3056 - val_accuracy: 0.8968\n",
      "Epoch 21/30\n",
      "55000/55000 [==============================] - 4s 76us/sample - loss: 0.1589 - accuracy: 0.9437 - val_loss: 0.3033 - val_accuracy: 0.8930\n",
      "Epoch 22/30\n",
      "55000/55000 [==============================] - 4s 79us/sample - loss: 0.1562 - accuracy: 0.9446 - val_loss: 0.2994 - val_accuracy: 0.8974\n",
      "Epoch 23/30\n",
      "55000/55000 [==============================] - 6s 106us/sample - loss: 0.1542 - accuracy: 0.9449 - val_loss: 0.3049 - val_accuracy: 0.8974\n",
      "Epoch 24/30\n",
      "55000/55000 [==============================] - 5s 84us/sample - loss: 0.1513 - accuracy: 0.9469 - val_loss: 0.3284 - val_accuracy: 0.8912\n",
      "Epoch 25/30\n",
      "55000/55000 [==============================] - 4s 80us/sample - loss: 0.1484 - accuracy: 0.9470 - val_loss: 0.3041 - val_accuracy: 0.8966\n",
      "Epoch 26/30\n",
      "55000/55000 [==============================] - 5s 84us/sample - loss: 0.1471 - accuracy: 0.9477 - val_loss: 0.3152 - val_accuracy: 0.8974\n",
      "Epoch 27/30\n",
      "55000/55000 [==============================] - 5s 89us/sample - loss: 0.1435 - accuracy: 0.9496 - val_loss: 0.3136 - val_accuracy: 0.8964\n",
      "Epoch 28/30\n",
      "55000/55000 [==============================] - 5s 85us/sample - loss: 0.1418 - accuracy: 0.9500 - val_loss: 0.3145 - val_accuracy: 0.8948\n",
      "Epoch 29/30\n",
      "55000/55000 [==============================] - 5s 82us/sample - loss: 0.1389 - accuracy: 0.9505 - val_loss: 0.3133 - val_accuracy: 0.8968\n",
      "Epoch 30/30\n",
      "55000/55000 [==============================] - 4s 80us/sample - loss: 0.1365 - accuracy: 0.9523 - val_loss: 0.3295 - val_accuracy: 0.8930\n"
     ]
    }
   ],
   "source": [
    "tensorboard_cb = keras.callbacks.TensorBoard(run_logdir)\n",
    "history = model.fit(X_train, y_train, epochs=30,\n",
    "                    validation_data=(X_valid, y_valid),\n",
    "                    callbacks=[tensorboard_cb])"
   ]
  },
  {
   "cell_type": "markdown",
   "metadata": {},
   "source": [
    "### Fine-Tuning Neural Network Hyperparameters"
   ]
  },
  {
   "cell_type": "markdown",
   "metadata": {},
   "source": [
    "#### Number of Neurons per Hidden Layer\n",
    "- it used to be common to size them to form a pyramid, with fewer and fewer neurons at each layer"
   ]
  },
  {
   "cell_type": "code",
   "execution_count": null,
   "metadata": {},
   "outputs": [],
   "source": []
  }
 ],
 "metadata": {
  "kernelspec": {
   "display_name": "mytf",
   "language": "python",
   "name": "other-env"
  },
  "language_info": {
   "codemirror_mode": {
    "name": "ipython",
    "version": 3
   },
   "file_extension": ".py",
   "mimetype": "text/x-python",
   "name": "python",
   "nbconvert_exporter": "python",
   "pygments_lexer": "ipython3",
   "version": "3.7.7"
  },
  "toc": {
   "base_numbering": 1,
   "nav_menu": {},
   "number_sections": true,
   "sideBar": true,
   "skip_h1_title": false,
   "title_cell": "Table of Contents",
   "title_sidebar": "Contents",
   "toc_cell": false,
   "toc_position": {
    "height": "calc(100% - 180px)",
    "left": "10px",
    "top": "150px",
    "width": "256px"
   },
   "toc_section_display": true,
   "toc_window_display": true
  }
 },
 "nbformat": 4,
 "nbformat_minor": 4
}
