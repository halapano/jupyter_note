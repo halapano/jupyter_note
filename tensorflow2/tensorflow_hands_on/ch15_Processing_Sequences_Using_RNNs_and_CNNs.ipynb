{
 "cells": [
  {
   "cell_type": "code",
   "execution_count": 3,
   "metadata": {},
   "outputs": [],
   "source": [
    "import numpy as np\n",
    "import pandas as pd\n",
    "import matplotlib.pyplot as plt\n",
    "import tensorflow as tf\n",
    "from tensorflow import keras"
   ]
  },
  {
   "cell_type": "markdown",
   "metadata": {},
   "source": [
    "> recurrent neural networks\n",
    "> In this chapter we will first look at the fundamental concepts underlying RNNs and\n",
    "how to train them using backpropagation through time, then we will use them to\n",
    "forecast a time series."
   ]
  },
  {
   "cell_type": "markdown",
   "metadata": {},
   "source": [
    "# Recurrent Neurons and Layers\n",
    "- A recurrent neural network looks very much like a feedforward neural network, except it also has connections pointing backward\n",
    "- At each time step t (also called a frame)\n",
    "- Each recurrent neuron has two sets of weights: one for the inputs x(t) and the other for the outputs of the previous time step, y(t–1)."
   ]
  },
  {
   "cell_type": "markdown",
   "metadata": {},
   "source": [
    "## Memory Cells\n",
    "- Since the output of a recurrent neuron at time step t is a function of all the inputs from previous time steps, you could say it has a form of memory.\n",
    "    - This makes Y(t) a function of all the inputs since time t = 0 (that is, X(0), X(1), …, X(t)).\n",
    "- A part of a neural network that preserves some state across time steps is called a memory cell (or simply a cell)\n"
   ]
  },
  {
   "cell_type": "markdown",
   "metadata": {},
   "source": [
    "## Input and Output Sequences\n",
    "- "
   ]
  },
  {
   "cell_type": "markdown",
   "metadata": {},
   "source": [
    "## Training RNNs\n",
    "\n",
    "- To train an RNN, the trick is to unroll it through time (like we just did) and then simply use regular backpropagation (see Figure 15-5). This strategy is called backpropagation through time (BPTT).\n",
    "- Note that the gradients flow backward through all the outputs used by the cost function, not just through the final output"
   ]
  },
  {
   "cell_type": "markdown",
   "metadata": {},
   "source": [
    "# Forecasting a Time Series\n",
    "- multivariate time series"
   ]
  },
  {
   "cell_type": "code",
   "execution_count": 8,
   "metadata": {},
   "outputs": [],
   "source": [
    "def generate_time_series(batch_size, n_steps):\n",
    "    freq1, freq2, offsets1, offsets2 = np.random.rand(4, batch_size, 1)\n",
    "    time = np.linspace(0, 1, n_steps)\n",
    "    series = 0.5 * np.sin((time - offsets1) * (freq1 * 10 + 10)) # wave 1\n",
    "    series += 0.2 * np.sin((time - offsets2) * (freq2 * 20 + 20)) # + wave 2\n",
    "    # print(series.shape)\n",
    "    series += 0.1 * (np.random.rand(batch_size, n_steps) - 0.5) # + noise\n",
    "    # ellipsis use\n",
    "    return series[..., np.newaxis].astype(np.float32)"
   ]
  },
  {
   "cell_type": "code",
   "execution_count": 9,
   "metadata": {},
   "outputs": [],
   "source": [
    "n_steps = 50\n",
    "series = generate_time_series(10000, n_steps + 1)\n",
    "X_train, y_train = series[:7000, :n_steps], series[:7000, -1]\n",
    "X_valid, y_valid = series[7000:9000, :n_steps], series[7000:9000, -1]\n",
    "X_test, y_test = series[9000:, :n_steps], series[9000:, -1]"
   ]
  },
  {
   "cell_type": "code",
   "execution_count": 10,
   "metadata": {},
   "outputs": [
    {
     "data": {
      "text/plain": [
       "(7000, 50, 1)"
      ]
     },
     "execution_count": 10,
     "metadata": {},
     "output_type": "execute_result"
    }
   ],
   "source": [
    "X_train.shape"
   ]
  },
  {
   "cell_type": "markdown",
   "metadata": {},
   "source": [
    "## Baseline Metrics"
   ]
  },
  {
   "cell_type": "code",
   "execution_count": 12,
   "metadata": {},
   "outputs": [],
   "source": [
    "model = keras.models.Sequential([\n",
    "    keras.layers.Flatten(input_shape = [50, 1]),\n",
    "    keras.layers.Dense(1)\n",
    "])"
   ]
  },
  {
   "cell_type": "code",
   "execution_count": 15,
   "metadata": {},
   "outputs": [],
   "source": [
    "model.compile(loss='mse')"
   ]
  },
  {
   "cell_type": "code",
   "execution_count": 19,
   "metadata": {},
   "outputs": [
    {
     "name": "stdout",
     "output_type": "stream",
     "text": [
      "Train on 7000 samples, validate on 2000 samples\n",
      "Epoch 1/20\n",
      "7000/7000 [==============================] - 0s 36us/sample - loss: 0.0032 - val_loss: 0.0031\n",
      "Epoch 2/20\n",
      "7000/7000 [==============================] - 0s 38us/sample - loss: 0.0031 - val_loss: 0.0033\n",
      "Epoch 3/20\n",
      "7000/7000 [==============================] - 0s 37us/sample - loss: 0.0031 - val_loss: 0.0032\n",
      "Epoch 4/20\n",
      "7000/7000 [==============================] - 0s 38us/sample - loss: 0.0031 - val_loss: 0.0031\n",
      "Epoch 5/20\n",
      "7000/7000 [==============================] - 0s 37us/sample - loss: 0.0031 - val_loss: 0.0032\n",
      "Epoch 6/20\n",
      "7000/7000 [==============================] - 0s 38us/sample - loss: 0.0031 - val_loss: 0.0032\n",
      "Epoch 7/20\n",
      "7000/7000 [==============================] - 0s 38us/sample - loss: 0.0031 - val_loss: 0.0031\n",
      "Epoch 8/20\n",
      "7000/7000 [==============================] - 0s 37us/sample - loss: 0.0031 - val_loss: 0.0031\n",
      "Epoch 9/20\n",
      "7000/7000 [==============================] - 0s 36us/sample - loss: 0.0031 - val_loss: 0.0031\n",
      "Epoch 10/20\n",
      "7000/7000 [==============================] - 0s 38us/sample - loss: 0.0031 - val_loss: 0.0031\n",
      "Epoch 11/20\n",
      "7000/7000 [==============================] - 0s 39us/sample - loss: 0.0031 - val_loss: 0.0031\n",
      "Epoch 12/20\n",
      "7000/7000 [==============================] - 0s 36us/sample - loss: 0.0031 - val_loss: 0.0030\n",
      "Epoch 13/20\n",
      "7000/7000 [==============================] - 0s 36us/sample - loss: 0.0031 - val_loss: 0.0031\n",
      "Epoch 14/20\n",
      "7000/7000 [==============================] - 0s 39us/sample - loss: 0.0031 - val_loss: 0.0031\n",
      "Epoch 15/20\n",
      "7000/7000 [==============================] - 0s 40us/sample - loss: 0.0031 - val_loss: 0.0031\n",
      "Epoch 16/20\n",
      "7000/7000 [==============================] - 0s 37us/sample - loss: 0.0030 - val_loss: 0.0030\n",
      "Epoch 17/20\n",
      "7000/7000 [==============================] - 0s 40us/sample - loss: 0.0030 - val_loss: 0.0030\n",
      "Epoch 18/20\n",
      "7000/7000 [==============================] - 0s 46us/sample - loss: 0.0031 - val_loss: 0.0030\n",
      "Epoch 19/20\n",
      "7000/7000 [==============================] - 0s 36us/sample - loss: 0.0030 - val_loss: 0.0033\n",
      "Epoch 20/20\n",
      "7000/7000 [==============================] - 0s 36us/sample - loss: 0.0030 - val_loss: 0.0030\n"
     ]
    },
    {
     "data": {
      "text/plain": [
       "<tensorflow.python.keras.callbacks.History at 0x14c098a1608>"
      ]
     },
     "execution_count": 19,
     "metadata": {},
     "output_type": "execute_result"
    }
   ],
   "source": [
    "model.fit(X_train, y_train, epochs = 20, validation_data = (X_valid, y_valid))"
   ]
  },
  {
   "cell_type": "code",
   "execution_count": 20,
   "metadata": {},
   "outputs": [
    {
     "data": {
      "text/plain": [
       "0.003033986"
      ]
     },
     "execution_count": 20,
     "metadata": {},
     "output_type": "execute_result"
    }
   ],
   "source": [
    "y_pred = model.predict(X_valid)\n",
    "np.mean(keras.losses.mean_squared_error(y_valid, y_pred))"
   ]
  },
  {
   "cell_type": "markdown",
   "metadata": {},
   "source": [
    "## Implementing a Simple RNN"
   ]
  },
  {
   "cell_type": "code",
   "execution_count": 21,
   "metadata": {},
   "outputs": [],
   "source": [
    "model = keras.models.Sequential([\n",
    "    keras.layers.SimpleRNN(1, input_shape = [None, 1])\n",
    "])"
   ]
  },
  {
   "cell_type": "code",
   "execution_count": 25,
   "metadata": {},
   "outputs": [],
   "source": [
    "optimizer = keras.optimizers.Adam(lr=0.005)\n",
    "model.compile(loss='mse',optimizer = optimizer)"
   ]
  },
  {
   "cell_type": "code",
   "execution_count": 26,
   "metadata": {},
   "outputs": [
    {
     "name": "stdout",
     "output_type": "stream",
     "text": [
      "Train on 7000 samples, validate on 2000 samples\n",
      "Epoch 1/20\n",
      "7000/7000 [==============================] - 3s 409us/sample - loss: 0.1421 - val_loss: 0.1511\n",
      "Epoch 2/20\n",
      "7000/7000 [==============================] - 2s 271us/sample - loss: 0.1271 - val_loss: 0.0768\n",
      "Epoch 3/20\n",
      "7000/7000 [==============================] - 2s 264us/sample - loss: 0.0478 - val_loss: 0.0358\n",
      "Epoch 4/20\n",
      "7000/7000 [==============================] - 2s 264us/sample - loss: 0.0287 - val_loss: 0.0253\n",
      "Epoch 5/20\n",
      "7000/7000 [==============================] - 2s 265us/sample - loss: 0.0218 - val_loss: 0.0202\n",
      "Epoch 6/20\n",
      "7000/7000 [==============================] - 2s 264us/sample - loss: 0.0180 - val_loss: 0.0171\n",
      "Epoch 7/20\n",
      "7000/7000 [==============================] - 2s 265us/sample - loss: 0.0157 - val_loss: 0.0150\n",
      "Epoch 8/20\n",
      "7000/7000 [==============================] - 2s 266us/sample - loss: 0.0141 - val_loss: 0.0137\n",
      "Epoch 9/20\n",
      "7000/7000 [==============================] - 2s 268us/sample - loss: 0.0130 - val_loss: 0.0127\n",
      "Epoch 10/20\n",
      "7000/7000 [==============================] - 2s 267us/sample - loss: 0.0123 - val_loss: 0.0121\n",
      "Epoch 11/20\n",
      "7000/7000 [==============================] - 2s 264us/sample - loss: 0.0118 - val_loss: 0.0117\n",
      "Epoch 12/20\n",
      "7000/7000 [==============================] - 2s 269us/sample - loss: 0.0115 - val_loss: 0.0114\n",
      "Epoch 13/20\n",
      "7000/7000 [==============================] - 2s 268us/sample - loss: 0.0114 - val_loss: 0.0113\n",
      "Epoch 14/20\n",
      "7000/7000 [==============================] - 2s 266us/sample - loss: 0.0113 - val_loss: 0.0112\n",
      "Epoch 15/20\n",
      "7000/7000 [==============================] - 2s 264us/sample - loss: 0.0113 - val_loss: 0.0112\n",
      "Epoch 16/20\n",
      "7000/7000 [==============================] - 2s 272us/sample - loss: 0.0113 - val_loss: 0.0112\n",
      "Epoch 17/20\n",
      "7000/7000 [==============================] - 2s 268us/sample - loss: 0.0113 - val_loss: 0.0112\n",
      "Epoch 18/20\n",
      "7000/7000 [==============================] - 2s 268us/sample - loss: 0.0113 - val_loss: 0.0112\n",
      "Epoch 19/20\n",
      "7000/7000 [==============================] - 2s 268us/sample - loss: 0.0113 - val_loss: 0.0112\n",
      "Epoch 20/20\n",
      "7000/7000 [==============================] - 2s 263us/sample - loss: 0.0113 - val_loss: 0.0112\n"
     ]
    },
    {
     "data": {
      "text/plain": [
       "<tensorflow.python.keras.callbacks.History at 0x14c0af04688>"
      ]
     },
     "execution_count": 26,
     "metadata": {},
     "output_type": "execute_result"
    }
   ],
   "source": [
    "model.fit(X_train, y_train, epochs = 20, validation_data = (X_valid, y_valid))"
   ]
  },
  {
   "cell_type": "code",
   "execution_count": 27,
   "metadata": {},
   "outputs": [
    {
     "data": {
      "text/plain": [
       "0.011219648"
      ]
     },
     "execution_count": 27,
     "metadata": {},
     "output_type": "execute_result"
    }
   ],
   "source": [
    "y_pred = model.predict(X_valid)\n",
    "np.mean(keras.losses.mean_squared_error(y_valid, y_pred))"
   ]
  },
  {
   "cell_type": "code",
   "execution_count": null,
   "metadata": {},
   "outputs": [],
   "source": []
  },
  {
   "cell_type": "markdown",
   "metadata": {},
   "source": [
    "- 用时间序列到rnn，每次只输入一个时间点的数据，而不是所有，所以对于simpleRnn, 只有三个参数（w_x, w_y, bias）\n",
    "- Note that for each neuron, a linear model has one parameter per input and per time step, plus a bias term (in the\n",
    "simple linear model we used, that’s a total of 51 parameters). In contrast, for each\n",
    "recurrent neuron in a simple RNN, there is just one parameter per input and per hidden\n",
    "state dimension (in a simple RNN, that’s just the number of recurrent neurons in\n",
    "the layer), plus a bias term. In this simple RNN, that’s a total of just three parameters."
   ]
  },
  {
   "cell_type": "markdown",
   "metadata": {},
   "source": [
    "## Deep RNNs\n"
   ]
  },
  {
   "cell_type": "code",
   "execution_count": null,
   "metadata": {},
   "outputs": [],
   "source": []
  }
 ],
 "metadata": {
  "kernelspec": {
   "display_name": "mytf",
   "language": "python",
   "name": "other-env"
  },
  "language_info": {
   "codemirror_mode": {
    "name": "ipython",
    "version": 3
   },
   "file_extension": ".py",
   "mimetype": "text/x-python",
   "name": "python",
   "nbconvert_exporter": "python",
   "pygments_lexer": "ipython3",
   "version": "3.7.7"
  },
  "toc": {
   "base_numbering": 1,
   "nav_menu": {},
   "number_sections": true,
   "sideBar": true,
   "skip_h1_title": false,
   "title_cell": "Table of Contents",
   "title_sidebar": "Contents",
   "toc_cell": false,
   "toc_position": {},
   "toc_section_display": true,
   "toc_window_display": true
  }
 },
 "nbformat": 4,
 "nbformat_minor": 4
}
