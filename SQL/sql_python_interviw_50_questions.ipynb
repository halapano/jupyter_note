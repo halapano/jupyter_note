{
 "cells": [
  {
   "cell_type": "markdown",
   "metadata": {},
   "source": [
    "# Reference\n",
    "\n",
    "- https://zhuanlan.zhihu.com/p/43289968\n",
    "- https://dev.mysql.com/doc/connector-python/en/connector-python-example-ddl.html\n",
    "- https://www.w3schools.com/python/python_mysql_create_db.asp\n",
    "- https://www.w3resource.com/mysql/mysql-tutorials.php"
   ]
  },
  {
   "cell_type": "markdown",
   "metadata": {},
   "source": [
    "# Connect to mysql server"
   ]
  },
  {
   "cell_type": "code",
   "execution_count": 1,
   "metadata": {},
   "outputs": [],
   "source": [
    "# Connect to mysql\n",
    "\n",
    "import mysql.connector\n",
    "from mysql.connector import errorcode\n",
    "\n",
    "try:\n",
    "    cnx = mysql.connector.connect(user='root', password=\"Rui@2492592\", host=\"127.0.0.1\") #cnx is db object\n",
    "except mysql.connector.Error as err:\n",
    "    if err.errno == errorcode.ER_ACCESS_DENIED_ERROR:\n",
    "        print(\"Something is wrong with your user name or password\")\n",
    "    elif err.errno == errorcode.ER_BAD_DB_ERROR:\n",
    "        print(\"Database does not exist\")\n",
    "    else:\n",
    "        print(err)"
   ]
  },
  {
   "cell_type": "code",
   "execution_count": 2,
   "metadata": {},
   "outputs": [],
   "source": [
    "cursor = cnx.cursor()"
   ]
  },
  {
   "cell_type": "markdown",
   "metadata": {},
   "source": [
    "# Create Database"
   ]
  },
  {
   "cell_type": "code",
   "execution_count": 5,
   "metadata": {},
   "outputs": [],
   "source": [
    "DB_NAME = \"school\"\n",
    "\n",
    "def create_database(cursor):\n",
    "    try:\n",
    "        cursor.execute(\"CREATE DATABASE {}\".format(DB_NAME))\n",
    "    except mysql.connector.Error as err:\n",
    "        print(\"Failed creat database {}\".format(DB_NAME))\n",
    "        exit(1)\n",
    "\n",
    "try:\n",
    "    cursor.execute(\"USE {}\".format(DB_NAME))\n",
    "except mysql.connector.Error as err:\n",
    "    print(\"Database {} does not exists.\".format(DB_NAME))\n",
    "    if err.errno == errorcode.ER_BAD_DB_ERROR:\n",
    "        create_database(cursor)\n",
    "        print(\"Database {} created successfully.\".format(DB_NAME))\n",
    "        cursor.execute(\"USE {}\".format(DB_NAME))\n",
    "        cnx.database = DB_NAME # After create database, you need assign ton connector\n",
    "    else:\n",
    "        print(err)\n",
    "        exit(1)    "
   ]
  },
  {
   "cell_type": "markdown",
   "metadata": {},
   "source": [
    "# Show Databases"
   ]
  },
  {
   "cell_type": "code",
   "execution_count": 3,
   "metadata": {},
   "outputs": [
    {
     "name": "stdout",
     "output_type": "stream",
     "text": [
      "('classicmodels',)\n",
      "('information_schema',)\n",
      "('mysql',)\n",
      "('performance_schema',)\n",
      "('sakila',)\n",
      "('school',)\n",
      "('sys',)\n",
      "('world',)\n"
     ]
    }
   ],
   "source": [
    "cursor.execute(\"SHOW DATABASES\")\n",
    "for x in cursor:\n",
    "    print(x)"
   ]
  },
  {
   "cell_type": "markdown",
   "metadata": {},
   "source": [
    "# Drop Database"
   ]
  },
  {
   "cell_type": "code",
   "execution_count": 25,
   "metadata": {},
   "outputs": [],
   "source": [
    "cursor.execute(\"DROP DATABASE IF EXISTS python_mysql\")"
   ]
  },
  {
   "cell_type": "markdown",
   "metadata": {},
   "source": [
    "# Show current database"
   ]
  },
  {
   "cell_type": "code",
   "execution_count": 6,
   "metadata": {},
   "outputs": [
    {
     "name": "stdout",
     "output_type": "stream",
     "text": [
      "('school',)\n"
     ]
    }
   ],
   "source": [
    "cursor.execute(\"SELECT DATABASE()\")\n",
    "for x in cursor.fetchall():\n",
    "    print(x)"
   ]
  },
  {
   "cell_type": "markdown",
   "metadata": {},
   "source": [
    "# Create Table\n",
    "- tip: the table name need to around in ``."
   ]
  },
  {
   "cell_type": "code",
   "execution_count": 24,
   "metadata": {},
   "outputs": [],
   "source": [
    "TABLES = {}\n",
    "\n",
    "TABLES['Student'] = (\n",
    "    \" CREATE TABLE `Student`(\" # need brackcet every row\n",
    "    \" `s_id` VARCHAR(20),\"\n",
    "    \" `s_name` VARCHAR(20) NOT NULL DEFAULT '',\"\n",
    "    \" `s_birth` VARCHAR(20) NOT NULL DEFAULT '',\"\n",
    "    \" `s_sex` VARCHAR(20) NOT NULL DEFAULT '',\"\n",
    "    \" PRIMARY KEY (`s_id`))\")\n",
    "\n",
    "TABLES['Course'] = (\n",
    "    \" CREATE TABLE `Course`(\"\n",
    "    \" `c_id` VARCHAR(20),\"\n",
    "    \" `c_name` VARCHAR(20) NOT NULL DEFAULT '',\"\n",
    "    \" `t_id` VARCHAR(20) NOT NULL,\"\n",
    "    \" PRIMARY KEY (`c_id`))\")\n",
    "\n",
    "TABLES['Teacher'] = (\n",
    "\"CREATE TABLE `Teacher` (\"\n",
    "\"`t_id` VARCHAR(20),\"\n",
    "\"`t_name` VARCHAR(20) NOT NULL DEFAULT '',\"\n",
    "\"PRIMARY KEY (`t_id`))\")\n",
    "\n",
    "TABLES['Score'] = (\n",
    "\"CREATE TABLE `Score` (\"\n",
    "\"`s_id` VARCHAR(20),\"\n",
    "\"`c_id` VARCHAR(20),\"\n",
    "\"`s_score` INT(3),\"\n",
    "\"PRIMARY KEY (`s_id`,`c_id`))\")"
   ]
  },
  {
   "cell_type": "code",
   "execution_count": 25,
   "metadata": {},
   "outputs": [
    {
     "name": "stdout",
     "output_type": "stream",
     "text": [
      "Create table Student talbe Student already exist\n",
      "Create table Course talbe Course already exist\n",
      "Create table Teacher OK\n",
      "Create table Score OK\n"
     ]
    }
   ],
   "source": [
    "for table_name in TABLES:\n",
    "    table_description = TABLES[table_name]\n",
    "    try:\n",
    "        print(\"Create table {}\".format(table_name),end=' ')\n",
    "        cursor.execute(table_description)\n",
    "    except mysql.connector.Error as err:\n",
    "        if err.errno == errorcode.ER_TABLE_EXISTS_ERROR:\n",
    "            print(\"talbe {} already exist\".format(table_name))\n",
    "        else:\n",
    "            print(err.msg)\n",
    "    else:\n",
    "        print(\"OK\")"
   ]
  },
  {
   "cell_type": "markdown",
   "metadata": {},
   "source": [
    "# Show table in current database"
   ]
  },
  {
   "cell_type": "code",
   "execution_count": 7,
   "metadata": {},
   "outputs": [
    {
     "name": "stdout",
     "output_type": "stream",
     "text": [
      "('course',)\n",
      "('score',)\n",
      "('student',)\n",
      "('teacher',)\n"
     ]
    }
   ],
   "source": [
    "cursor.execute(\"SHOW TABLES\")\n",
    "for x in cursor.fetchall():\n",
    "    print(x)"
   ]
  },
  {
   "cell_type": "markdown",
   "metadata": {},
   "source": [
    "# Insert Data\n",
    "\n",
    "- you must commit the data after a sequence of INSERT, DELETE, and UPDATE statements."
   ]
  },
  {
   "cell_type": "code",
   "execution_count": 55,
   "metadata": {},
   "outputs": [],
   "source": [
    "add_student = (\"INSERT INTO Student\"\n",
    "              \"(s_id, s_name, s_birth, s_sex)\"\n",
    "              \"VALUES (%s, %s, %s, %s)\" )\n",
    "\n",
    "add_course = (\"INSERT IGNORE INTO Course\"\n",
    "             \"(c_id, c_name, t_id)\"\n",
    "             \"VALUES (%s, %s, %s)\" )\n",
    "\n",
    "add_teacher = (\"INSERT INTO Teacher\"\n",
    "              \"(t_id, t_name)\"\n",
    "              \"VALUES (%s, %s)\")\n",
    "\n",
    "add_score = (\"INSERT INTO Score\"\n",
    "            \"(s_id, c_id, s_score)\"\n",
    "            \"Values (%s, %s, %s)\")\n",
    "\n",
    "data_student = [('01' , '赵雷' , '1990-01-01' , '男'),\n",
    "               ('02' , '钱电' , '1990-12-21' , '男'),\n",
    "               ('03' , '孙风' , '1990-05-20' , '男'),\n",
    "               ('04' , '李云' , '1990-08-06' , '男'),\n",
    "               ('05' , '周梅' , '1991-12-01' , '女'),\n",
    "               ('06' , '吴兰' , '1992-03-01' , '女'),\n",
    "               ('07' , '郑竹' , '1989-07-01' , '女'),\n",
    "               ('08' , '王菊' , '1990-01-20' , '女')]\n",
    "\n",
    "data_course = [('01' , '语文' , '02'),\n",
    "              ('02' , '数学' , '01'),\n",
    "              ('03' , '英语' , '03')]\n",
    "\n",
    "data_teacher = [('01' , '张三'),\n",
    "               ('02' , '李四'),\n",
    "               ('03' , '王五')]\n",
    "\n",
    "data_score = [('01' , '01' , 80),\n",
    "             ('01' , '02' , 90),\n",
    "             ('01' , '03' , 99),\n",
    "             ('02' , '01' , 70),\n",
    "             ('02' , '02' , 60),\n",
    "             ('02' , '03' , 80),\n",
    "             ('03' , '01' , 80),\n",
    "             ('03' , '02' , 80),\n",
    "             ('03' , '03' , 80),\n",
    "             ('04' , '01' , 50),\n",
    "             ('04' , '02' , 30),\n",
    "             ('04' , '03' , 20),\n",
    "             ('05' , '01' , 76),\n",
    "             ('05' , '02' , 87),\n",
    "             ('06' , '01' , 31),\n",
    "             ('06' , '03' , 34),\n",
    "             ('07' , '02' , 89),\n",
    "             ('07' , '03' , 98)]"
   ]
  },
  {
   "cell_type": "code",
   "execution_count": 42,
   "metadata": {},
   "outputs": [
    {
     "name": "stdout",
     "output_type": "stream",
     "text": [
      "8 was inserted.\n"
     ]
    }
   ],
   "source": [
    "# Insert student\n",
    "cursor.executemany(add_student, data_student)\n",
    "cnx.commit() \n",
    "print(cursor.rowcount, \"was inserted.\")"
   ]
  },
  {
   "cell_type": "code",
   "execution_count": 48,
   "metadata": {},
   "outputs": [
    {
     "name": "stdout",
     "output_type": "stream",
     "text": [
      "0 was inserted.\n"
     ]
    }
   ],
   "source": [
    "# Insert course\n",
    "cursor.executemany(add_course, data_course)\n",
    "cnx.commit()\n",
    "print(cursor.rowcount, \"was inserted.\")"
   ]
  },
  {
   "cell_type": "code",
   "execution_count": 50,
   "metadata": {},
   "outputs": [
    {
     "name": "stdout",
     "output_type": "stream",
     "text": [
      "3 was inserted.\n"
     ]
    }
   ],
   "source": [
    "# Insert teacher\n",
    "cursor.executemany(add_teacher, data_teacher)\n",
    "cnx.commit()\n",
    "print(cursor.rowcount, \"was inserted.\")"
   ]
  },
  {
   "cell_type": "code",
   "execution_count": 56,
   "metadata": {},
   "outputs": [
    {
     "name": "stdout",
     "output_type": "stream",
     "text": [
      "18 was inserted.\n"
     ]
    }
   ],
   "source": [
    "# Insert score\n",
    "cursor.executemany(add_score, data_score)\n",
    "cnx.commit()\n",
    "print(cursor.rowcount, \"was inserted.\")"
   ]
  },
  {
   "cell_type": "markdown",
   "metadata": {},
   "source": [
    "# Show table content"
   ]
  },
  {
   "cell_type": "code",
   "execution_count": 8,
   "metadata": {},
   "outputs": [
    {
     "name": "stdout",
     "output_type": "stream",
     "text": [
      "('01', '赵雷', '1990-01-01', '男')\n",
      "('02', '钱电', '1990-12-21', '男')\n",
      "('03', '孙风', '1990-05-20', '男')\n",
      "('04', '李云', '1990-08-06', '男')\n",
      "('05', '周梅', '1991-12-01', '女')\n",
      "('06', '吴兰', '1992-03-01', '女')\n",
      "('07', '郑竹', '1989-07-01', '女')\n",
      "('08', '王菊', '1990-01-20', '女')\n"
     ]
    }
   ],
   "source": [
    "cursor.execute(\"SELECT * FROM Student\")\n",
    "for x in cursor.fetchall():\n",
    "    print(x)"
   ]
  },
  {
   "cell_type": "code",
   "execution_count": 10,
   "metadata": {},
   "outputs": [
    {
     "name": "stdout",
     "output_type": "stream",
     "text": [
      "('01', '语文', '02')\n",
      "('02', '数学', '01')\n",
      "('03', '英语', '03')\n"
     ]
    }
   ],
   "source": [
    "cursor.execute(\"SELECT * FROM Course\")\n",
    "for x in cursor.fetchall():\n",
    "    print(x)"
   ]
  },
  {
   "cell_type": "code",
   "execution_count": 11,
   "metadata": {},
   "outputs": [
    {
     "name": "stdout",
     "output_type": "stream",
     "text": [
      "('01', '张三')\n",
      "('02', '李四')\n",
      "('03', '王五')\n"
     ]
    }
   ],
   "source": [
    "cursor.execute(\"SELECT * FROM Teacher\")\n",
    "for x in cursor.fetchall():\n",
    "    print(x)"
   ]
  },
  {
   "cell_type": "code",
   "execution_count": 12,
   "metadata": {},
   "outputs": [
    {
     "name": "stdout",
     "output_type": "stream",
     "text": [
      "('01', '01', 80)\n",
      "('01', '02', 90)\n",
      "('01', '03', 99)\n",
      "('02', '01', 70)\n",
      "('02', '02', 60)\n",
      "('02', '03', 80)\n",
      "('03', '01', 80)\n",
      "('03', '02', 80)\n",
      "('03', '03', 80)\n",
      "('04', '01', 50)\n",
      "('04', '02', 30)\n",
      "('04', '03', 20)\n",
      "('05', '01', 76)\n",
      "('05', '02', 87)\n",
      "('06', '01', 31)\n",
      "('06', '03', 34)\n",
      "('07', '02', 89)\n",
      "('07', '03', 98)\n"
     ]
    }
   ],
   "source": [
    "cursor.execute(\"SELECT * FROM Score\")\n",
    "for x in cursor.fetchall():\n",
    "    print(x)"
   ]
  },
  {
   "cell_type": "code",
   "execution_count": 9,
   "metadata": {},
   "outputs": [],
   "source": [
    "def run_query(query):\n",
    "    cursor.execute(query)\n",
    "    for x in cursor.fetchall():\n",
    "        print(x)"
   ]
  },
  {
   "cell_type": "markdown",
   "metadata": {},
   "source": [
    "# Q1 \n",
    "- 查询课程编号为“01”的课程比“02”的课程成绩高的所有学生的学号（重点）"
   ]
  },
  {
   "cell_type": "code",
   "execution_count": 15,
   "metadata": {},
   "outputs": [
    {
     "name": "stdout",
     "output_type": "stream",
     "text": [
      "('02', '钱电', '1990-12-21', '男', 70, 60)\n",
      "('04', '李云', '1990-08-06', '男', 50, 30)\n"
     ]
    }
   ],
   "source": [
    "# 构建三个表， 答案其实是查询了学生的所有个人信息，不止学号\n",
    "query = (\"SELECT st.*, a.s_score, b.s_score \" # nothic the white space before \"\n",
    "        \"FROM Student st \"\n",
    "        \"INNER JOIN (SELECT s_id, s_score FROM Score WHERE c_id = '01') a ON st.s_id = a.s_id \"\n",
    "        \"INNER JOIN (SELECT s_id, s_score FROM Score WHERE c_id = '02') b ON a.s_id = b.s_id \"\n",
    "        \"WHERE a.s_score > b.s_score\")\n",
    "\n",
    "cursor.execute(query)\n",
    "for x in cursor.fetchall():\n",
    "    print(x)"
   ]
  },
  {
   "cell_type": "code",
   "execution_count": 16,
   "metadata": {},
   "outputs": [
    {
     "name": "stdout",
     "output_type": "stream",
     "text": [
      "('02', 70, 60)\n",
      "('04', 50, 30)\n"
     ]
    }
   ],
   "source": [
    "# 只查询学号\n",
    "\n",
    "query = (\"SELECT a.s_id, a.s_score, b.s_score \"\n",
    "        \"FROM (SELECT s_id, s_score FROM Score WHERE c_id = '01') a \"\n",
    "        \"INNER JOIN (SELECT s_id, s_score FROM Score WHERE c_id = '02') b ON a.s_id = b.s_id \"\n",
    "        \"WHERE a.s_score > b.s_score\")\n",
    "\n",
    "cursor.execute(query)\n",
    "for x in cursor.fetchall():\n",
    "    print(x)"
   ]
  },
  {
   "cell_type": "markdown",
   "metadata": {},
   "source": [
    "# Q2\n",
    "- 查询平均成绩大于60分的学生的学号和平均成绩"
   ]
  },
  {
   "cell_type": "code",
   "execution_count": 10,
   "metadata": {},
   "outputs": [
    {
     "name": "stdout",
     "output_type": "stream",
     "text": [
      "('01', Decimal('89.6667'))\n",
      "('02', Decimal('70.0000'))\n",
      "('03', Decimal('80.0000'))\n",
      "('05', Decimal('81.5000'))\n",
      "('07', Decimal('93.5000'))\n"
     ]
    }
   ],
   "source": [
    "query = (\"SELECT sc.s_id, AVG(sc.s_score) \"\n",
    "        \"FROM Score sc \"\n",
    "        \"GROUP BY sc.s_id HAVING AVG(sc.s_score) > 60\")\n",
    "\n",
    "run_query(query)"
   ]
  },
  {
   "cell_type": "markdown",
   "metadata": {},
   "source": [
    "# Q2-2\n",
    "- 查询平均成绩小于60分的学生的学号,姓名和平均成绩"
   ]
  },
  {
   "cell_type": "code",
   "execution_count": 20,
   "metadata": {},
   "outputs": [
    {
     "name": "stdout",
     "output_type": "stream",
     "text": [
      "('04', '李云', Decimal('33.3333'))\n",
      "('06', '吴兰', Decimal('32.5000'))\n",
      "('08', '王菊', Decimal('0.0000'))\n"
     ]
    }
   ],
   "source": [
    "query = (\"SELECT st.s_id, st.s_name, AVG(IFNULL(sc.s_score,0)) as avg \"\n",
    "        \"FROM Student st \"\n",
    "        \"LEFT JOIN Score sc \"\n",
    "        \"ON st.s_id = sc.s_id \"\n",
    "        \"GROUP BY st.s_id \"\n",
    "        \"HAVING AVG(sc.s_score) IS NULL OR AVG(sc.s_score)< 60 \")\n",
    "\n",
    "run_query(query)"
   ]
  },
  {
   "cell_type": "markdown",
   "metadata": {},
   "source": [
    "# Q3\n",
    "- 查询所有学生的学号、姓名、选课数、总成绩（不重要）"
   ]
  },
  {
   "cell_type": "code",
   "execution_count": 22,
   "metadata": {},
   "outputs": [
    {
     "name": "stdout",
     "output_type": "stream",
     "text": [
      "('01', '赵雷', 3, Decimal('269'))\n",
      "('02', '钱电', 3, Decimal('210'))\n",
      "('03', '孙风', 3, Decimal('240'))\n",
      "('04', '李云', 3, Decimal('100'))\n",
      "('05', '周梅', 2, Decimal('163'))\n",
      "('06', '吴兰', 2, Decimal('65'))\n",
      "('07', '郑竹', 2, Decimal('187'))\n",
      "('08', '王菊', 0, None)\n"
     ]
    }
   ],
   "source": [
    "query = (\"SELECT st.s_id, st.s_name, COUNT(sc.c_id) AS CourseNum, SUM(sc.s_score) AS TotalScore \"\n",
    "        \"FROM Student st \"\n",
    "        \"LEFT JOIN Score sc \"\n",
    "        \"ON st.s_id = sc.s_id \"\n",
    "        \"GROUP BY st.s_id\")\n",
    "\n",
    "run_query(query)"
   ]
  },
  {
   "cell_type": "markdown",
   "metadata": {},
   "source": [
    "# Q4\n",
    "- 查询姓“猴”的老师的个数"
   ]
  },
  {
   "cell_type": "code",
   "execution_count": 24,
   "metadata": {},
   "outputs": [
    {
     "name": "stdout",
     "output_type": "stream",
     "text": [
      "(1,)\n"
     ]
    }
   ],
   "source": [
    "query = (\"SELECT COUNT(t_id) \"\n",
    "        \"FROM Teacher \"\n",
    "        \"WHERE t_name LIKE '张%'\")\n",
    "\n",
    "run_query(query)"
   ]
  },
  {
   "cell_type": "markdown",
   "metadata": {},
   "source": [
    "# Q5\n",
    "- 查询没学过“张三”老师课的学生的学号、姓名"
   ]
  },
  {
   "cell_type": "code",
   "execution_count": 26,
   "metadata": {},
   "outputs": [
    {
     "name": "stdout",
     "output_type": "stream",
     "text": [
      "('06', '吴兰')\n",
      "('08', '王菊')\n"
     ]
    }
   ],
   "source": [
    "query = (\"SELECT st.s_id, st.s_name \"\n",
    "        \"FROM Student st \"\n",
    "        \"WHERE st.s_id NOT IN \"\n",
    "        \"(SELECT sc.s_id FROM Score sc \"\n",
    "        \"LEFT JOIN Course co ON sc.c_id = co.c_id \"\n",
    "        \"LEFT JOIN Teacher te ON co.t_id = te.t_id \"\n",
    "        \"WHERE te.t_name = '张三')\")\n",
    "\n",
    "run_query(query)"
   ]
  },
  {
   "cell_type": "markdown",
   "metadata": {},
   "source": [
    "# Q6\n",
    "- 查询学过“张三”老师所教的所有课的同学的学号、姓名"
   ]
  },
  {
   "cell_type": "code",
   "execution_count": 34,
   "metadata": {},
   "outputs": [
    {
     "name": "stdout",
     "output_type": "stream",
     "text": [
      "('01', '赵雷')\n",
      "('02', '钱电')\n",
      "('03', '孙风')\n",
      "('04', '李云')\n",
      "('05', '周梅')\n",
      "('07', '郑竹')\n"
     ]
    }
   ],
   "source": [
    "query = (\"SELECT st.s_id, st.s_name \"\n",
    "        \"FROM Student st \"\n",
    "        \"WHERE st.s_id IN \"\n",
    "        \"(SELECT sc.s_id FROM Score sc \"\n",
    "        \"LEFT JOIN Course co ON sc.c_id = co.c_id \"\n",
    "        \"LEFT JOIN Teacher te ON co.t_id = te.t_id \"\n",
    "        \"WHERE te.t_name = '张三' )\")\n",
    "\n",
    "run_query(query)"
   ]
  },
  {
   "cell_type": "markdown",
   "metadata": {},
   "source": [
    "# Q7\n",
    "\n",
    "- 查询学过编号为“01”的课程并且也学过编号为“02”的课程的学生的学号、姓名（重点）"
   ]
  },
  {
   "cell_type": "code",
   "execution_count": 38,
   "metadata": {},
   "outputs": [
    {
     "name": "stdout",
     "output_type": "stream",
     "text": [
      "('01', '赵雷')\n",
      "('02', '钱电')\n",
      "('03', '孙风')\n",
      "('04', '李云')\n",
      "('05', '周梅')\n"
     ]
    }
   ],
   "source": [
    "query = (\"SELECT st.s_id, st.s_name \"\n",
    "        \"FROM Student st \"\n",
    "        \"WHERE st.s_id IN \"\n",
    "        \"(SELECT a.s_id FROM \"\n",
    "        \"(SELECT s_id, c_id FROM Score WHERE c_id = '01') a \"\n",
    "        \"INNER JOIN (SELECT s_id, c_id FROM Score WHERE c_id = '02') b \"\n",
    "        \"ON a.s_id = b.s_id)\" )\n",
    "\n",
    "run_query(query)"
   ]
  },
  {
   "cell_type": "markdown",
   "metadata": {},
   "source": [
    "# Q8\n",
    "- 查询课程编号为“02”的总成绩"
   ]
  },
  {
   "cell_type": "code",
   "execution_count": 39,
   "metadata": {},
   "outputs": [
    {
     "name": "stdout",
     "output_type": "stream",
     "text": [
      "(Decimal('436'),)\n"
     ]
    }
   ],
   "source": [
    "query = (\"SELECT SUM(s_score) \"\n",
    "        \"FROM Score \"\n",
    "        \"WHERE c_id = '02'\")\n",
    "\n",
    "run_query(query)"
   ]
  },
  {
   "cell_type": "markdown",
   "metadata": {},
   "source": [
    "# Q9\n",
    "- 查询所有课程成绩小于60分的学生的学号、姓名\n",
    "- same as Q2"
   ]
  },
  {
   "cell_type": "markdown",
   "metadata": {},
   "source": [
    "# Q10\n",
    "- 查询没有学全所有课的学生的学号、姓名"
   ]
  },
  {
   "cell_type": "code",
   "execution_count": 44,
   "metadata": {},
   "outputs": [
    {
     "name": "stdout",
     "output_type": "stream",
     "text": [
      "('05', '周梅', 2)\n",
      "('06', '吴兰', 2)\n",
      "('07', '郑竹', 2)\n",
      "('08', '王菊', 0)\n"
     ]
    }
   ],
   "source": [
    "query = (\"SELECT st.s_id, st.s_name, COUNT(sc.c_id) \"\n",
    "        \"FROM Student st \"\n",
    "        \"LEFT JOIN Score sc \"\n",
    "        \"ON st.s_id = sc.s_id \"\n",
    "        \"GROUP BY st.s_id \"\n",
    "        \"HAVING COUNT(sc.c_id) < (SELECT COUNT(DISTINCT c_id) FROM Course)\")\n",
    "\n",
    "run_query(query)"
   ]
  },
  {
   "cell_type": "markdown",
   "metadata": {},
   "source": [
    "# Q11\n",
    "- 查询至少有一门课与学号为“01”的学生所学课程相同的学生的学号和姓名（重点）"
   ]
  },
  {
   "cell_type": "code",
   "execution_count": 46,
   "metadata": {},
   "outputs": [
    {
     "name": "stdout",
     "output_type": "stream",
     "text": [
      "('02', '钱电')\n",
      "('03', '孙风')\n",
      "('04', '李云')\n",
      "('05', '周梅')\n",
      "('06', '吴兰')\n",
      "('07', '郑竹')\n"
     ]
    }
   ],
   "source": [
    "# Method One: s_id from student in the condition\n",
    "# query = (\"SELECT DISTINCT st.s_id, st.s_name \"\n",
    "#         \"FROM Student st \"\n",
    "#         \"WHERE st.s_id IN \"\n",
    "#         \"(SELECT sc.s_id \"\n",
    "#         \"FROM Score sc \"\n",
    "#         \"WHERE c_id IN (SELECT c_id FROM Score WHERE s_id = '01') AND sc.s_id != '01' )\")\n",
    "\n",
    "# Method Two: JOIN\n",
    "query = (\"SELECT DISTINCT st.s_id, st.s_name \"\n",
    "        \"FROM Student st \"\n",
    "        \"INNER JOIN Score sc \"\n",
    "        \"ON st.s_id = sc.s_id \"\n",
    "        \"WHERE sc.c_id IN (SELECT c_id FROM Score WHERE s_id = '01')AND sc.s_id != '01' \")\n",
    "\n",
    "run_query(query)"
   ]
  },
  {
   "cell_type": "markdown",
   "metadata": {},
   "source": [
    "# Q12\n",
    "- 查询和“01”号同学所学课程完全相同的其他同学的学号(重点)"
   ]
  },
  {
   "cell_type": "code",
   "execution_count": null,
   "metadata": {},
   "outputs": [],
   "source": [
    "# Group_concat https://www.w3resource.com/mysql/mysql-tutorials.php\n",
    "query = (\"SELECT st.s_id, st.s_name\"\n",
    "        \"FROM Student st \"\n",
    "        \"INNER JOIN Score sc ON st.s_id = sc.s_id \"\n",
    "        \"GROUP BY sc.s_id HAVING GROUP_CONCAT()\")"
   ]
  },
  {
   "cell_type": "markdown",
   "metadata": {},
   "source": [
    "# Delete all row "
   ]
  },
  {
   "cell_type": "code",
   "execution_count": 39,
   "metadata": {},
   "outputs": [],
   "source": [
    "cursor.execute(\"DELETE FROM Student\")\n",
    "cnx.commit()"
   ]
  },
  {
   "cell_type": "markdown",
   "metadata": {},
   "source": [
    "# Disconnect with mysql server"
   ]
  },
  {
   "cell_type": "code",
   "execution_count": 59,
   "metadata": {},
   "outputs": [],
   "source": [
    "cursor.close()\n",
    "cnx.close()"
   ]
  }
 ],
 "metadata": {
  "kernelspec": {
   "display_name": "Python 3",
   "language": "python",
   "name": "python3"
  },
  "language_info": {
   "codemirror_mode": {
    "name": "ipython",
    "version": 3
   },
   "file_extension": ".py",
   "mimetype": "text/x-python",
   "name": "python",
   "nbconvert_exporter": "python",
   "pygments_lexer": "ipython3",
   "version": "3.7.0"
  },
  "toc": {
   "base_numbering": 1,
   "nav_menu": {},
   "number_sections": true,
   "sideBar": true,
   "skip_h1_title": false,
   "title_cell": "Table of Contents",
   "title_sidebar": "Contents",
   "toc_cell": false,
   "toc_position": {
    "height": "calc(100% - 180px)",
    "left": "10px",
    "top": "150px",
    "width": "307.2px"
   },
   "toc_section_display": true,
   "toc_window_display": true
  }
 },
 "nbformat": 4,
 "nbformat_minor": 2
}
